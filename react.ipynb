{
 "cells": [
  {
   "cell_type": "code",
   "execution_count": 1,
   "metadata": {},
   "outputs": [],
   "source": [
    "import getpass\n",
    "import os\n",
    "\n",
    "if \"AZURE_OPENAI_API_KEY\" not in os.environ:\n",
    "    os.environ[\"AZURE_OPENAI_API_KEY\"] = getpass.getpass(\n",
    "        \"Enter your AzureOpenAI API key: \"\n",
    "    )\n",
    "os.environ[\"AZURE_OPENAI_ENDPOINT\"]=\"https://hassanllms.openai.azure.com/\""
   ]
  },
  {
   "cell_type": "code",
   "execution_count": 2,
   "metadata": {},
   "outputs": [],
   "source": [
    "LANGCHAIN_TRACING_V2=\"true\"\n",
    "LANGCHAIN_ENDPOINT=\"https://api.smith.langchain.com\"\n",
    "LANGCHAIN_API_KEY=\"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\"\n",
    "LANGCHAIN_PROJECT=\"pr-aching-chess-83\"\n",
    "\n",
    "\n",
    "from langchain_openai import AzureChatOpenAI\n",
    "\n",
    "llm = AzureChatOpenAI(\n",
    "    azure_deployment=\"gpt-4o-mini\",  # or your deployment\n",
    "    api_version=\"2024-02-15-preview\",  # or your api version\n",
    "    temperature=0,\n",
    "    # other params...\n",
    ")"
   ]
  },
  {
   "cell_type": "code",
   "execution_count": 5,
   "metadata": {},
   "outputs": [
    {
     "name": "stdout",
     "output_type": "stream",
     "text": [
      "(46, 3)\n",
      "['Department', 'Category', 'Question']\n"
     ]
    }
   ],
   "source": [
    "import pandas as pd\n",
    "\n",
    "df = pd.read_csv(\"MaturityCheck.csv\")\n",
    "print(df.shape)\n",
    "print(df.columns.tolist())"
   ]
  },
  {
   "cell_type": "code",
   "execution_count": 10,
   "metadata": {},
   "outputs": [],
   "source": [
    "from langchain_community.utilities import SQLDatabase\n",
    "from sqlalchemy import create_engine\n",
    "\n",
    "engine = create_engine(\"sqlite:///CompanyDB_test.db\")"
   ]
  },
  {
   "cell_type": "code",
   "execution_count": 7,
   "metadata": {},
   "outputs": [
    {
     "data": {
      "text/plain": [
       "46"
      ]
     },
     "execution_count": 7,
     "metadata": {},
     "output_type": "execute_result"
    }
   ],
   "source": [
    "df.to_sql(\"CompanyDBTable1\", engine, index=False)"
   ]
  },
  {
   "cell_type": "code",
   "execution_count": 11,
   "metadata": {},
   "outputs": [
    {
     "name": "stdout",
     "output_type": "stream",
     "text": [
      "sqlite\n",
      "['CompanyDBTable1']\n"
     ]
    }
   ],
   "source": [
    "db = SQLDatabase(engine=engine)\n",
    "print(db.dialect)\n",
    "print(db.get_usable_table_names())"
   ]
  },
  {
   "cell_type": "code",
   "execution_count": 12,
   "metadata": {},
   "outputs": [
    {
     "data": {
      "text/plain": [
       "[QuerySQLDataBaseTool(description=\"Input to this tool is a detailed and correct SQL query, output is a result from the database. If the query is not correct, an error message will be returned. If an error is returned, rewrite the query, check the query, and try again. If you encounter an issue with Unknown column 'xxxx' in 'field list', use sql_db_schema to query the correct table fields.\", db=<langchain_community.utilities.sql_database.SQLDatabase object at 0x000002A5225C7AD0>),\n",
       " InfoSQLDatabaseTool(description='Input to this tool is a comma-separated list of tables, output is the schema and sample rows for those tables. Be sure that the tables actually exist by calling sql_db_list_tables first! Example Input: table1, table2, table3', db=<langchain_community.utilities.sql_database.SQLDatabase object at 0x000002A5225C7AD0>),\n",
       " ListSQLDatabaseTool(db=<langchain_community.utilities.sql_database.SQLDatabase object at 0x000002A5225C7AD0>),\n",
       " QuerySQLCheckerTool(description='Use this tool to double check if your query is correct before executing it. Always use this tool before executing a query with sql_db_query!', db=<langchain_community.utilities.sql_database.SQLDatabase object at 0x000002A5225C7AD0>, llm=AzureChatOpenAI(client=<openai.resources.chat.completions.Completions object at 0x000002A521E164E0>, async_client=<openai.resources.chat.completions.AsyncCompletions object at 0x000002A521E302C0>, root_client=<openai.lib.azure.AzureOpenAI object at 0x000002A521AEA1B0>, root_async_client=<openai.lib.azure.AsyncAzureOpenAI object at 0x000002A521E14950>, temperature=0.0, model_kwargs={}, openai_api_key=SecretStr('**********'), disabled_params={'parallel_tool_calls': None}, azure_endpoint='https://hassanllms.openai.azure.com/', deployment_name='gpt-4o-mini', openai_api_version='2024-02-15-preview', openai_api_type='azure'), llm_chain=LLMChain(verbose=False, prompt=PromptTemplate(input_variables=['dialect', 'query'], input_types={}, partial_variables={}, template='\\n{query}\\nDouble check the {dialect} query above for common mistakes, including:\\n- Using NOT IN with NULL values\\n- Using UNION when UNION ALL should have been used\\n- Using BETWEEN for exclusive ranges\\n- Data type mismatch in predicates\\n- Properly quoting identifiers\\n- Using the correct number of arguments for functions\\n- Casting to the correct data type\\n- Using the proper columns for joins\\n\\nIf there are any of the above mistakes, rewrite the query. If there are no mistakes, just reproduce the original query.\\n\\nOutput the final SQL query only.\\n\\nSQL Query: '), llm=AzureChatOpenAI(client=<openai.resources.chat.completions.Completions object at 0x000002A521E164E0>, async_client=<openai.resources.chat.completions.AsyncCompletions object at 0x000002A521E302C0>, root_client=<openai.lib.azure.AzureOpenAI object at 0x000002A521AEA1B0>, root_async_client=<openai.lib.azure.AsyncAzureOpenAI object at 0x000002A521E14950>, temperature=0.0, model_kwargs={}, openai_api_key=SecretStr('**********'), disabled_params={'parallel_tool_calls': None}, azure_endpoint='https://hassanllms.openai.azure.com/', deployment_name='gpt-4o-mini', openai_api_version='2024-02-15-preview', openai_api_type='azure'), output_parser=StrOutputParser(), llm_kwargs={}))]"
      ]
     },
     "execution_count": 12,
     "metadata": {},
     "output_type": "execute_result"
    }
   ],
   "source": [
    "from langchain_community.agent_toolkits import SQLDatabaseToolkit\n",
    "\n",
    "toolkit = SQLDatabaseToolkit(db=db, llm=llm)\n",
    "\n",
    "tools = toolkit.get_tools()\n",
    "\n",
    "tools"
   ]
  },
  {
   "cell_type": "code",
   "execution_count": 14,
   "metadata": {},
   "outputs": [],
   "source": [
    "from langchain_core.messages import SystemMessage\n",
    "\n",
    "# SQL_PREFIX = \"\"\"You are an agent designed to interact with a SQL database.\n",
    "# Given an input , create a syntactically correct sqlite query to run, then look at the results of the query and return the answer.You are an intelligent interview bot conducting a maturity assessment. You have access to a SQLite database with a 'MaturityTable' table (columns: Department, Category, Question).\n",
    "\n",
    "\n",
    "# IMPORTANT: You must ONLY ask questions that were retrieved from the database. Do not generate new questions.\n",
    "\n",
    "# IMPORTANT INSTRUCTIONS:\n",
    "# 1. When you first interact with a user:\n",
    "#    - Extract their name, email, and department from their message\n",
    "#    - Use this SQL query to get all questions for their department:\n",
    "#      SELECT Category, Question FROM MaturityCheck WHERE Department = ? ORDER BY Category;\n",
    "#    - Store these questions in your context for the conversation\n",
    "\n",
    "# 2. After getting the questions:\n",
    "#    - Ask questions one at a time\n",
    "#    - Wait for the user's response before asking the next question\n",
    "#    - Group questions by category and introduce each category\n",
    "#    - Keep track of which questions you've asked\n",
    "#    - Don't repeat questions that have been answered\n",
    "\n",
    "# 3. For each response:\n",
    "#    - Briefly acknowledge the answer\n",
    "#    - Move to the next question\n",
    "#    - When finishing a category, introduce the next one\"\"\"\n",
    "\n",
    "SQL_PREFIX = \"\"\"You are an intelligent assessment bot designed to conduct a maturity assessment for different departments. You'll guide users through a series of questions to evaluate their department's maturity level.\n",
    "\n",
    "Initial Greeting:\n",
    "When a user first connects, introduce yourself and explain:\n",
    "1. The purpose of this assessment (evaluating department maturity)\n",
    "2. What to expect (series of questions grouped by categories)\n",
    "3. That their responses will be saved for analysis\n",
    "4. Ask for their name, email, and department to begin\n",
    "\n",
    "Database Instructions:\n",
    "You have access to a SQLite database with a 'MaturityDBTable1' table containing department-specific questions. Only ask questions from this database.\n",
    "\n",
    "IMPORTANT WORKFLOW:\n",
    "1. First Interaction:\n",
    "   - Warmly greet the user and explain the process\n",
    "   - Extract their name, email, and department\n",
    "   - Use this SQL query to get their department's questions:\n",
    "     SELECT Category, Question FROM MaturityDBTable1 WHERE Department = ? ORDER BY Category;\n",
    "   - Store these questions for the conversation\n",
    "\n",
    "2. Question Flow:\n",
    "   - Before starting questions, explain which categories will be covered\n",
    "   - Group questions by category\n",
    "   - Introduce each new category before its questions\n",
    "   - Ask one question at a time\n",
    "   - Wait for user response before proceeding\n",
    "   - Keep track of asked questions to avoid repetition\n",
    "\n",
    "3. Response Handling:\n",
    "   - Acknowledge each answer briefly\n",
    "   - Transition smoothly to the next question\n",
    "   - When switching categories, announce the new category\n",
    "   - At the end, thank the user and explain that their responses have been recorded\n",
    "\n",
    "Remember to maintain a professional yet friendly tone throughout the assessment.\"\"\"\n",
    "\n",
    "\n",
    "system_message = SystemMessage(content=SQL_PREFIX)"
   ]
  },
  {
   "cell_type": "code",
   "execution_count": 9,
   "metadata": {},
   "outputs": [],
   "source": [
    "%%capture --no-stderr\n",
    "%pip install --upgrade --quiet langgraph"
   ]
  },
  {
   "cell_type": "code",
   "execution_count": 15,
   "metadata": {},
   "outputs": [
    {
     "name": "stderr",
     "output_type": "stream",
     "text": [
      "C:\\Users\\Hamza\\AppData\\Local\\Temp\\ipykernel_3332\\3246979625.py:8: LangGraphDeprecationWarning: Parameter 'messages_modifier' in function 'create_react_agent' is deprecated as of version 0.1.9 and will be removed in version 0.3.0. Use 'state_modifier' parameter instead.\n",
      "  agent_executor = create_react_agent(llm, tools, messages_modifier=system_message,\n"
     ]
    }
   ],
   "source": [
    "from langchain_core.messages import HumanMessage\n",
    "from langgraph.prebuilt import create_react_agent\n",
    "\n",
    "from langgraph.checkpoint.memory import MemorySaver\n",
    "\n",
    "memory = MemorySaver()\n",
    "\n",
    "agent_executor = create_react_agent(llm, tools, messages_modifier=system_message,\n",
    "                                    checkpointer=memory)\n",
    "\n",
    "config = {\"configurable\": {\"thread_id\": \"abc123\"}}\n"
   ]
  },
  {
   "cell_type": "code",
   "execution_count": 20,
   "metadata": {},
   "outputs": [
    {
     "name": "stdout",
     "output_type": "stream",
     "text": [
      "{'serde': <langgraph.checkpoint.serde.jsonplus.JsonPlusSerializer object at 0x000002A52268F770>, 'storage': defaultdict(<function MemorySaver.__init__.<locals>.<lambda> at 0x000002A51F16BD80>, {'abc123': defaultdict(<class 'dict'>, {'': {'1ef94e5c-f2e0-6482-bfff-222f85b08f8e': (('msgpack', b'\\x86\\xa1v\\x01\\xa2ts\\xd9 2024-10-28T04:33:41.609587+00:00\\xa2id\\xd9$1ef94e5c-f2e0-6482-bfff-222f85b08f8e\\xaechannel_values\\x81\\xa9__start__\\x81\\xa8messages\\x91\\xc7\\xf1\\x05\\x94\\xbdlangchain_core.messages.human\\xacHumanMessage\\x87\\xa7content\\xd9bmy name is Bhatti, and I am from the technical architecture department, my email is batt@gmail.com\\xb1additional_kwargs\\x80\\xb1response_metadata\\x80\\xa4type\\xa5human\\xa4name\\xc0\\xa2id\\xc0\\xa7example\\xc2\\xb3model_validate_json\\xb0channel_versions\\x81\\xa9__start__\\xd9300000000000000000000000000000001.0.6022676831889675\\xadversions_seen\\x81\\xa9__input__\\x80'), ('msgpack', b'\\x84\\xa6source\\xa5input\\xa6writes\\x81\\xa9__start__\\x81\\xa8messages\\x91\\xc7\\xf1\\x05\\x94\\xbdlangchain_core.messages.human\\xacHumanMessage\\x87\\xa7content\\xd9bmy name is Bhatti, and I am from the technical architecture department, my email is batt@gmail.com\\xb1additional_kwargs\\x80\\xb1response_metadata\\x80\\xa4type\\xa5human\\xa4name\\xc0\\xa2id\\xc0\\xa7example\\xc2\\xb3model_validate_json\\xa4step\\xff\\xa7parents\\x80'), None), '1ef94e5c-f2ea-6398-8000-b19f6d590b78': (('msgpack', b'\\x86\\xa1v\\x01\\xa2ts\\xd9 2024-10-28T04:33:41.613660+00:00\\xa2id\\xd9$1ef94e5c-f2ea-6398-8000-b19f6d590b78\\xaechannel_values\\x82\\xa8messages\\x91\\xc8\\x01\\x16\\x05\\x94\\xbdlangchain_core.messages.human\\xacHumanMessage\\x87\\xa7content\\xd9bmy name is Bhatti, and I am from the technical architecture department, my email is batt@gmail.com\\xb1additional_kwargs\\x80\\xb1response_metadata\\x80\\xa4type\\xa5human\\xa4name\\xc0\\xa2id\\xd9$1a770244-4b69-49cd-abe7-c1b57c7ee003\\xa7example\\xc2\\xb3model_validate_json\\xabstart:agent\\xa9__start__\\xb0channel_versions\\x83\\xa9__start__\\xd9300000000000000000000000000000002.0.5902666558653081\\xa8messages\\xd9300000000000000000000000000000002.0.8838302510262551\\xabstart:agent\\xd9300000000000000000000000000000002.0.5316941953470653\\xadversions_seen\\x82\\xa9__input__\\x80\\xa9__start__\\x81\\xa9__start__\\xd9300000000000000000000000000000001.0.6022676831889675'), ('msgpack', b'\\x84\\xa6source\\xa4loop\\xa6writes\\xc0\\xa4step\\x00\\xa7parents\\x80'), '1ef94e5c-f2e0-6482-bfff-222f85b08f8e'), '1ef94e5d-03ae-68d0-8001-532799f7ab95': (('msgpack', b'\\x86\\xa1v\\x01\\xa2ts\\xd9 2024-10-28T04:33:43.371796+00:00\\xa2id\\xd9$1ef94e5d-03ae-68d0-8001-532799f7ab95\\xaechannel_values\\x83\\xa8messages\\x92\\xc8\\x01\\x16\\x05\\x94\\xbdlangchain_core.messages.human\\xacHumanMessage\\x87\\xa7content\\xd9bmy name is Bhatti, and I am from the technical architecture department, my email is batt@gmail.com\\xb1additional_kwargs\\x80\\xb1response_metadata\\x80\\xa4type\\xa5human\\xa4name\\xc0\\xa2id\\xd9$1a770244-4b69-49cd-abe7-c1b57c7ee003\\xa7example\\xc2\\xb3model_validate_json\\xc8\\x04\\x14\\x05\\x94\\xbalangchain_core.messages.ai\\xa9AIMessage\\x8a\\xa7content\\xa0\\xb1additional_kwargs\\x82\\xaatool_calls\\x91\\x83\\xa2id\\xbdcall_k36KvLNC8Izp0mZTCbvJ7y9T\\xa8function\\x82\\xa9arguments\\xd9z{\"query\":\"SELECT Category, Question FROM MaturityDBTable1 WHERE Department = \\'technical architecture\\' ORDER BY Category;\"}\\xa4name\\xb4sql_db_query_checker\\xa4type\\xa8function\\xa7refusal\\xc0\\xb1response_metadata\\x87\\xabtoken_usage\\x85\\xb1completion_tokens$\\xadprompt_tokens\\xcd\\x02\\x9e\\xactotal_tokens\\xcd\\x02\\xc2\\xb9completion_tokens_details\\xc0\\xb5prompt_tokens_details\\xc0\\xaamodel_name\\xabgpt-4o-mini\\xb2system_fingerprint\\xadfp_d54531d9eb\\xb5prompt_filter_results\\x91\\x82\\xacprompt_index\\x00\\xb6content_filter_results\\x80\\xadfinish_reason\\xaatool_calls\\xa8logprobs\\xc0\\xb6content_filter_results\\x80\\xa4type\\xa2ai\\xa4name\\xc0\\xa2id\\xd9*run-0f98624f-3c54-413a-aada-b3f5eca64809-0\\xa7example\\xc2\\xaatool_calls\\x91\\x84\\xa4name\\xb4sql_db_query_checker\\xa4args\\x81\\xa5query\\xd9nSELECT Category, Question FROM MaturityDBTable1 WHERE Department = \\'technical architecture\\' ORDER BY Category;\\xa2id\\xbdcall_k36KvLNC8Izp0mZTCbvJ7y9T\\xa4type\\xa9tool_call\\xb2invalid_tool_calls\\x90\\xaeusage_metadata\\x85\\xacinput_tokens\\xcd\\x02\\x9e\\xadoutput_tokens$\\xactotal_tokens\\xcd\\x02\\xc2\\xb3input_token_details\\x80\\xb4output_token_details\\x80\\xb3model_validate_json\\xa5agent\\xa5agent\\xd9\"branch:agent:should_continue:tools\\xa5agent\\xb0channel_versions\\x85\\xa9__start__\\xd9300000000000000000000000000000002.0.5902666558653081\\xa8messages\\xd9400000000000000000000000000000003.0.28716961550513076\\xabstart:agent\\xd9300000000000000000000000000000003.0.7975517800028311\\xa5agent\\xd9300000000000000000000000000000003.0.4623894800590288\\xd9\"branch:agent:should_continue:tools\\xd9200000000000000000000000000000003.0.200703852901993\\xadversions_seen\\x83\\xa9__input__\\x80\\xa9__start__\\x81\\xa9__start__\\xd9300000000000000000000000000000001.0.6022676831889675\\xa5agent\\x81\\xabstart:agent\\xd9300000000000000000000000000000002.0.5316941953470653'), ('msgpack', b'\\x84\\xa6source\\xa4loop\\xa6writes\\x81\\xa5agent\\x81\\xa8messages\\x91\\xc8\\x04\\x14\\x05\\x94\\xbalangchain_core.messages.ai\\xa9AIMessage\\x8a\\xa7content\\xa0\\xb1additional_kwargs\\x82\\xaatool_calls\\x91\\x83\\xa2id\\xbdcall_k36KvLNC8Izp0mZTCbvJ7y9T\\xa8function\\x82\\xa9arguments\\xd9z{\"query\":\"SELECT Category, Question FROM MaturityDBTable1 WHERE Department = \\'technical architecture\\' ORDER BY Category;\"}\\xa4name\\xb4sql_db_query_checker\\xa4type\\xa8function\\xa7refusal\\xc0\\xb1response_metadata\\x87\\xabtoken_usage\\x85\\xb1completion_tokens$\\xadprompt_tokens\\xcd\\x02\\x9e\\xactotal_tokens\\xcd\\x02\\xc2\\xb9completion_tokens_details\\xc0\\xb5prompt_tokens_details\\xc0\\xaamodel_name\\xabgpt-4o-mini\\xb2system_fingerprint\\xadfp_d54531d9eb\\xb5prompt_filter_results\\x91\\x82\\xacprompt_index\\x00\\xb6content_filter_results\\x80\\xadfinish_reason\\xaatool_calls\\xa8logprobs\\xc0\\xb6content_filter_results\\x80\\xa4type\\xa2ai\\xa4name\\xc0\\xa2id\\xd9*run-0f98624f-3c54-413a-aada-b3f5eca64809-0\\xa7example\\xc2\\xaatool_calls\\x91\\x84\\xa4name\\xb4sql_db_query_checker\\xa4args\\x81\\xa5query\\xd9nSELECT Category, Question FROM MaturityDBTable1 WHERE Department = \\'technical architecture\\' ORDER BY Category;\\xa2id\\xbdcall_k36KvLNC8Izp0mZTCbvJ7y9T\\xa4type\\xa9tool_call\\xb2invalid_tool_calls\\x90\\xaeusage_metadata\\x85\\xacinput_tokens\\xcd\\x02\\x9e\\xadoutput_tokens$\\xactotal_tokens\\xcd\\x02\\xc2\\xb3input_token_details\\x80\\xb4output_token_details\\x80\\xb3model_validate_json\\xa4step\\x01\\xa7parents\\x80'), '1ef94e5c-f2ea-6398-8000-b19f6d590b78'), '1ef94e5d-0b10-62a6-8002-920356d45a36': (('msgpack', b'\\x86\\xa1v\\x01\\xa2ts\\xd9 2024-10-28T04:33:44.134819+00:00\\xa2id\\xd9$1ef94e5d-0b10-62a6-8002-920356d45a36\\xaechannel_values\\x82\\xa8messages\\x93\\xc8\\x01\\x16\\x05\\x94\\xbdlangchain_core.messages.human\\xacHumanMessage\\x87\\xa7content\\xd9bmy name is Bhatti, and I am from the technical architecture department, my email is batt@gmail.com\\xb1additional_kwargs\\x80\\xb1response_metadata\\x80\\xa4type\\xa5human\\xa4name\\xc0\\xa2id\\xd9$1a770244-4b69-49cd-abe7-c1b57c7ee003\\xa7example\\xc2\\xb3model_validate_json\\xc8\\x04\\x14\\x05\\x94\\xbalangchain_core.messages.ai\\xa9AIMessage\\x8a\\xa7content\\xa0\\xb1additional_kwargs\\x82\\xaatool_calls\\x91\\x83\\xa2id\\xbdcall_k36KvLNC8Izp0mZTCbvJ7y9T\\xa8function\\x82\\xa9arguments\\xd9z{\"query\":\"SELECT Category, Question FROM MaturityDBTable1 WHERE Department = \\'technical architecture\\' ORDER BY Category;\"}\\xa4name\\xb4sql_db_query_checker\\xa4type\\xa8function\\xa7refusal\\xc0\\xb1response_metadata\\x87\\xabtoken_usage\\x85\\xb1completion_tokens$\\xadprompt_tokens\\xcd\\x02\\x9e\\xactotal_tokens\\xcd\\x02\\xc2\\xb9completion_tokens_details\\xc0\\xb5prompt_tokens_details\\xc0\\xaamodel_name\\xabgpt-4o-mini\\xb2system_fingerprint\\xadfp_d54531d9eb\\xb5prompt_filter_results\\x91\\x82\\xacprompt_index\\x00\\xb6content_filter_results\\x80\\xadfinish_reason\\xaatool_calls\\xa8logprobs\\xc0\\xb6content_filter_results\\x80\\xa4type\\xa2ai\\xa4name\\xc0\\xa2id\\xd9*run-0f98624f-3c54-413a-aada-b3f5eca64809-0\\xa7example\\xc2\\xaatool_calls\\x91\\x84\\xa4name\\xb4sql_db_query_checker\\xa4args\\x81\\xa5query\\xd9nSELECT Category, Question FROM MaturityDBTable1 WHERE Department = \\'technical architecture\\' ORDER BY Category;\\xa2id\\xbdcall_k36KvLNC8Izp0mZTCbvJ7y9T\\xa4type\\xa9tool_call\\xb2invalid_tool_calls\\x90\\xaeusage_metadata\\x85\\xacinput_tokens\\xcd\\x02\\x9e\\xadoutput_tokens$\\xactotal_tokens\\xcd\\x02\\xc2\\xb3input_token_details\\x80\\xb4output_token_details\\x80\\xb3model_validate_json\\xc8\\x01y\\x05\\x94\\xbclangchain_core.messages.tool\\xabToolMessage\\x89\\xa7content\\xd9y```sql\\nSELECT Category, Question FROM MaturityDBTable1 WHERE Department = \\'technical architecture\\' ORDER BY Category;\\n```\\xb1additional_kwargs\\x80\\xb1response_metadata\\x80\\xa4type\\xa4tool\\xa4name\\xb4sql_db_query_checker\\xa2id\\xd9$5837c15f-5544-4e1d-b48e-23d7b8c0a840\\xactool_call_id\\xbdcall_k36KvLNC8Izp0mZTCbvJ7y9T\\xa8artifact\\xc0\\xa6status\\xa7success\\xb3model_validate_json\\xa5tools\\xa5tools\\xb0channel_versions\\x86\\xa9__start__\\xd9300000000000000000000000000000002.0.5902666558653081\\xa8messages\\xd9400000000000000000000000000000004.0.03445495022073697\\xabstart:agent\\xd9300000000000000000000000000000003.0.7975517800028311\\xa5agent\\xd9300000000000000000000000000000004.0.9829586969918283\\xd9\"branch:agent:should_continue:tools\\xd9300000000000000000000000000000004.0.7905893571896269\\xa5tools\\xd9300000000000000000000000000000004.0.6433845630534423\\xadversions_seen\\x84\\xa9__input__\\x80\\xa9__start__\\x81\\xa9__start__\\xd9300000000000000000000000000000001.0.6022676831889675\\xa5agent\\x81\\xabstart:agent\\xd9300000000000000000000000000000002.0.5316941953470653\\xa5tools\\x81\\xd9\"branch:agent:should_continue:tools\\xd9200000000000000000000000000000003.0.200703852901993'), ('msgpack', b\"\\x84\\xa6source\\xa4loop\\xa6writes\\x81\\xa5tools\\x81\\xa8messages\\x91\\xc8\\x01y\\x05\\x94\\xbclangchain_core.messages.tool\\xabToolMessage\\x89\\xa7content\\xd9y```sql\\nSELECT Category, Question FROM MaturityDBTable1 WHERE Department = 'technical architecture' ORDER BY Category;\\n```\\xb1additional_kwargs\\x80\\xb1response_metadata\\x80\\xa4type\\xa4tool\\xa4name\\xb4sql_db_query_checker\\xa2id\\xd9$5837c15f-5544-4e1d-b48e-23d7b8c0a840\\xactool_call_id\\xbdcall_k36KvLNC8Izp0mZTCbvJ7y9T\\xa8artifact\\xc0\\xa6status\\xa7success\\xb3model_validate_json\\xa4step\\x02\\xa7parents\\x80\"), '1ef94e5d-03ae-68d0-8001-532799f7ab95'), '1ef94e5d-12dc-62f1-8003-2893c12df21b': (('msgpack', b'\\x86\\xa1v\\x01\\xa2ts\\xd9 2024-10-28T04:33:44.963352+00:00\\xa2id\\xd9$1ef94e5d-12dc-62f1-8003-2893c12df21b\\xaechannel_values\\x83\\xa8messages\\x94\\xc8\\x01\\x16\\x05\\x94\\xbdlangchain_core.messages.human\\xacHumanMessage\\x87\\xa7content\\xd9bmy name is Bhatti, and I am from the technical architecture department, my email is batt@gmail.com\\xb1additional_kwargs\\x80\\xb1response_metadata\\x80\\xa4type\\xa5human\\xa4name\\xc0\\xa2id\\xd9$1a770244-4b69-49cd-abe7-c1b57c7ee003\\xa7example\\xc2\\xb3model_validate_json\\xc8\\x04\\x14\\x05\\x94\\xbalangchain_core.messages.ai\\xa9AIMessage\\x8a\\xa7content\\xa0\\xb1additional_kwargs\\x82\\xaatool_calls\\x91\\x83\\xa2id\\xbdcall_k36KvLNC8Izp0mZTCbvJ7y9T\\xa8function\\x82\\xa9arguments\\xd9z{\"query\":\"SELECT Category, Question FROM MaturityDBTable1 WHERE Department = \\'technical architecture\\' ORDER BY Category;\"}\\xa4name\\xb4sql_db_query_checker\\xa4type\\xa8function\\xa7refusal\\xc0\\xb1response_metadata\\x87\\xabtoken_usage\\x85\\xb1completion_tokens$\\xadprompt_tokens\\xcd\\x02\\x9e\\xactotal_tokens\\xcd\\x02\\xc2\\xb9completion_tokens_details\\xc0\\xb5prompt_tokens_details\\xc0\\xaamodel_name\\xabgpt-4o-mini\\xb2system_fingerprint\\xadfp_d54531d9eb\\xb5prompt_filter_results\\x91\\x82\\xacprompt_index\\x00\\xb6content_filter_results\\x80\\xadfinish_reason\\xaatool_calls\\xa8logprobs\\xc0\\xb6content_filter_results\\x80\\xa4type\\xa2ai\\xa4name\\xc0\\xa2id\\xd9*run-0f98624f-3c54-413a-aada-b3f5eca64809-0\\xa7example\\xc2\\xaatool_calls\\x91\\x84\\xa4name\\xb4sql_db_query_checker\\xa4args\\x81\\xa5query\\xd9nSELECT Category, Question FROM MaturityDBTable1 WHERE Department = \\'technical architecture\\' ORDER BY Category;\\xa2id\\xbdcall_k36KvLNC8Izp0mZTCbvJ7y9T\\xa4type\\xa9tool_call\\xb2invalid_tool_calls\\x90\\xaeusage_metadata\\x85\\xacinput_tokens\\xcd\\x02\\x9e\\xadoutput_tokens$\\xactotal_tokens\\xcd\\x02\\xc2\\xb3input_token_details\\x80\\xb4output_token_details\\x80\\xb3model_validate_json\\xc8\\x01y\\x05\\x94\\xbclangchain_core.messages.tool\\xabToolMessage\\x89\\xa7content\\xd9y```sql\\nSELECT Category, Question FROM MaturityDBTable1 WHERE Department = \\'technical architecture\\' ORDER BY Category;\\n```\\xb1additional_kwargs\\x80\\xb1response_metadata\\x80\\xa4type\\xa4tool\\xa4name\\xb4sql_db_query_checker\\xa2id\\xd9$5837c15f-5544-4e1d-b48e-23d7b8c0a840\\xactool_call_id\\xbdcall_k36KvLNC8Izp0mZTCbvJ7y9T\\xa8artifact\\xc0\\xa6status\\xa7success\\xb3model_validate_json\\xc8\\x04\\x04\\x05\\x94\\xbalangchain_core.messages.ai\\xa9AIMessage\\x8a\\xa7content\\xa0\\xb1additional_kwargs\\x82\\xaatool_calls\\x91\\x83\\xa2id\\xbdcall_lRH4CpGpCzqrkqpblnaT9FRX\\xa8function\\x82\\xa9arguments\\xd9z{\"query\":\"SELECT Category, Question FROM MaturityDBTable1 WHERE Department = \\'technical architecture\\' ORDER BY Category;\"}\\xa4name\\xacsql_db_query\\xa4type\\xa8function\\xa7refusal\\xc0\\xb1response_metadata\\x87\\xabtoken_usage\\x85\\xb1completion_tokens#\\xadprompt_tokens\\xcd\\x02\\xe5\\xactotal_tokens\\xcd\\x03\\x08\\xb9completion_tokens_details\\xc0\\xb5prompt_tokens_details\\xc0\\xaamodel_name\\xabgpt-4o-mini\\xb2system_fingerprint\\xadfp_d54531d9eb\\xb5prompt_filter_results\\x91\\x82\\xacprompt_index\\x00\\xb6content_filter_results\\x80\\xadfinish_reason\\xaatool_calls\\xa8logprobs\\xc0\\xb6content_filter_results\\x80\\xa4type\\xa2ai\\xa4name\\xc0\\xa2id\\xd9*run-f0133a0b-5473-4b62-a28a-e131d6e8fca4-0\\xa7example\\xc2\\xaatool_calls\\x91\\x84\\xa4name\\xacsql_db_query\\xa4args\\x81\\xa5query\\xd9nSELECT Category, Question FROM MaturityDBTable1 WHERE Department = \\'technical architecture\\' ORDER BY Category;\\xa2id\\xbdcall_lRH4CpGpCzqrkqpblnaT9FRX\\xa4type\\xa9tool_call\\xb2invalid_tool_calls\\x90\\xaeusage_metadata\\x85\\xacinput_tokens\\xcd\\x02\\xe5\\xadoutput_tokens#\\xactotal_tokens\\xcd\\x03\\x08\\xb3input_token_details\\x80\\xb4output_token_details\\x80\\xb3model_validate_json\\xa5agent\\xa5agent\\xd9\"branch:agent:should_continue:tools\\xa5agent\\xb0channel_versions\\x86\\xa9__start__\\xd9300000000000000000000000000000002.0.5902666558653081\\xa8messages\\xd9300000000000000000000000000000005.0.5156823257938653\\xabstart:agent\\xd9300000000000000000000000000000003.0.7975517800028311\\xa5agent\\xd9400000000000000000000000000000005.0.49991682974986273\\xd9\"branch:agent:should_continue:tools\\xd9300000000000000000000000000000005.0.7088282530958683\\xa5tools\\xd9300000000000000000000000000000005.0.7414224062306883\\xadversions_seen\\x84\\xa9__input__\\x80\\xa9__start__\\x81\\xa9__start__\\xd9300000000000000000000000000000001.0.6022676831889675\\xa5agent\\x82\\xabstart:agent\\xd9300000000000000000000000000000002.0.5316941953470653\\xa5tools\\xd9300000000000000000000000000000004.0.6433845630534423\\xa5tools\\x81\\xd9\"branch:agent:should_continue:tools\\xd9200000000000000000000000000000003.0.200703852901993'), ('msgpack', b'\\x84\\xa6source\\xa4loop\\xa6writes\\x81\\xa5agent\\x81\\xa8messages\\x91\\xc8\\x04\\x04\\x05\\x94\\xbalangchain_core.messages.ai\\xa9AIMessage\\x8a\\xa7content\\xa0\\xb1additional_kwargs\\x82\\xaatool_calls\\x91\\x83\\xa2id\\xbdcall_lRH4CpGpCzqrkqpblnaT9FRX\\xa8function\\x82\\xa9arguments\\xd9z{\"query\":\"SELECT Category, Question FROM MaturityDBTable1 WHERE Department = \\'technical architecture\\' ORDER BY Category;\"}\\xa4name\\xacsql_db_query\\xa4type\\xa8function\\xa7refusal\\xc0\\xb1response_metadata\\x87\\xabtoken_usage\\x85\\xb1completion_tokens#\\xadprompt_tokens\\xcd\\x02\\xe5\\xactotal_tokens\\xcd\\x03\\x08\\xb9completion_tokens_details\\xc0\\xb5prompt_tokens_details\\xc0\\xaamodel_name\\xabgpt-4o-mini\\xb2system_fingerprint\\xadfp_d54531d9eb\\xb5prompt_filter_results\\x91\\x82\\xacprompt_index\\x00\\xb6content_filter_results\\x80\\xadfinish_reason\\xaatool_calls\\xa8logprobs\\xc0\\xb6content_filter_results\\x80\\xa4type\\xa2ai\\xa4name\\xc0\\xa2id\\xd9*run-f0133a0b-5473-4b62-a28a-e131d6e8fca4-0\\xa7example\\xc2\\xaatool_calls\\x91\\x84\\xa4name\\xacsql_db_query\\xa4args\\x81\\xa5query\\xd9nSELECT Category, Question FROM MaturityDBTable1 WHERE Department = \\'technical architecture\\' ORDER BY Category;\\xa2id\\xbdcall_lRH4CpGpCzqrkqpblnaT9FRX\\xa4type\\xa9tool_call\\xb2invalid_tool_calls\\x90\\xaeusage_metadata\\x85\\xacinput_tokens\\xcd\\x02\\xe5\\xadoutput_tokens#\\xactotal_tokens\\xcd\\x03\\x08\\xb3input_token_details\\x80\\xb4output_token_details\\x80\\xb3model_validate_json\\xa4step\\x03\\xa7parents\\x80'), '1ef94e5d-0b10-62a6-8002-920356d45a36'), '1ef94e5d-130f-61ab-8004-8ac892c8bde9': (('msgpack', b'\\x86\\xa1v\\x01\\xa2ts\\xd9 2024-10-28T04:33:44.984209+00:00\\xa2id\\xd9$1ef94e5d-130f-61ab-8004-8ac892c8bde9\\xaechannel_values\\x82\\xa8messages\\x95\\xc8\\x01\\x16\\x05\\x94\\xbdlangchain_core.messages.human\\xacHumanMessage\\x87\\xa7content\\xd9bmy name is Bhatti, and I am from the technical architecture department, my email is batt@gmail.com\\xb1additional_kwargs\\x80\\xb1response_metadata\\x80\\xa4type\\xa5human\\xa4name\\xc0\\xa2id\\xd9$1a770244-4b69-49cd-abe7-c1b57c7ee003\\xa7example\\xc2\\xb3model_validate_json\\xc8\\x04\\x14\\x05\\x94\\xbalangchain_core.messages.ai\\xa9AIMessage\\x8a\\xa7content\\xa0\\xb1additional_kwargs\\x82\\xaatool_calls\\x91\\x83\\xa2id\\xbdcall_k36KvLNC8Izp0mZTCbvJ7y9T\\xa8function\\x82\\xa9arguments\\xd9z{\"query\":\"SELECT Category, Question FROM MaturityDBTable1 WHERE Department = \\'technical architecture\\' ORDER BY Category;\"}\\xa4name\\xb4sql_db_query_checker\\xa4type\\xa8function\\xa7refusal\\xc0\\xb1response_metadata\\x87\\xabtoken_usage\\x85\\xb1completion_tokens$\\xadprompt_tokens\\xcd\\x02\\x9e\\xactotal_tokens\\xcd\\x02\\xc2\\xb9completion_tokens_details\\xc0\\xb5prompt_tokens_details\\xc0\\xaamodel_name\\xabgpt-4o-mini\\xb2system_fingerprint\\xadfp_d54531d9eb\\xb5prompt_filter_results\\x91\\x82\\xacprompt_index\\x00\\xb6content_filter_results\\x80\\xadfinish_reason\\xaatool_calls\\xa8logprobs\\xc0\\xb6content_filter_results\\x80\\xa4type\\xa2ai\\xa4name\\xc0\\xa2id\\xd9*run-0f98624f-3c54-413a-aada-b3f5eca64809-0\\xa7example\\xc2\\xaatool_calls\\x91\\x84\\xa4name\\xb4sql_db_query_checker\\xa4args\\x81\\xa5query\\xd9nSELECT Category, Question FROM MaturityDBTable1 WHERE Department = \\'technical architecture\\' ORDER BY Category;\\xa2id\\xbdcall_k36KvLNC8Izp0mZTCbvJ7y9T\\xa4type\\xa9tool_call\\xb2invalid_tool_calls\\x90\\xaeusage_metadata\\x85\\xacinput_tokens\\xcd\\x02\\x9e\\xadoutput_tokens$\\xactotal_tokens\\xcd\\x02\\xc2\\xb3input_token_details\\x80\\xb4output_token_details\\x80\\xb3model_validate_json\\xc8\\x01y\\x05\\x94\\xbclangchain_core.messages.tool\\xabToolMessage\\x89\\xa7content\\xd9y```sql\\nSELECT Category, Question FROM MaturityDBTable1 WHERE Department = \\'technical architecture\\' ORDER BY Category;\\n```\\xb1additional_kwargs\\x80\\xb1response_metadata\\x80\\xa4type\\xa4tool\\xa4name\\xb4sql_db_query_checker\\xa2id\\xd9$5837c15f-5544-4e1d-b48e-23d7b8c0a840\\xactool_call_id\\xbdcall_k36KvLNC8Izp0mZTCbvJ7y9T\\xa8artifact\\xc0\\xa6status\\xa7success\\xb3model_validate_json\\xc8\\x04\\x04\\x05\\x94\\xbalangchain_core.messages.ai\\xa9AIMessage\\x8a\\xa7content\\xa0\\xb1additional_kwargs\\x82\\xaatool_calls\\x91\\x83\\xa2id\\xbdcall_lRH4CpGpCzqrkqpblnaT9FRX\\xa8function\\x82\\xa9arguments\\xd9z{\"query\":\"SELECT Category, Question FROM MaturityDBTable1 WHERE Department = \\'technical architecture\\' ORDER BY Category;\"}\\xa4name\\xacsql_db_query\\xa4type\\xa8function\\xa7refusal\\xc0\\xb1response_metadata\\x87\\xabtoken_usage\\x85\\xb1completion_tokens#\\xadprompt_tokens\\xcd\\x02\\xe5\\xactotal_tokens\\xcd\\x03\\x08\\xb9completion_tokens_details\\xc0\\xb5prompt_tokens_details\\xc0\\xaamodel_name\\xabgpt-4o-mini\\xb2system_fingerprint\\xadfp_d54531d9eb\\xb5prompt_filter_results\\x91\\x82\\xacprompt_index\\x00\\xb6content_filter_results\\x80\\xadfinish_reason\\xaatool_calls\\xa8logprobs\\xc0\\xb6content_filter_results\\x80\\xa4type\\xa2ai\\xa4name\\xc0\\xa2id\\xd9*run-f0133a0b-5473-4b62-a28a-e131d6e8fca4-0\\xa7example\\xc2\\xaatool_calls\\x91\\x84\\xa4name\\xacsql_db_query\\xa4args\\x81\\xa5query\\xd9nSELECT Category, Question FROM MaturityDBTable1 WHERE Department = \\'technical architecture\\' ORDER BY Category;\\xa2id\\xbdcall_lRH4CpGpCzqrkqpblnaT9FRX\\xa4type\\xa9tool_call\\xb2invalid_tool_calls\\x90\\xaeusage_metadata\\x85\\xacinput_tokens\\xcd\\x02\\xe5\\xadoutput_tokens#\\xactotal_tokens\\xcd\\x03\\x08\\xb3input_token_details\\x80\\xb4output_token_details\\x80\\xb3model_validate_json\\xc8\\x01\\xec\\x05\\x94\\xbclangchain_core.messages.tool\\xabToolMessage\\x89\\xa7content\\xd9\\xf4Error: (sqlite3.OperationalError) no such table: MaturityDBTable1\\n[SQL: SELECT Category, Question FROM MaturityDBTable1 WHERE Department = \\'technical architecture\\' ORDER BY Category;]\\n(Background on this error at: https://sqlalche.me/e/20/e3q8)\\xb1additional_kwargs\\x80\\xb1response_metadata\\x80\\xa4type\\xa4tool\\xa4name\\xacsql_db_query\\xa2id\\xd9$4a6bfd53-2e9e-45bd-9ee8-efc26faa44f3\\xactool_call_id\\xbdcall_lRH4CpGpCzqrkqpblnaT9FRX\\xa8artifact\\xc0\\xa6status\\xa7success\\xb3model_validate_json\\xa5tools\\xa5tools\\xb0channel_versions\\x86\\xa9__start__\\xd9300000000000000000000000000000002.0.5902666558653081\\xa8messages\\xd9300000000000000000000000000000006.0.5297968851813593\\xabstart:agent\\xd9300000000000000000000000000000003.0.7975517800028311\\xa5agent\\xd9200000000000000000000000000000006.0.874722891568936\\xd9\"branch:agent:should_continue:tools\\xd9400000000000000000000000000000006.0.15595734870697087\\xa5tools\\xd9200000000000000000000000000000006.0.607797419963429\\xadversions_seen\\x84\\xa9__input__\\x80\\xa9__start__\\x81\\xa9__start__\\xd9300000000000000000000000000000001.0.6022676831889675\\xa5agent\\x82\\xabstart:agent\\xd9300000000000000000000000000000002.0.5316941953470653\\xa5tools\\xd9300000000000000000000000000000004.0.6433845630534423\\xa5tools\\x81\\xd9\"branch:agent:should_continue:tools\\xd9300000000000000000000000000000005.0.7088282530958683'), ('msgpack', b\"\\x84\\xa6source\\xa4loop\\xa6writes\\x81\\xa5tools\\x81\\xa8messages\\x91\\xc8\\x01\\xec\\x05\\x94\\xbclangchain_core.messages.tool\\xabToolMessage\\x89\\xa7content\\xd9\\xf4Error: (sqlite3.OperationalError) no such table: MaturityDBTable1\\n[SQL: SELECT Category, Question FROM MaturityDBTable1 WHERE Department = 'technical architecture' ORDER BY Category;]\\n(Background on this error at: https://sqlalche.me/e/20/e3q8)\\xb1additional_kwargs\\x80\\xb1response_metadata\\x80\\xa4type\\xa4tool\\xa4name\\xacsql_db_query\\xa2id\\xd9$4a6bfd53-2e9e-45bd-9ee8-efc26faa44f3\\xactool_call_id\\xbdcall_lRH4CpGpCzqrkqpblnaT9FRX\\xa8artifact\\xc0\\xa6status\\xa7success\\xb3model_validate_json\\xa4step\\x04\\xa7parents\\x80\"), '1ef94e5d-12dc-62f1-8003-2893c12df21b'), '1ef94e5d-18ed-6da5-8005-3587ac0d11d5': (('msgpack', b'\\x86\\xa1v\\x01\\xa2ts\\xd9 2024-10-28T04:33:45.599734+00:00\\xa2id\\xd9$1ef94e5d-18ed-6da5-8005-3587ac0d11d5\\xaechannel_values\\x83\\xa8messages\\x96\\xc8\\x01\\x16\\x05\\x94\\xbdlangchain_core.messages.human\\xacHumanMessage\\x87\\xa7content\\xd9bmy name is Bhatti, and I am from the technical architecture department, my email is batt@gmail.com\\xb1additional_kwargs\\x80\\xb1response_metadata\\x80\\xa4type\\xa5human\\xa4name\\xc0\\xa2id\\xd9$1a770244-4b69-49cd-abe7-c1b57c7ee003\\xa7example\\xc2\\xb3model_validate_json\\xc8\\x04\\x14\\x05\\x94\\xbalangchain_core.messages.ai\\xa9AIMessage\\x8a\\xa7content\\xa0\\xb1additional_kwargs\\x82\\xaatool_calls\\x91\\x83\\xa2id\\xbdcall_k36KvLNC8Izp0mZTCbvJ7y9T\\xa8function\\x82\\xa9arguments\\xd9z{\"query\":\"SELECT Category, Question FROM MaturityDBTable1 WHERE Department = \\'technical architecture\\' ORDER BY Category;\"}\\xa4name\\xb4sql_db_query_checker\\xa4type\\xa8function\\xa7refusal\\xc0\\xb1response_metadata\\x87\\xabtoken_usage\\x85\\xb1completion_tokens$\\xadprompt_tokens\\xcd\\x02\\x9e\\xactotal_tokens\\xcd\\x02\\xc2\\xb9completion_tokens_details\\xc0\\xb5prompt_tokens_details\\xc0\\xaamodel_name\\xabgpt-4o-mini\\xb2system_fingerprint\\xadfp_d54531d9eb\\xb5prompt_filter_results\\x91\\x82\\xacprompt_index\\x00\\xb6content_filter_results\\x80\\xadfinish_reason\\xaatool_calls\\xa8logprobs\\xc0\\xb6content_filter_results\\x80\\xa4type\\xa2ai\\xa4name\\xc0\\xa2id\\xd9*run-0f98624f-3c54-413a-aada-b3f5eca64809-0\\xa7example\\xc2\\xaatool_calls\\x91\\x84\\xa4name\\xb4sql_db_query_checker\\xa4args\\x81\\xa5query\\xd9nSELECT Category, Question FROM MaturityDBTable1 WHERE Department = \\'technical architecture\\' ORDER BY Category;\\xa2id\\xbdcall_k36KvLNC8Izp0mZTCbvJ7y9T\\xa4type\\xa9tool_call\\xb2invalid_tool_calls\\x90\\xaeusage_metadata\\x85\\xacinput_tokens\\xcd\\x02\\x9e\\xadoutput_tokens$\\xactotal_tokens\\xcd\\x02\\xc2\\xb3input_token_details\\x80\\xb4output_token_details\\x80\\xb3model_validate_json\\xc8\\x01y\\x05\\x94\\xbclangchain_core.messages.tool\\xabToolMessage\\x89\\xa7content\\xd9y```sql\\nSELECT Category, Question FROM MaturityDBTable1 WHERE Department = \\'technical architecture\\' ORDER BY Category;\\n```\\xb1additional_kwargs\\x80\\xb1response_metadata\\x80\\xa4type\\xa4tool\\xa4name\\xb4sql_db_query_checker\\xa2id\\xd9$5837c15f-5544-4e1d-b48e-23d7b8c0a840\\xactool_call_id\\xbdcall_k36KvLNC8Izp0mZTCbvJ7y9T\\xa8artifact\\xc0\\xa6status\\xa7success\\xb3model_validate_json\\xc8\\x04\\x04\\x05\\x94\\xbalangchain_core.messages.ai\\xa9AIMessage\\x8a\\xa7content\\xa0\\xb1additional_kwargs\\x82\\xaatool_calls\\x91\\x83\\xa2id\\xbdcall_lRH4CpGpCzqrkqpblnaT9FRX\\xa8function\\x82\\xa9arguments\\xd9z{\"query\":\"SELECT Category, Question FROM MaturityDBTable1 WHERE Department = \\'technical architecture\\' ORDER BY Category;\"}\\xa4name\\xacsql_db_query\\xa4type\\xa8function\\xa7refusal\\xc0\\xb1response_metadata\\x87\\xabtoken_usage\\x85\\xb1completion_tokens#\\xadprompt_tokens\\xcd\\x02\\xe5\\xactotal_tokens\\xcd\\x03\\x08\\xb9completion_tokens_details\\xc0\\xb5prompt_tokens_details\\xc0\\xaamodel_name\\xabgpt-4o-mini\\xb2system_fingerprint\\xadfp_d54531d9eb\\xb5prompt_filter_results\\x91\\x82\\xacprompt_index\\x00\\xb6content_filter_results\\x80\\xadfinish_reason\\xaatool_calls\\xa8logprobs\\xc0\\xb6content_filter_results\\x80\\xa4type\\xa2ai\\xa4name\\xc0\\xa2id\\xd9*run-f0133a0b-5473-4b62-a28a-e131d6e8fca4-0\\xa7example\\xc2\\xaatool_calls\\x91\\x84\\xa4name\\xacsql_db_query\\xa4args\\x81\\xa5query\\xd9nSELECT Category, Question FROM MaturityDBTable1 WHERE Department = \\'technical architecture\\' ORDER BY Category;\\xa2id\\xbdcall_lRH4CpGpCzqrkqpblnaT9FRX\\xa4type\\xa9tool_call\\xb2invalid_tool_calls\\x90\\xaeusage_metadata\\x85\\xacinput_tokens\\xcd\\x02\\xe5\\xadoutput_tokens#\\xactotal_tokens\\xcd\\x03\\x08\\xb3input_token_details\\x80\\xb4output_token_details\\x80\\xb3model_validate_json\\xc8\\x01\\xec\\x05\\x94\\xbclangchain_core.messages.tool\\xabToolMessage\\x89\\xa7content\\xd9\\xf4Error: (sqlite3.OperationalError) no such table: MaturityDBTable1\\n[SQL: SELECT Category, Question FROM MaturityDBTable1 WHERE Department = \\'technical architecture\\' ORDER BY Category;]\\n(Background on this error at: https://sqlalche.me/e/20/e3q8)\\xb1additional_kwargs\\x80\\xb1response_metadata\\x80\\xa4type\\xa4tool\\xa4name\\xacsql_db_query\\xa2id\\xd9$4a6bfd53-2e9e-45bd-9ee8-efc26faa44f3\\xactool_call_id\\xbdcall_lRH4CpGpCzqrkqpblnaT9FRX\\xa8artifact\\xc0\\xa6status\\xa7success\\xb3model_validate_json\\xc8\\x03!\\x05\\x94\\xbalangchain_core.messages.ai\\xa9AIMessage\\x8a\\xa7content\\xa0\\xb1additional_kwargs\\x82\\xaatool_calls\\x91\\x83\\xa2id\\xbdcall_WSmOM5QG1PhT4EtaisGfdzBW\\xa8function\\x82\\xa9arguments\\xa2{}\\xa4name\\xb2sql_db_list_tables\\xa4type\\xa8function\\xa7refusal\\xc0\\xb1response_metadata\\x87\\xabtoken_usage\\x85\\xb1completion_tokens\\x0c\\xadprompt_tokens\\xcd\\x03R\\xactotal_tokens\\xcd\\x03^\\xb9completion_tokens_details\\xc0\\xb5prompt_tokens_details\\xc0\\xaamodel_name\\xabgpt-4o-mini\\xb2system_fingerprint\\xadfp_d54531d9eb\\xb5prompt_filter_results\\x91\\x82\\xacprompt_index\\x00\\xb6content_filter_results\\x80\\xadfinish_reason\\xaatool_calls\\xa8logprobs\\xc0\\xb6content_filter_results\\x80\\xa4type\\xa2ai\\xa4name\\xc0\\xa2id\\xd9*run-fc1e14eb-432c-4b83-8bab-b2ab2017e203-0\\xa7example\\xc2\\xaatool_calls\\x91\\x84\\xa4name\\xb2sql_db_list_tables\\xa4args\\x80\\xa2id\\xbdcall_WSmOM5QG1PhT4EtaisGfdzBW\\xa4type\\xa9tool_call\\xb2invalid_tool_calls\\x90\\xaeusage_metadata\\x85\\xacinput_tokens\\xcd\\x03R\\xadoutput_tokens\\x0c\\xactotal_tokens\\xcd\\x03^\\xb3input_token_details\\x80\\xb4output_token_details\\x80\\xb3model_validate_json\\xa5agent\\xa5agent\\xd9\"branch:agent:should_continue:tools\\xa5agent\\xb0channel_versions\\x86\\xa9__start__\\xd9300000000000000000000000000000002.0.5902666558653081\\xa8messages\\xd9400000000000000000000000000000007.0.39924214397095903\\xabstart:agent\\xd9300000000000000000000000000000003.0.7975517800028311\\xa5agent\\xd9300000000000000000000000000000007.0.9285508239330881\\xd9\"branch:agent:should_continue:tools\\xd9300000000000000000000000000000007.0.8575576990801459\\xa5tools\\xd9200000000000000000000000000000007.0.850740295211346\\xadversions_seen\\x84\\xa9__input__\\x80\\xa9__start__\\x81\\xa9__start__\\xd9300000000000000000000000000000001.0.6022676831889675\\xa5agent\\x82\\xabstart:agent\\xd9300000000000000000000000000000002.0.5316941953470653\\xa5tools\\xd9200000000000000000000000000000006.0.607797419963429\\xa5tools\\x81\\xd9\"branch:agent:should_continue:tools\\xd9300000000000000000000000000000005.0.7088282530958683'), ('msgpack', b'\\x84\\xa6source\\xa4loop\\xa6writes\\x81\\xa5agent\\x81\\xa8messages\\x91\\xc8\\x03!\\x05\\x94\\xbalangchain_core.messages.ai\\xa9AIMessage\\x8a\\xa7content\\xa0\\xb1additional_kwargs\\x82\\xaatool_calls\\x91\\x83\\xa2id\\xbdcall_WSmOM5QG1PhT4EtaisGfdzBW\\xa8function\\x82\\xa9arguments\\xa2{}\\xa4name\\xb2sql_db_list_tables\\xa4type\\xa8function\\xa7refusal\\xc0\\xb1response_metadata\\x87\\xabtoken_usage\\x85\\xb1completion_tokens\\x0c\\xadprompt_tokens\\xcd\\x03R\\xactotal_tokens\\xcd\\x03^\\xb9completion_tokens_details\\xc0\\xb5prompt_tokens_details\\xc0\\xaamodel_name\\xabgpt-4o-mini\\xb2system_fingerprint\\xadfp_d54531d9eb\\xb5prompt_filter_results\\x91\\x82\\xacprompt_index\\x00\\xb6content_filter_results\\x80\\xadfinish_reason\\xaatool_calls\\xa8logprobs\\xc0\\xb6content_filter_results\\x80\\xa4type\\xa2ai\\xa4name\\xc0\\xa2id\\xd9*run-fc1e14eb-432c-4b83-8bab-b2ab2017e203-0\\xa7example\\xc2\\xaatool_calls\\x91\\x84\\xa4name\\xb2sql_db_list_tables\\xa4args\\x80\\xa2id\\xbdcall_WSmOM5QG1PhT4EtaisGfdzBW\\xa4type\\xa9tool_call\\xb2invalid_tool_calls\\x90\\xaeusage_metadata\\x85\\xacinput_tokens\\xcd\\x03R\\xadoutput_tokens\\x0c\\xactotal_tokens\\xcd\\x03^\\xb3input_token_details\\x80\\xb4output_token_details\\x80\\xb3model_validate_json\\xa4step\\x05\\xa7parents\\x80'), '1ef94e5d-130f-61ab-8004-8ac892c8bde9'), '1ef94e5d-1910-6074-8006-5bcd1343658e': (('msgpack', b'\\x86\\xa1v\\x01\\xa2ts\\xd9 2024-10-28T04:33:45.613733+00:00\\xa2id\\xd9$1ef94e5d-1910-6074-8006-5bcd1343658e\\xaechannel_values\\x82\\xa8messages\\x97\\xc8\\x01\\x16\\x05\\x94\\xbdlangchain_core.messages.human\\xacHumanMessage\\x87\\xa7content\\xd9bmy name is Bhatti, and I am from the technical architecture department, my email is batt@gmail.com\\xb1additional_kwargs\\x80\\xb1response_metadata\\x80\\xa4type\\xa5human\\xa4name\\xc0\\xa2id\\xd9$1a770244-4b69-49cd-abe7-c1b57c7ee003\\xa7example\\xc2\\xb3model_validate_json\\xc8\\x04\\x14\\x05\\x94\\xbalangchain_core.messages.ai\\xa9AIMessage\\x8a\\xa7content\\xa0\\xb1additional_kwargs\\x82\\xaatool_calls\\x91\\x83\\xa2id\\xbdcall_k36KvLNC8Izp0mZTCbvJ7y9T\\xa8function\\x82\\xa9arguments\\xd9z{\"query\":\"SELECT Category, Question FROM MaturityDBTable1 WHERE Department = \\'technical architecture\\' ORDER BY Category;\"}\\xa4name\\xb4sql_db_query_checker\\xa4type\\xa8function\\xa7refusal\\xc0\\xb1response_metadata\\x87\\xabtoken_usage\\x85\\xb1completion_tokens$\\xadprompt_tokens\\xcd\\x02\\x9e\\xactotal_tokens\\xcd\\x02\\xc2\\xb9completion_tokens_details\\xc0\\xb5prompt_tokens_details\\xc0\\xaamodel_name\\xabgpt-4o-mini\\xb2system_fingerprint\\xadfp_d54531d9eb\\xb5prompt_filter_results\\x91\\x82\\xacprompt_index\\x00\\xb6content_filter_results\\x80\\xadfinish_reason\\xaatool_calls\\xa8logprobs\\xc0\\xb6content_filter_results\\x80\\xa4type\\xa2ai\\xa4name\\xc0\\xa2id\\xd9*run-0f98624f-3c54-413a-aada-b3f5eca64809-0\\xa7example\\xc2\\xaatool_calls\\x91\\x84\\xa4name\\xb4sql_db_query_checker\\xa4args\\x81\\xa5query\\xd9nSELECT Category, Question FROM MaturityDBTable1 WHERE Department = \\'technical architecture\\' ORDER BY Category;\\xa2id\\xbdcall_k36KvLNC8Izp0mZTCbvJ7y9T\\xa4type\\xa9tool_call\\xb2invalid_tool_calls\\x90\\xaeusage_metadata\\x85\\xacinput_tokens\\xcd\\x02\\x9e\\xadoutput_tokens$\\xactotal_tokens\\xcd\\x02\\xc2\\xb3input_token_details\\x80\\xb4output_token_details\\x80\\xb3model_validate_json\\xc8\\x01y\\x05\\x94\\xbclangchain_core.messages.tool\\xabToolMessage\\x89\\xa7content\\xd9y```sql\\nSELECT Category, Question FROM MaturityDBTable1 WHERE Department = \\'technical architecture\\' ORDER BY Category;\\n```\\xb1additional_kwargs\\x80\\xb1response_metadata\\x80\\xa4type\\xa4tool\\xa4name\\xb4sql_db_query_checker\\xa2id\\xd9$5837c15f-5544-4e1d-b48e-23d7b8c0a840\\xactool_call_id\\xbdcall_k36KvLNC8Izp0mZTCbvJ7y9T\\xa8artifact\\xc0\\xa6status\\xa7success\\xb3model_validate_json\\xc8\\x04\\x04\\x05\\x94\\xbalangchain_core.messages.ai\\xa9AIMessage\\x8a\\xa7content\\xa0\\xb1additional_kwargs\\x82\\xaatool_calls\\x91\\x83\\xa2id\\xbdcall_lRH4CpGpCzqrkqpblnaT9FRX\\xa8function\\x82\\xa9arguments\\xd9z{\"query\":\"SELECT Category, Question FROM MaturityDBTable1 WHERE Department = \\'technical architecture\\' ORDER BY Category;\"}\\xa4name\\xacsql_db_query\\xa4type\\xa8function\\xa7refusal\\xc0\\xb1response_metadata\\x87\\xabtoken_usage\\x85\\xb1completion_tokens#\\xadprompt_tokens\\xcd\\x02\\xe5\\xactotal_tokens\\xcd\\x03\\x08\\xb9completion_tokens_details\\xc0\\xb5prompt_tokens_details\\xc0\\xaamodel_name\\xabgpt-4o-mini\\xb2system_fingerprint\\xadfp_d54531d9eb\\xb5prompt_filter_results\\x91\\x82\\xacprompt_index\\x00\\xb6content_filter_results\\x80\\xadfinish_reason\\xaatool_calls\\xa8logprobs\\xc0\\xb6content_filter_results\\x80\\xa4type\\xa2ai\\xa4name\\xc0\\xa2id\\xd9*run-f0133a0b-5473-4b62-a28a-e131d6e8fca4-0\\xa7example\\xc2\\xaatool_calls\\x91\\x84\\xa4name\\xacsql_db_query\\xa4args\\x81\\xa5query\\xd9nSELECT Category, Question FROM MaturityDBTable1 WHERE Department = \\'technical architecture\\' ORDER BY Category;\\xa2id\\xbdcall_lRH4CpGpCzqrkqpblnaT9FRX\\xa4type\\xa9tool_call\\xb2invalid_tool_calls\\x90\\xaeusage_metadata\\x85\\xacinput_tokens\\xcd\\x02\\xe5\\xadoutput_tokens#\\xactotal_tokens\\xcd\\x03\\x08\\xb3input_token_details\\x80\\xb4output_token_details\\x80\\xb3model_validate_json\\xc8\\x01\\xec\\x05\\x94\\xbclangchain_core.messages.tool\\xabToolMessage\\x89\\xa7content\\xd9\\xf4Error: (sqlite3.OperationalError) no such table: MaturityDBTable1\\n[SQL: SELECT Category, Question FROM MaturityDBTable1 WHERE Department = \\'technical architecture\\' ORDER BY Category;]\\n(Background on this error at: https://sqlalche.me/e/20/e3q8)\\xb1additional_kwargs\\x80\\xb1response_metadata\\x80\\xa4type\\xa4tool\\xa4name\\xacsql_db_query\\xa2id\\xd9$4a6bfd53-2e9e-45bd-9ee8-efc26faa44f3\\xactool_call_id\\xbdcall_lRH4CpGpCzqrkqpblnaT9FRX\\xa8artifact\\xc0\\xa6status\\xa7success\\xb3model_validate_json\\xc8\\x03!\\x05\\x94\\xbalangchain_core.messages.ai\\xa9AIMessage\\x8a\\xa7content\\xa0\\xb1additional_kwargs\\x82\\xaatool_calls\\x91\\x83\\xa2id\\xbdcall_WSmOM5QG1PhT4EtaisGfdzBW\\xa8function\\x82\\xa9arguments\\xa2{}\\xa4name\\xb2sql_db_list_tables\\xa4type\\xa8function\\xa7refusal\\xc0\\xb1response_metadata\\x87\\xabtoken_usage\\x85\\xb1completion_tokens\\x0c\\xadprompt_tokens\\xcd\\x03R\\xactotal_tokens\\xcd\\x03^\\xb9completion_tokens_details\\xc0\\xb5prompt_tokens_details\\xc0\\xaamodel_name\\xabgpt-4o-mini\\xb2system_fingerprint\\xadfp_d54531d9eb\\xb5prompt_filter_results\\x91\\x82\\xacprompt_index\\x00\\xb6content_filter_results\\x80\\xadfinish_reason\\xaatool_calls\\xa8logprobs\\xc0\\xb6content_filter_results\\x80\\xa4type\\xa2ai\\xa4name\\xc0\\xa2id\\xd9*run-fc1e14eb-432c-4b83-8bab-b2ab2017e203-0\\xa7example\\xc2\\xaatool_calls\\x91\\x84\\xa4name\\xb2sql_db_list_tables\\xa4args\\x80\\xa2id\\xbdcall_WSmOM5QG1PhT4EtaisGfdzBW\\xa4type\\xa9tool_call\\xb2invalid_tool_calls\\x90\\xaeusage_metadata\\x85\\xacinput_tokens\\xcd\\x03R\\xadoutput_tokens\\x0c\\xactotal_tokens\\xcd\\x03^\\xb3input_token_details\\x80\\xb4output_token_details\\x80\\xb3model_validate_json\\xc8\\x01\\x0c\\x05\\x94\\xbclangchain_core.messages.tool\\xabToolMessage\\x89\\xa7content\\xafCompanyDBTable1\\xb1additional_kwargs\\x80\\xb1response_metadata\\x80\\xa4type\\xa4tool\\xa4name\\xb2sql_db_list_tables\\xa2id\\xd9$8a94df67-2324-4666-a257-71a8e1574330\\xactool_call_id\\xbdcall_WSmOM5QG1PhT4EtaisGfdzBW\\xa8artifact\\xc0\\xa6status\\xa7success\\xb3model_validate_json\\xa5tools\\xa5tools\\xb0channel_versions\\x86\\xa9__start__\\xd9300000000000000000000000000000002.0.5902666558653081\\xa8messages\\xd9300000000000000000000000000000008.0.8844580326392966\\xabstart:agent\\xd9300000000000000000000000000000003.0.7975517800028311\\xa5agent\\xd9300000000000000000000000000000008.0.5542086093875811\\xd9\"branch:agent:should_continue:tools\\xd9200000000000000000000000000000008.0.424130087743137\\xa5tools\\xd9400000000000000000000000000000008.0.04225912181598279\\xadversions_seen\\x84\\xa9__input__\\x80\\xa9__start__\\x81\\xa9__start__\\xd9300000000000000000000000000000001.0.6022676831889675\\xa5agent\\x82\\xabstart:agent\\xd9300000000000000000000000000000002.0.5316941953470653\\xa5tools\\xd9200000000000000000000000000000006.0.607797419963429\\xa5tools\\x81\\xd9\"branch:agent:should_continue:tools\\xd9300000000000000000000000000000007.0.8575576990801459'), ('msgpack', b'\\x84\\xa6source\\xa4loop\\xa6writes\\x81\\xa5tools\\x81\\xa8messages\\x91\\xc8\\x01\\x0c\\x05\\x94\\xbclangchain_core.messages.tool\\xabToolMessage\\x89\\xa7content\\xafCompanyDBTable1\\xb1additional_kwargs\\x80\\xb1response_metadata\\x80\\xa4type\\xa4tool\\xa4name\\xb2sql_db_list_tables\\xa2id\\xd9$8a94df67-2324-4666-a257-71a8e1574330\\xactool_call_id\\xbdcall_WSmOM5QG1PhT4EtaisGfdzBW\\xa8artifact\\xc0\\xa6status\\xa7success\\xb3model_validate_json\\xa4step\\x06\\xa7parents\\x80'), '1ef94e5d-18ed-6da5-8005-3587ac0d11d5'), '1ef94e5d-213e-61d6-8007-66b1048b28b2': (('msgpack', b'\\x86\\xa1v\\x01\\xa2ts\\xd9 2024-10-28T04:33:46.471471+00:00\\xa2id\\xd9$1ef94e5d-213e-61d6-8007-66b1048b28b2\\xaechannel_values\\x83\\xa8messages\\x98\\xc8\\x01\\x16\\x05\\x94\\xbdlangchain_core.messages.human\\xacHumanMessage\\x87\\xa7content\\xd9bmy name is Bhatti, and I am from the technical architecture department, my email is batt@gmail.com\\xb1additional_kwargs\\x80\\xb1response_metadata\\x80\\xa4type\\xa5human\\xa4name\\xc0\\xa2id\\xd9$1a770244-4b69-49cd-abe7-c1b57c7ee003\\xa7example\\xc2\\xb3model_validate_json\\xc8\\x04\\x14\\x05\\x94\\xbalangchain_core.messages.ai\\xa9AIMessage\\x8a\\xa7content\\xa0\\xb1additional_kwargs\\x82\\xaatool_calls\\x91\\x83\\xa2id\\xbdcall_k36KvLNC8Izp0mZTCbvJ7y9T\\xa8function\\x82\\xa9arguments\\xd9z{\"query\":\"SELECT Category, Question FROM MaturityDBTable1 WHERE Department = \\'technical architecture\\' ORDER BY Category;\"}\\xa4name\\xb4sql_db_query_checker\\xa4type\\xa8function\\xa7refusal\\xc0\\xb1response_metadata\\x87\\xabtoken_usage\\x85\\xb1completion_tokens$\\xadprompt_tokens\\xcd\\x02\\x9e\\xactotal_tokens\\xcd\\x02\\xc2\\xb9completion_tokens_details\\xc0\\xb5prompt_tokens_details\\xc0\\xaamodel_name\\xabgpt-4o-mini\\xb2system_fingerprint\\xadfp_d54531d9eb\\xb5prompt_filter_results\\x91\\x82\\xacprompt_index\\x00\\xb6content_filter_results\\x80\\xadfinish_reason\\xaatool_calls\\xa8logprobs\\xc0\\xb6content_filter_results\\x80\\xa4type\\xa2ai\\xa4name\\xc0\\xa2id\\xd9*run-0f98624f-3c54-413a-aada-b3f5eca64809-0\\xa7example\\xc2\\xaatool_calls\\x91\\x84\\xa4name\\xb4sql_db_query_checker\\xa4args\\x81\\xa5query\\xd9nSELECT Category, Question FROM MaturityDBTable1 WHERE Department = \\'technical architecture\\' ORDER BY Category;\\xa2id\\xbdcall_k36KvLNC8Izp0mZTCbvJ7y9T\\xa4type\\xa9tool_call\\xb2invalid_tool_calls\\x90\\xaeusage_metadata\\x85\\xacinput_tokens\\xcd\\x02\\x9e\\xadoutput_tokens$\\xactotal_tokens\\xcd\\x02\\xc2\\xb3input_token_details\\x80\\xb4output_token_details\\x80\\xb3model_validate_json\\xc8\\x01y\\x05\\x94\\xbclangchain_core.messages.tool\\xabToolMessage\\x89\\xa7content\\xd9y```sql\\nSELECT Category, Question FROM MaturityDBTable1 WHERE Department = \\'technical architecture\\' ORDER BY Category;\\n```\\xb1additional_kwargs\\x80\\xb1response_metadata\\x80\\xa4type\\xa4tool\\xa4name\\xb4sql_db_query_checker\\xa2id\\xd9$5837c15f-5544-4e1d-b48e-23d7b8c0a840\\xactool_call_id\\xbdcall_k36KvLNC8Izp0mZTCbvJ7y9T\\xa8artifact\\xc0\\xa6status\\xa7success\\xb3model_validate_json\\xc8\\x04\\x04\\x05\\x94\\xbalangchain_core.messages.ai\\xa9AIMessage\\x8a\\xa7content\\xa0\\xb1additional_kwargs\\x82\\xaatool_calls\\x91\\x83\\xa2id\\xbdcall_lRH4CpGpCzqrkqpblnaT9FRX\\xa8function\\x82\\xa9arguments\\xd9z{\"query\":\"SELECT Category, Question FROM MaturityDBTable1 WHERE Department = \\'technical architecture\\' ORDER BY Category;\"}\\xa4name\\xacsql_db_query\\xa4type\\xa8function\\xa7refusal\\xc0\\xb1response_metadata\\x87\\xabtoken_usage\\x85\\xb1completion_tokens#\\xadprompt_tokens\\xcd\\x02\\xe5\\xactotal_tokens\\xcd\\x03\\x08\\xb9completion_tokens_details\\xc0\\xb5prompt_tokens_details\\xc0\\xaamodel_name\\xabgpt-4o-mini\\xb2system_fingerprint\\xadfp_d54531d9eb\\xb5prompt_filter_results\\x91\\x82\\xacprompt_index\\x00\\xb6content_filter_results\\x80\\xadfinish_reason\\xaatool_calls\\xa8logprobs\\xc0\\xb6content_filter_results\\x80\\xa4type\\xa2ai\\xa4name\\xc0\\xa2id\\xd9*run-f0133a0b-5473-4b62-a28a-e131d6e8fca4-0\\xa7example\\xc2\\xaatool_calls\\x91\\x84\\xa4name\\xacsql_db_query\\xa4args\\x81\\xa5query\\xd9nSELECT Category, Question FROM MaturityDBTable1 WHERE Department = \\'technical architecture\\' ORDER BY Category;\\xa2id\\xbdcall_lRH4CpGpCzqrkqpblnaT9FRX\\xa4type\\xa9tool_call\\xb2invalid_tool_calls\\x90\\xaeusage_metadata\\x85\\xacinput_tokens\\xcd\\x02\\xe5\\xadoutput_tokens#\\xactotal_tokens\\xcd\\x03\\x08\\xb3input_token_details\\x80\\xb4output_token_details\\x80\\xb3model_validate_json\\xc8\\x01\\xec\\x05\\x94\\xbclangchain_core.messages.tool\\xabToolMessage\\x89\\xa7content\\xd9\\xf4Error: (sqlite3.OperationalError) no such table: MaturityDBTable1\\n[SQL: SELECT Category, Question FROM MaturityDBTable1 WHERE Department = \\'technical architecture\\' ORDER BY Category;]\\n(Background on this error at: https://sqlalche.me/e/20/e3q8)\\xb1additional_kwargs\\x80\\xb1response_metadata\\x80\\xa4type\\xa4tool\\xa4name\\xacsql_db_query\\xa2id\\xd9$4a6bfd53-2e9e-45bd-9ee8-efc26faa44f3\\xactool_call_id\\xbdcall_lRH4CpGpCzqrkqpblnaT9FRX\\xa8artifact\\xc0\\xa6status\\xa7success\\xb3model_validate_json\\xc8\\x03!\\x05\\x94\\xbalangchain_core.messages.ai\\xa9AIMessage\\x8a\\xa7content\\xa0\\xb1additional_kwargs\\x82\\xaatool_calls\\x91\\x83\\xa2id\\xbdcall_WSmOM5QG1PhT4EtaisGfdzBW\\xa8function\\x82\\xa9arguments\\xa2{}\\xa4name\\xb2sql_db_list_tables\\xa4type\\xa8function\\xa7refusal\\xc0\\xb1response_metadata\\x87\\xabtoken_usage\\x85\\xb1completion_tokens\\x0c\\xadprompt_tokens\\xcd\\x03R\\xactotal_tokens\\xcd\\x03^\\xb9completion_tokens_details\\xc0\\xb5prompt_tokens_details\\xc0\\xaamodel_name\\xabgpt-4o-mini\\xb2system_fingerprint\\xadfp_d54531d9eb\\xb5prompt_filter_results\\x91\\x82\\xacprompt_index\\x00\\xb6content_filter_results\\x80\\xadfinish_reason\\xaatool_calls\\xa8logprobs\\xc0\\xb6content_filter_results\\x80\\xa4type\\xa2ai\\xa4name\\xc0\\xa2id\\xd9*run-fc1e14eb-432c-4b83-8bab-b2ab2017e203-0\\xa7example\\xc2\\xaatool_calls\\x91\\x84\\xa4name\\xb2sql_db_list_tables\\xa4args\\x80\\xa2id\\xbdcall_WSmOM5QG1PhT4EtaisGfdzBW\\xa4type\\xa9tool_call\\xb2invalid_tool_calls\\x90\\xaeusage_metadata\\x85\\xacinput_tokens\\xcd\\x03R\\xadoutput_tokens\\x0c\\xactotal_tokens\\xcd\\x03^\\xb3input_token_details\\x80\\xb4output_token_details\\x80\\xb3model_validate_json\\xc8\\x01\\x0c\\x05\\x94\\xbclangchain_core.messages.tool\\xabToolMessage\\x89\\xa7content\\xafCompanyDBTable1\\xb1additional_kwargs\\x80\\xb1response_metadata\\x80\\xa4type\\xa4tool\\xa4name\\xb2sql_db_list_tables\\xa2id\\xd9$8a94df67-2324-4666-a257-71a8e1574330\\xactool_call_id\\xbdcall_WSmOM5QG1PhT4EtaisGfdzBW\\xa8artifact\\xc0\\xa6status\\xa7success\\xb3model_validate_json\\xc8\\x04\\x12\\x05\\x94\\xbalangchain_core.messages.ai\\xa9AIMessage\\x8a\\xa7content\\xa0\\xb1additional_kwargs\\x82\\xaatool_calls\\x91\\x83\\xa2id\\xbdcall_ogEgsGMnCq84AJzC5dbm8Qov\\xa8function\\x82\\xa9arguments\\xd9y{\"query\":\"SELECT Category, Question FROM CompanyDBTable1 WHERE Department = \\'technical architecture\\' ORDER BY Category;\"}\\xa4name\\xb4sql_db_query_checker\\xa4type\\xa8function\\xa7refusal\\xc0\\xb1response_metadata\\x87\\xabtoken_usage\\x85\\xb1completion_tokens#\\xadprompt_tokens\\xcd\\x03l\\xactotal_tokens\\xcd\\x03\\x8f\\xb9completion_tokens_details\\xc0\\xb5prompt_tokens_details\\xc0\\xaamodel_name\\xabgpt-4o-mini\\xb2system_fingerprint\\xadfp_d54531d9eb\\xb5prompt_filter_results\\x91\\x82\\xacprompt_index\\x00\\xb6content_filter_results\\x80\\xadfinish_reason\\xaatool_calls\\xa8logprobs\\xc0\\xb6content_filter_results\\x80\\xa4type\\xa2ai\\xa4name\\xc0\\xa2id\\xd9*run-cbc51ef9-107b-48ad-8a92-9eb9b81e8a2e-0\\xa7example\\xc2\\xaatool_calls\\x91\\x84\\xa4name\\xb4sql_db_query_checker\\xa4args\\x81\\xa5query\\xd9mSELECT Category, Question FROM CompanyDBTable1 WHERE Department = \\'technical architecture\\' ORDER BY Category;\\xa2id\\xbdcall_ogEgsGMnCq84AJzC5dbm8Qov\\xa4type\\xa9tool_call\\xb2invalid_tool_calls\\x90\\xaeusage_metadata\\x85\\xacinput_tokens\\xcd\\x03l\\xadoutput_tokens#\\xactotal_tokens\\xcd\\x03\\x8f\\xb3input_token_details\\x80\\xb4output_token_details\\x80\\xb3model_validate_json\\xa5agent\\xa5agent\\xd9\"branch:agent:should_continue:tools\\xa5agent\\xb0channel_versions\\x86\\xa9__start__\\xd9300000000000000000000000000000002.0.5902666558653081\\xa8messages\\xd9300000000000000000000000000000009.0.5127639016408859\\xabstart:agent\\xd9300000000000000000000000000000003.0.7975517800028311\\xa5agent\\xd9300000000000000000000000000000009.0.9745520375493991\\xd9\"branch:agent:should_continue:tools\\xd9300000000000000000000000000000009.0.4897028416429112\\xa5tools\\xd9400000000000000000000000000000009.0.38783258160938205\\xadversions_seen\\x84\\xa9__input__\\x80\\xa9__start__\\x81\\xa9__start__\\xd9300000000000000000000000000000001.0.6022676831889675\\xa5agent\\x82\\xabstart:agent\\xd9300000000000000000000000000000002.0.5316941953470653\\xa5tools\\xd9400000000000000000000000000000008.0.04225912181598279\\xa5tools\\x81\\xd9\"branch:agent:should_continue:tools\\xd9300000000000000000000000000000007.0.8575576990801459'), ('msgpack', b'\\x84\\xa6source\\xa4loop\\xa6writes\\x81\\xa5agent\\x81\\xa8messages\\x91\\xc8\\x04\\x12\\x05\\x94\\xbalangchain_core.messages.ai\\xa9AIMessage\\x8a\\xa7content\\xa0\\xb1additional_kwargs\\x82\\xaatool_calls\\x91\\x83\\xa2id\\xbdcall_ogEgsGMnCq84AJzC5dbm8Qov\\xa8function\\x82\\xa9arguments\\xd9y{\"query\":\"SELECT Category, Question FROM CompanyDBTable1 WHERE Department = \\'technical architecture\\' ORDER BY Category;\"}\\xa4name\\xb4sql_db_query_checker\\xa4type\\xa8function\\xa7refusal\\xc0\\xb1response_metadata\\x87\\xabtoken_usage\\x85\\xb1completion_tokens#\\xadprompt_tokens\\xcd\\x03l\\xactotal_tokens\\xcd\\x03\\x8f\\xb9completion_tokens_details\\xc0\\xb5prompt_tokens_details\\xc0\\xaamodel_name\\xabgpt-4o-mini\\xb2system_fingerprint\\xadfp_d54531d9eb\\xb5prompt_filter_results\\x91\\x82\\xacprompt_index\\x00\\xb6content_filter_results\\x80\\xadfinish_reason\\xaatool_calls\\xa8logprobs\\xc0\\xb6content_filter_results\\x80\\xa4type\\xa2ai\\xa4name\\xc0\\xa2id\\xd9*run-cbc51ef9-107b-48ad-8a92-9eb9b81e8a2e-0\\xa7example\\xc2\\xaatool_calls\\x91\\x84\\xa4name\\xb4sql_db_query_checker\\xa4args\\x81\\xa5query\\xd9mSELECT Category, Question FROM CompanyDBTable1 WHERE Department = \\'technical architecture\\' ORDER BY Category;\\xa2id\\xbdcall_ogEgsGMnCq84AJzC5dbm8Qov\\xa4type\\xa9tool_call\\xb2invalid_tool_calls\\x90\\xaeusage_metadata\\x85\\xacinput_tokens\\xcd\\x03l\\xadoutput_tokens#\\xactotal_tokens\\xcd\\x03\\x8f\\xb3input_token_details\\x80\\xb4output_token_details\\x80\\xb3model_validate_json\\xa4step\\x07\\xa7parents\\x80'), '1ef94e5d-1910-6074-8006-5bcd1343658e'), '1ef94e5d-2ba5-6c46-8008-d9d3ac7b9df9': (('msgpack', b'\\x86\\xa1v\\x01\\xa2ts\\xd9 2024-10-28T04:33:47.561485+00:00\\xa2id\\xd9$1ef94e5d-2ba5-6c46-8008-d9d3ac7b9df9\\xaechannel_values\\x82\\xa8messages\\x99\\xc8\\x01\\x16\\x05\\x94\\xbdlangchain_core.messages.human\\xacHumanMessage\\x87\\xa7content\\xd9bmy name is Bhatti, and I am from the technical architecture department, my email is batt@gmail.com\\xb1additional_kwargs\\x80\\xb1response_metadata\\x80\\xa4type\\xa5human\\xa4name\\xc0\\xa2id\\xd9$1a770244-4b69-49cd-abe7-c1b57c7ee003\\xa7example\\xc2\\xb3model_validate_json\\xc8\\x04\\x14\\x05\\x94\\xbalangchain_core.messages.ai\\xa9AIMessage\\x8a\\xa7content\\xa0\\xb1additional_kwargs\\x82\\xaatool_calls\\x91\\x83\\xa2id\\xbdcall_k36KvLNC8Izp0mZTCbvJ7y9T\\xa8function\\x82\\xa9arguments\\xd9z{\"query\":\"SELECT Category, Question FROM MaturityDBTable1 WHERE Department = \\'technical architecture\\' ORDER BY Category;\"}\\xa4name\\xb4sql_db_query_checker\\xa4type\\xa8function\\xa7refusal\\xc0\\xb1response_metadata\\x87\\xabtoken_usage\\x85\\xb1completion_tokens$\\xadprompt_tokens\\xcd\\x02\\x9e\\xactotal_tokens\\xcd\\x02\\xc2\\xb9completion_tokens_details\\xc0\\xb5prompt_tokens_details\\xc0\\xaamodel_name\\xabgpt-4o-mini\\xb2system_fingerprint\\xadfp_d54531d9eb\\xb5prompt_filter_results\\x91\\x82\\xacprompt_index\\x00\\xb6content_filter_results\\x80\\xadfinish_reason\\xaatool_calls\\xa8logprobs\\xc0\\xb6content_filter_results\\x80\\xa4type\\xa2ai\\xa4name\\xc0\\xa2id\\xd9*run-0f98624f-3c54-413a-aada-b3f5eca64809-0\\xa7example\\xc2\\xaatool_calls\\x91\\x84\\xa4name\\xb4sql_db_query_checker\\xa4args\\x81\\xa5query\\xd9nSELECT Category, Question FROM MaturityDBTable1 WHERE Department = \\'technical architecture\\' ORDER BY Category;\\xa2id\\xbdcall_k36KvLNC8Izp0mZTCbvJ7y9T\\xa4type\\xa9tool_call\\xb2invalid_tool_calls\\x90\\xaeusage_metadata\\x85\\xacinput_tokens\\xcd\\x02\\x9e\\xadoutput_tokens$\\xactotal_tokens\\xcd\\x02\\xc2\\xb3input_token_details\\x80\\xb4output_token_details\\x80\\xb3model_validate_json\\xc8\\x01y\\x05\\x94\\xbclangchain_core.messages.tool\\xabToolMessage\\x89\\xa7content\\xd9y```sql\\nSELECT Category, Question FROM MaturityDBTable1 WHERE Department = \\'technical architecture\\' ORDER BY Category;\\n```\\xb1additional_kwargs\\x80\\xb1response_metadata\\x80\\xa4type\\xa4tool\\xa4name\\xb4sql_db_query_checker\\xa2id\\xd9$5837c15f-5544-4e1d-b48e-23d7b8c0a840\\xactool_call_id\\xbdcall_k36KvLNC8Izp0mZTCbvJ7y9T\\xa8artifact\\xc0\\xa6status\\xa7success\\xb3model_validate_json\\xc8\\x04\\x04\\x05\\x94\\xbalangchain_core.messages.ai\\xa9AIMessage\\x8a\\xa7content\\xa0\\xb1additional_kwargs\\x82\\xaatool_calls\\x91\\x83\\xa2id\\xbdcall_lRH4CpGpCzqrkqpblnaT9FRX\\xa8function\\x82\\xa9arguments\\xd9z{\"query\":\"SELECT Category, Question FROM MaturityDBTable1 WHERE Department = \\'technical architecture\\' ORDER BY Category;\"}\\xa4name\\xacsql_db_query\\xa4type\\xa8function\\xa7refusal\\xc0\\xb1response_metadata\\x87\\xabtoken_usage\\x85\\xb1completion_tokens#\\xadprompt_tokens\\xcd\\x02\\xe5\\xactotal_tokens\\xcd\\x03\\x08\\xb9completion_tokens_details\\xc0\\xb5prompt_tokens_details\\xc0\\xaamodel_name\\xabgpt-4o-mini\\xb2system_fingerprint\\xadfp_d54531d9eb\\xb5prompt_filter_results\\x91\\x82\\xacprompt_index\\x00\\xb6content_filter_results\\x80\\xadfinish_reason\\xaatool_calls\\xa8logprobs\\xc0\\xb6content_filter_results\\x80\\xa4type\\xa2ai\\xa4name\\xc0\\xa2id\\xd9*run-f0133a0b-5473-4b62-a28a-e131d6e8fca4-0\\xa7example\\xc2\\xaatool_calls\\x91\\x84\\xa4name\\xacsql_db_query\\xa4args\\x81\\xa5query\\xd9nSELECT Category, Question FROM MaturityDBTable1 WHERE Department = \\'technical architecture\\' ORDER BY Category;\\xa2id\\xbdcall_lRH4CpGpCzqrkqpblnaT9FRX\\xa4type\\xa9tool_call\\xb2invalid_tool_calls\\x90\\xaeusage_metadata\\x85\\xacinput_tokens\\xcd\\x02\\xe5\\xadoutput_tokens#\\xactotal_tokens\\xcd\\x03\\x08\\xb3input_token_details\\x80\\xb4output_token_details\\x80\\xb3model_validate_json\\xc8\\x01\\xec\\x05\\x94\\xbclangchain_core.messages.tool\\xabToolMessage\\x89\\xa7content\\xd9\\xf4Error: (sqlite3.OperationalError) no such table: MaturityDBTable1\\n[SQL: SELECT Category, Question FROM MaturityDBTable1 WHERE Department = \\'technical architecture\\' ORDER BY Category;]\\n(Background on this error at: https://sqlalche.me/e/20/e3q8)\\xb1additional_kwargs\\x80\\xb1response_metadata\\x80\\xa4type\\xa4tool\\xa4name\\xacsql_db_query\\xa2id\\xd9$4a6bfd53-2e9e-45bd-9ee8-efc26faa44f3\\xactool_call_id\\xbdcall_lRH4CpGpCzqrkqpblnaT9FRX\\xa8artifact\\xc0\\xa6status\\xa7success\\xb3model_validate_json\\xc8\\x03!\\x05\\x94\\xbalangchain_core.messages.ai\\xa9AIMessage\\x8a\\xa7content\\xa0\\xb1additional_kwargs\\x82\\xaatool_calls\\x91\\x83\\xa2id\\xbdcall_WSmOM5QG1PhT4EtaisGfdzBW\\xa8function\\x82\\xa9arguments\\xa2{}\\xa4name\\xb2sql_db_list_tables\\xa4type\\xa8function\\xa7refusal\\xc0\\xb1response_metadata\\x87\\xabtoken_usage\\x85\\xb1completion_tokens\\x0c\\xadprompt_tokens\\xcd\\x03R\\xactotal_tokens\\xcd\\x03^\\xb9completion_tokens_details\\xc0\\xb5prompt_tokens_details\\xc0\\xaamodel_name\\xabgpt-4o-mini\\xb2system_fingerprint\\xadfp_d54531d9eb\\xb5prompt_filter_results\\x91\\x82\\xacprompt_index\\x00\\xb6content_filter_results\\x80\\xadfinish_reason\\xaatool_calls\\xa8logprobs\\xc0\\xb6content_filter_results\\x80\\xa4type\\xa2ai\\xa4name\\xc0\\xa2id\\xd9*run-fc1e14eb-432c-4b83-8bab-b2ab2017e203-0\\xa7example\\xc2\\xaatool_calls\\x91\\x84\\xa4name\\xb2sql_db_list_tables\\xa4args\\x80\\xa2id\\xbdcall_WSmOM5QG1PhT4EtaisGfdzBW\\xa4type\\xa9tool_call\\xb2invalid_tool_calls\\x90\\xaeusage_metadata\\x85\\xacinput_tokens\\xcd\\x03R\\xadoutput_tokens\\x0c\\xactotal_tokens\\xcd\\x03^\\xb3input_token_details\\x80\\xb4output_token_details\\x80\\xb3model_validate_json\\xc8\\x01\\x0c\\x05\\x94\\xbclangchain_core.messages.tool\\xabToolMessage\\x89\\xa7content\\xafCompanyDBTable1\\xb1additional_kwargs\\x80\\xb1response_metadata\\x80\\xa4type\\xa4tool\\xa4name\\xb2sql_db_list_tables\\xa2id\\xd9$8a94df67-2324-4666-a257-71a8e1574330\\xactool_call_id\\xbdcall_WSmOM5QG1PhT4EtaisGfdzBW\\xa8artifact\\xc0\\xa6status\\xa7success\\xb3model_validate_json\\xc8\\x04\\x12\\x05\\x94\\xbalangchain_core.messages.ai\\xa9AIMessage\\x8a\\xa7content\\xa0\\xb1additional_kwargs\\x82\\xaatool_calls\\x91\\x83\\xa2id\\xbdcall_ogEgsGMnCq84AJzC5dbm8Qov\\xa8function\\x82\\xa9arguments\\xd9y{\"query\":\"SELECT Category, Question FROM CompanyDBTable1 WHERE Department = \\'technical architecture\\' ORDER BY Category;\"}\\xa4name\\xb4sql_db_query_checker\\xa4type\\xa8function\\xa7refusal\\xc0\\xb1response_metadata\\x87\\xabtoken_usage\\x85\\xb1completion_tokens#\\xadprompt_tokens\\xcd\\x03l\\xactotal_tokens\\xcd\\x03\\x8f\\xb9completion_tokens_details\\xc0\\xb5prompt_tokens_details\\xc0\\xaamodel_name\\xabgpt-4o-mini\\xb2system_fingerprint\\xadfp_d54531d9eb\\xb5prompt_filter_results\\x91\\x82\\xacprompt_index\\x00\\xb6content_filter_results\\x80\\xadfinish_reason\\xaatool_calls\\xa8logprobs\\xc0\\xb6content_filter_results\\x80\\xa4type\\xa2ai\\xa4name\\xc0\\xa2id\\xd9*run-cbc51ef9-107b-48ad-8a92-9eb9b81e8a2e-0\\xa7example\\xc2\\xaatool_calls\\x91\\x84\\xa4name\\xb4sql_db_query_checker\\xa4args\\x81\\xa5query\\xd9mSELECT Category, Question FROM CompanyDBTable1 WHERE Department = \\'technical architecture\\' ORDER BY Category;\\xa2id\\xbdcall_ogEgsGMnCq84AJzC5dbm8Qov\\xa4type\\xa9tool_call\\xb2invalid_tool_calls\\x90\\xaeusage_metadata\\x85\\xacinput_tokens\\xcd\\x03l\\xadoutput_tokens#\\xactotal_tokens\\xcd\\x03\\x8f\\xb3input_token_details\\x80\\xb4output_token_details\\x80\\xb3model_validate_json\\xc8\\x01x\\x05\\x94\\xbclangchain_core.messages.tool\\xabToolMessage\\x89\\xa7content\\xd9x```sql\\nSELECT Category, Question FROM CompanyDBTable1 WHERE Department = \\'technical architecture\\' ORDER BY Category;\\n```\\xb1additional_kwargs\\x80\\xb1response_metadata\\x80\\xa4type\\xa4tool\\xa4name\\xb4sql_db_query_checker\\xa2id\\xd9$ddcf7193-6b62-4bfe-ac7e-a683e1d5c588\\xactool_call_id\\xbdcall_ogEgsGMnCq84AJzC5dbm8Qov\\xa8artifact\\xc0\\xa6status\\xa7success\\xb3model_validate_json\\xa5tools\\xa5tools\\xb0channel_versions\\x86\\xa9__start__\\xd9300000000000000000000000000000002.0.5902666558653081\\xa8messages\\xd9300000000000000000000000000000010.0.5279869529122634\\xabstart:agent\\xd9300000000000000000000000000000003.0.7975517800028311\\xa5agent\\xd9300000000000000000000000000000010.0.8840917469064926\\xd9\"branch:agent:should_continue:tools\\xd9400000000000000000000000000000010.0.02780207102659693\\xa5tools\\xd9400000000000000000000000000000010.0.39913395709014143\\xadversions_seen\\x84\\xa9__input__\\x80\\xa9__start__\\x81\\xa9__start__\\xd9300000000000000000000000000000001.0.6022676831889675\\xa5agent\\x82\\xabstart:agent\\xd9300000000000000000000000000000002.0.5316941953470653\\xa5tools\\xd9400000000000000000000000000000008.0.04225912181598279\\xa5tools\\x81\\xd9\"branch:agent:should_continue:tools\\xd9300000000000000000000000000000009.0.4897028416429112'), ('msgpack', b\"\\x84\\xa6source\\xa4loop\\xa6writes\\x81\\xa5tools\\x81\\xa8messages\\x91\\xc8\\x01x\\x05\\x94\\xbclangchain_core.messages.tool\\xabToolMessage\\x89\\xa7content\\xd9x```sql\\nSELECT Category, Question FROM CompanyDBTable1 WHERE Department = 'technical architecture' ORDER BY Category;\\n```\\xb1additional_kwargs\\x80\\xb1response_metadata\\x80\\xa4type\\xa4tool\\xa4name\\xb4sql_db_query_checker\\xa2id\\xd9$ddcf7193-6b62-4bfe-ac7e-a683e1d5c588\\xactool_call_id\\xbdcall_ogEgsGMnCq84AJzC5dbm8Qov\\xa8artifact\\xc0\\xa6status\\xa7success\\xb3model_validate_json\\xa4step\\x08\\xa7parents\\x80\"), '1ef94e5d-213e-61d6-8007-66b1048b28b2'), '1ef94e5d-3261-615e-8009-ab29d5e1e437': (('msgpack', b'\\x86\\xa1v\\x01\\xa2ts\\xd9 2024-10-28T04:33:48.268374+00:00\\xa2id\\xd9$1ef94e5d-3261-615e-8009-ab29d5e1e437\\xaechannel_values\\x83\\xa8messages\\x9a\\xc8\\x01\\x16\\x05\\x94\\xbdlangchain_core.messages.human\\xacHumanMessage\\x87\\xa7content\\xd9bmy name is Bhatti, and I am from the technical architecture department, my email is batt@gmail.com\\xb1additional_kwargs\\x80\\xb1response_metadata\\x80\\xa4type\\xa5human\\xa4name\\xc0\\xa2id\\xd9$1a770244-4b69-49cd-abe7-c1b57c7ee003\\xa7example\\xc2\\xb3model_validate_json\\xc8\\x04\\x14\\x05\\x94\\xbalangchain_core.messages.ai\\xa9AIMessage\\x8a\\xa7content\\xa0\\xb1additional_kwargs\\x82\\xaatool_calls\\x91\\x83\\xa2id\\xbdcall_k36KvLNC8Izp0mZTCbvJ7y9T\\xa8function\\x82\\xa9arguments\\xd9z{\"query\":\"SELECT Category, Question FROM MaturityDBTable1 WHERE Department = \\'technical architecture\\' ORDER BY Category;\"}\\xa4name\\xb4sql_db_query_checker\\xa4type\\xa8function\\xa7refusal\\xc0\\xb1response_metadata\\x87\\xabtoken_usage\\x85\\xb1completion_tokens$\\xadprompt_tokens\\xcd\\x02\\x9e\\xactotal_tokens\\xcd\\x02\\xc2\\xb9completion_tokens_details\\xc0\\xb5prompt_tokens_details\\xc0\\xaamodel_name\\xabgpt-4o-mini\\xb2system_fingerprint\\xadfp_d54531d9eb\\xb5prompt_filter_results\\x91\\x82\\xacprompt_index\\x00\\xb6content_filter_results\\x80\\xadfinish_reason\\xaatool_calls\\xa8logprobs\\xc0\\xb6content_filter_results\\x80\\xa4type\\xa2ai\\xa4name\\xc0\\xa2id\\xd9*run-0f98624f-3c54-413a-aada-b3f5eca64809-0\\xa7example\\xc2\\xaatool_calls\\x91\\x84\\xa4name\\xb4sql_db_query_checker\\xa4args\\x81\\xa5query\\xd9nSELECT Category, Question FROM MaturityDBTable1 WHERE Department = \\'technical architecture\\' ORDER BY Category;\\xa2id\\xbdcall_k36KvLNC8Izp0mZTCbvJ7y9T\\xa4type\\xa9tool_call\\xb2invalid_tool_calls\\x90\\xaeusage_metadata\\x85\\xacinput_tokens\\xcd\\x02\\x9e\\xadoutput_tokens$\\xactotal_tokens\\xcd\\x02\\xc2\\xb3input_token_details\\x80\\xb4output_token_details\\x80\\xb3model_validate_json\\xc8\\x01y\\x05\\x94\\xbclangchain_core.messages.tool\\xabToolMessage\\x89\\xa7content\\xd9y```sql\\nSELECT Category, Question FROM MaturityDBTable1 WHERE Department = \\'technical architecture\\' ORDER BY Category;\\n```\\xb1additional_kwargs\\x80\\xb1response_metadata\\x80\\xa4type\\xa4tool\\xa4name\\xb4sql_db_query_checker\\xa2id\\xd9$5837c15f-5544-4e1d-b48e-23d7b8c0a840\\xactool_call_id\\xbdcall_k36KvLNC8Izp0mZTCbvJ7y9T\\xa8artifact\\xc0\\xa6status\\xa7success\\xb3model_validate_json\\xc8\\x04\\x04\\x05\\x94\\xbalangchain_core.messages.ai\\xa9AIMessage\\x8a\\xa7content\\xa0\\xb1additional_kwargs\\x82\\xaatool_calls\\x91\\x83\\xa2id\\xbdcall_lRH4CpGpCzqrkqpblnaT9FRX\\xa8function\\x82\\xa9arguments\\xd9z{\"query\":\"SELECT Category, Question FROM MaturityDBTable1 WHERE Department = \\'technical architecture\\' ORDER BY Category;\"}\\xa4name\\xacsql_db_query\\xa4type\\xa8function\\xa7refusal\\xc0\\xb1response_metadata\\x87\\xabtoken_usage\\x85\\xb1completion_tokens#\\xadprompt_tokens\\xcd\\x02\\xe5\\xactotal_tokens\\xcd\\x03\\x08\\xb9completion_tokens_details\\xc0\\xb5prompt_tokens_details\\xc0\\xaamodel_name\\xabgpt-4o-mini\\xb2system_fingerprint\\xadfp_d54531d9eb\\xb5prompt_filter_results\\x91\\x82\\xacprompt_index\\x00\\xb6content_filter_results\\x80\\xadfinish_reason\\xaatool_calls\\xa8logprobs\\xc0\\xb6content_filter_results\\x80\\xa4type\\xa2ai\\xa4name\\xc0\\xa2id\\xd9*run-f0133a0b-5473-4b62-a28a-e131d6e8fca4-0\\xa7example\\xc2\\xaatool_calls\\x91\\x84\\xa4name\\xacsql_db_query\\xa4args\\x81\\xa5query\\xd9nSELECT Category, Question FROM MaturityDBTable1 WHERE Department = \\'technical architecture\\' ORDER BY Category;\\xa2id\\xbdcall_lRH4CpGpCzqrkqpblnaT9FRX\\xa4type\\xa9tool_call\\xb2invalid_tool_calls\\x90\\xaeusage_metadata\\x85\\xacinput_tokens\\xcd\\x02\\xe5\\xadoutput_tokens#\\xactotal_tokens\\xcd\\x03\\x08\\xb3input_token_details\\x80\\xb4output_token_details\\x80\\xb3model_validate_json\\xc8\\x01\\xec\\x05\\x94\\xbclangchain_core.messages.tool\\xabToolMessage\\x89\\xa7content\\xd9\\xf4Error: (sqlite3.OperationalError) no such table: MaturityDBTable1\\n[SQL: SELECT Category, Question FROM MaturityDBTable1 WHERE Department = \\'technical architecture\\' ORDER BY Category;]\\n(Background on this error at: https://sqlalche.me/e/20/e3q8)\\xb1additional_kwargs\\x80\\xb1response_metadata\\x80\\xa4type\\xa4tool\\xa4name\\xacsql_db_query\\xa2id\\xd9$4a6bfd53-2e9e-45bd-9ee8-efc26faa44f3\\xactool_call_id\\xbdcall_lRH4CpGpCzqrkqpblnaT9FRX\\xa8artifact\\xc0\\xa6status\\xa7success\\xb3model_validate_json\\xc8\\x03!\\x05\\x94\\xbalangchain_core.messages.ai\\xa9AIMessage\\x8a\\xa7content\\xa0\\xb1additional_kwargs\\x82\\xaatool_calls\\x91\\x83\\xa2id\\xbdcall_WSmOM5QG1PhT4EtaisGfdzBW\\xa8function\\x82\\xa9arguments\\xa2{}\\xa4name\\xb2sql_db_list_tables\\xa4type\\xa8function\\xa7refusal\\xc0\\xb1response_metadata\\x87\\xabtoken_usage\\x85\\xb1completion_tokens\\x0c\\xadprompt_tokens\\xcd\\x03R\\xactotal_tokens\\xcd\\x03^\\xb9completion_tokens_details\\xc0\\xb5prompt_tokens_details\\xc0\\xaamodel_name\\xabgpt-4o-mini\\xb2system_fingerprint\\xadfp_d54531d9eb\\xb5prompt_filter_results\\x91\\x82\\xacprompt_index\\x00\\xb6content_filter_results\\x80\\xadfinish_reason\\xaatool_calls\\xa8logprobs\\xc0\\xb6content_filter_results\\x80\\xa4type\\xa2ai\\xa4name\\xc0\\xa2id\\xd9*run-fc1e14eb-432c-4b83-8bab-b2ab2017e203-0\\xa7example\\xc2\\xaatool_calls\\x91\\x84\\xa4name\\xb2sql_db_list_tables\\xa4args\\x80\\xa2id\\xbdcall_WSmOM5QG1PhT4EtaisGfdzBW\\xa4type\\xa9tool_call\\xb2invalid_tool_calls\\x90\\xaeusage_metadata\\x85\\xacinput_tokens\\xcd\\x03R\\xadoutput_tokens\\x0c\\xactotal_tokens\\xcd\\x03^\\xb3input_token_details\\x80\\xb4output_token_details\\x80\\xb3model_validate_json\\xc8\\x01\\x0c\\x05\\x94\\xbclangchain_core.messages.tool\\xabToolMessage\\x89\\xa7content\\xafCompanyDBTable1\\xb1additional_kwargs\\x80\\xb1response_metadata\\x80\\xa4type\\xa4tool\\xa4name\\xb2sql_db_list_tables\\xa2id\\xd9$8a94df67-2324-4666-a257-71a8e1574330\\xactool_call_id\\xbdcall_WSmOM5QG1PhT4EtaisGfdzBW\\xa8artifact\\xc0\\xa6status\\xa7success\\xb3model_validate_json\\xc8\\x04\\x12\\x05\\x94\\xbalangchain_core.messages.ai\\xa9AIMessage\\x8a\\xa7content\\xa0\\xb1additional_kwargs\\x82\\xaatool_calls\\x91\\x83\\xa2id\\xbdcall_ogEgsGMnCq84AJzC5dbm8Qov\\xa8function\\x82\\xa9arguments\\xd9y{\"query\":\"SELECT Category, Question FROM CompanyDBTable1 WHERE Department = \\'technical architecture\\' ORDER BY Category;\"}\\xa4name\\xb4sql_db_query_checker\\xa4type\\xa8function\\xa7refusal\\xc0\\xb1response_metadata\\x87\\xabtoken_usage\\x85\\xb1completion_tokens#\\xadprompt_tokens\\xcd\\x03l\\xactotal_tokens\\xcd\\x03\\x8f\\xb9completion_tokens_details\\xc0\\xb5prompt_tokens_details\\xc0\\xaamodel_name\\xabgpt-4o-mini\\xb2system_fingerprint\\xadfp_d54531d9eb\\xb5prompt_filter_results\\x91\\x82\\xacprompt_index\\x00\\xb6content_filter_results\\x80\\xadfinish_reason\\xaatool_calls\\xa8logprobs\\xc0\\xb6content_filter_results\\x80\\xa4type\\xa2ai\\xa4name\\xc0\\xa2id\\xd9*run-cbc51ef9-107b-48ad-8a92-9eb9b81e8a2e-0\\xa7example\\xc2\\xaatool_calls\\x91\\x84\\xa4name\\xb4sql_db_query_checker\\xa4args\\x81\\xa5query\\xd9mSELECT Category, Question FROM CompanyDBTable1 WHERE Department = \\'technical architecture\\' ORDER BY Category;\\xa2id\\xbdcall_ogEgsGMnCq84AJzC5dbm8Qov\\xa4type\\xa9tool_call\\xb2invalid_tool_calls\\x90\\xaeusage_metadata\\x85\\xacinput_tokens\\xcd\\x03l\\xadoutput_tokens#\\xactotal_tokens\\xcd\\x03\\x8f\\xb3input_token_details\\x80\\xb4output_token_details\\x80\\xb3model_validate_json\\xc8\\x01x\\x05\\x94\\xbclangchain_core.messages.tool\\xabToolMessage\\x89\\xa7content\\xd9x```sql\\nSELECT Category, Question FROM CompanyDBTable1 WHERE Department = \\'technical architecture\\' ORDER BY Category;\\n```\\xb1additional_kwargs\\x80\\xb1response_metadata\\x80\\xa4type\\xa4tool\\xa4name\\xb4sql_db_query_checker\\xa2id\\xd9$ddcf7193-6b62-4bfe-ac7e-a683e1d5c588\\xactool_call_id\\xbdcall_ogEgsGMnCq84AJzC5dbm8Qov\\xa8artifact\\xc0\\xa6status\\xa7success\\xb3model_validate_json\\xc8\\x04\\x02\\x05\\x94\\xbalangchain_core.messages.ai\\xa9AIMessage\\x8a\\xa7content\\xa0\\xb1additional_kwargs\\x82\\xaatool_calls\\x91\\x83\\xa2id\\xbdcall_jRIveXc2CXkKjsbzH77HCziM\\xa8function\\x82\\xa9arguments\\xd9y{\"query\":\"SELECT Category, Question FROM CompanyDBTable1 WHERE Department = \\'technical architecture\\' ORDER BY Category;\"}\\xa4name\\xacsql_db_query\\xa4type\\xa8function\\xa7refusal\\xc0\\xb1response_metadata\\x87\\xabtoken_usage\\x85\\xb1completion_tokens\"\\xadprompt_tokens\\xcd\\x03\\xb1\\xactotal_tokens\\xcd\\x03\\xd3\\xb9completion_tokens_details\\xc0\\xb5prompt_tokens_details\\xc0\\xaamodel_name\\xabgpt-4o-mini\\xb2system_fingerprint\\xadfp_d54531d9eb\\xb5prompt_filter_results\\x91\\x82\\xacprompt_index\\x00\\xb6content_filter_results\\x80\\xadfinish_reason\\xaatool_calls\\xa8logprobs\\xc0\\xb6content_filter_results\\x80\\xa4type\\xa2ai\\xa4name\\xc0\\xa2id\\xd9*run-33b12c7f-c813-48f9-bbc9-1a5f3e619421-0\\xa7example\\xc2\\xaatool_calls\\x91\\x84\\xa4name\\xacsql_db_query\\xa4args\\x81\\xa5query\\xd9mSELECT Category, Question FROM CompanyDBTable1 WHERE Department = \\'technical architecture\\' ORDER BY Category;\\xa2id\\xbdcall_jRIveXc2CXkKjsbzH77HCziM\\xa4type\\xa9tool_call\\xb2invalid_tool_calls\\x90\\xaeusage_metadata\\x85\\xacinput_tokens\\xcd\\x03\\xb1\\xadoutput_tokens\"\\xactotal_tokens\\xcd\\x03\\xd3\\xb3input_token_details\\x80\\xb4output_token_details\\x80\\xb3model_validate_json\\xa5agent\\xa5agent\\xd9\"branch:agent:should_continue:tools\\xa5agent\\xb0channel_versions\\x86\\xa9__start__\\xd9300000000000000000000000000000002.0.5902666558653081\\xa8messages\\xd9400000000000000000000000000000011.0.16906131353938336\\xabstart:agent\\xd9300000000000000000000000000000003.0.7975517800028311\\xa5agent\\xd9300000000000000000000000000000011.0.8630227557782888\\xd9\"branch:agent:should_continue:tools\\xd9300000000000000000000000000000011.0.3501396336476702\\xa5tools\\xd9500000000000000000000000000000011.0.023189964806291763\\xadversions_seen\\x84\\xa9__input__\\x80\\xa9__start__\\x81\\xa9__start__\\xd9300000000000000000000000000000001.0.6022676831889675\\xa5agent\\x82\\xabstart:agent\\xd9300000000000000000000000000000002.0.5316941953470653\\xa5tools\\xd9400000000000000000000000000000010.0.39913395709014143\\xa5tools\\x81\\xd9\"branch:agent:should_continue:tools\\xd9300000000000000000000000000000009.0.4897028416429112'), ('msgpack', b'\\x84\\xa6source\\xa4loop\\xa6writes\\x81\\xa5agent\\x81\\xa8messages\\x91\\xc8\\x04\\x02\\x05\\x94\\xbalangchain_core.messages.ai\\xa9AIMessage\\x8a\\xa7content\\xa0\\xb1additional_kwargs\\x82\\xaatool_calls\\x91\\x83\\xa2id\\xbdcall_jRIveXc2CXkKjsbzH77HCziM\\xa8function\\x82\\xa9arguments\\xd9y{\"query\":\"SELECT Category, Question FROM CompanyDBTable1 WHERE Department = \\'technical architecture\\' ORDER BY Category;\"}\\xa4name\\xacsql_db_query\\xa4type\\xa8function\\xa7refusal\\xc0\\xb1response_metadata\\x87\\xabtoken_usage\\x85\\xb1completion_tokens\"\\xadprompt_tokens\\xcd\\x03\\xb1\\xactotal_tokens\\xcd\\x03\\xd3\\xb9completion_tokens_details\\xc0\\xb5prompt_tokens_details\\xc0\\xaamodel_name\\xabgpt-4o-mini\\xb2system_fingerprint\\xadfp_d54531d9eb\\xb5prompt_filter_results\\x91\\x82\\xacprompt_index\\x00\\xb6content_filter_results\\x80\\xadfinish_reason\\xaatool_calls\\xa8logprobs\\xc0\\xb6content_filter_results\\x80\\xa4type\\xa2ai\\xa4name\\xc0\\xa2id\\xd9*run-33b12c7f-c813-48f9-bbc9-1a5f3e619421-0\\xa7example\\xc2\\xaatool_calls\\x91\\x84\\xa4name\\xacsql_db_query\\xa4args\\x81\\xa5query\\xd9mSELECT Category, Question FROM CompanyDBTable1 WHERE Department = \\'technical architecture\\' ORDER BY Category;\\xa2id\\xbdcall_jRIveXc2CXkKjsbzH77HCziM\\xa4type\\xa9tool_call\\xb2invalid_tool_calls\\x90\\xaeusage_metadata\\x85\\xacinput_tokens\\xcd\\x03\\xb1\\xadoutput_tokens\"\\xactotal_tokens\\xcd\\x03\\xd3\\xb3input_token_details\\x80\\xb4output_token_details\\x80\\xb3model_validate_json\\xa4step\\t\\xa7parents\\x80'), '1ef94e5d-2ba5-6c46-8008-d9d3ac7b9df9'), '1ef94e5d-32a1-6dcf-800a-6e124b6621db': (('msgpack', b'\\x86\\xa1v\\x01\\xa2ts\\xd9 2024-10-28T04:33:48.293888+00:00\\xa2id\\xd9$1ef94e5d-32a1-6dcf-800a-6e124b6621db\\xaechannel_values\\x82\\xa8messages\\x9b\\xc8\\x01\\x16\\x05\\x94\\xbdlangchain_core.messages.human\\xacHumanMessage\\x87\\xa7content\\xd9bmy name is Bhatti, and I am from the technical architecture department, my email is batt@gmail.com\\xb1additional_kwargs\\x80\\xb1response_metadata\\x80\\xa4type\\xa5human\\xa4name\\xc0\\xa2id\\xd9$1a770244-4b69-49cd-abe7-c1b57c7ee003\\xa7example\\xc2\\xb3model_validate_json\\xc8\\x04\\x14\\x05\\x94\\xbalangchain_core.messages.ai\\xa9AIMessage\\x8a\\xa7content\\xa0\\xb1additional_kwargs\\x82\\xaatool_calls\\x91\\x83\\xa2id\\xbdcall_k36KvLNC8Izp0mZTCbvJ7y9T\\xa8function\\x82\\xa9arguments\\xd9z{\"query\":\"SELECT Category, Question FROM MaturityDBTable1 WHERE Department = \\'technical architecture\\' ORDER BY Category;\"}\\xa4name\\xb4sql_db_query_checker\\xa4type\\xa8function\\xa7refusal\\xc0\\xb1response_metadata\\x87\\xabtoken_usage\\x85\\xb1completion_tokens$\\xadprompt_tokens\\xcd\\x02\\x9e\\xactotal_tokens\\xcd\\x02\\xc2\\xb9completion_tokens_details\\xc0\\xb5prompt_tokens_details\\xc0\\xaamodel_name\\xabgpt-4o-mini\\xb2system_fingerprint\\xadfp_d54531d9eb\\xb5prompt_filter_results\\x91\\x82\\xacprompt_index\\x00\\xb6content_filter_results\\x80\\xadfinish_reason\\xaatool_calls\\xa8logprobs\\xc0\\xb6content_filter_results\\x80\\xa4type\\xa2ai\\xa4name\\xc0\\xa2id\\xd9*run-0f98624f-3c54-413a-aada-b3f5eca64809-0\\xa7example\\xc2\\xaatool_calls\\x91\\x84\\xa4name\\xb4sql_db_query_checker\\xa4args\\x81\\xa5query\\xd9nSELECT Category, Question FROM MaturityDBTable1 WHERE Department = \\'technical architecture\\' ORDER BY Category;\\xa2id\\xbdcall_k36KvLNC8Izp0mZTCbvJ7y9T\\xa4type\\xa9tool_call\\xb2invalid_tool_calls\\x90\\xaeusage_metadata\\x85\\xacinput_tokens\\xcd\\x02\\x9e\\xadoutput_tokens$\\xactotal_tokens\\xcd\\x02\\xc2\\xb3input_token_details\\x80\\xb4output_token_details\\x80\\xb3model_validate_json\\xc8\\x01y\\x05\\x94\\xbclangchain_core.messages.tool\\xabToolMessage\\x89\\xa7content\\xd9y```sql\\nSELECT Category, Question FROM MaturityDBTable1 WHERE Department = \\'technical architecture\\' ORDER BY Category;\\n```\\xb1additional_kwargs\\x80\\xb1response_metadata\\x80\\xa4type\\xa4tool\\xa4name\\xb4sql_db_query_checker\\xa2id\\xd9$5837c15f-5544-4e1d-b48e-23d7b8c0a840\\xactool_call_id\\xbdcall_k36KvLNC8Izp0mZTCbvJ7y9T\\xa8artifact\\xc0\\xa6status\\xa7success\\xb3model_validate_json\\xc8\\x04\\x04\\x05\\x94\\xbalangchain_core.messages.ai\\xa9AIMessage\\x8a\\xa7content\\xa0\\xb1additional_kwargs\\x82\\xaatool_calls\\x91\\x83\\xa2id\\xbdcall_lRH4CpGpCzqrkqpblnaT9FRX\\xa8function\\x82\\xa9arguments\\xd9z{\"query\":\"SELECT Category, Question FROM MaturityDBTable1 WHERE Department = \\'technical architecture\\' ORDER BY Category;\"}\\xa4name\\xacsql_db_query\\xa4type\\xa8function\\xa7refusal\\xc0\\xb1response_metadata\\x87\\xabtoken_usage\\x85\\xb1completion_tokens#\\xadprompt_tokens\\xcd\\x02\\xe5\\xactotal_tokens\\xcd\\x03\\x08\\xb9completion_tokens_details\\xc0\\xb5prompt_tokens_details\\xc0\\xaamodel_name\\xabgpt-4o-mini\\xb2system_fingerprint\\xadfp_d54531d9eb\\xb5prompt_filter_results\\x91\\x82\\xacprompt_index\\x00\\xb6content_filter_results\\x80\\xadfinish_reason\\xaatool_calls\\xa8logprobs\\xc0\\xb6content_filter_results\\x80\\xa4type\\xa2ai\\xa4name\\xc0\\xa2id\\xd9*run-f0133a0b-5473-4b62-a28a-e131d6e8fca4-0\\xa7example\\xc2\\xaatool_calls\\x91\\x84\\xa4name\\xacsql_db_query\\xa4args\\x81\\xa5query\\xd9nSELECT Category, Question FROM MaturityDBTable1 WHERE Department = \\'technical architecture\\' ORDER BY Category;\\xa2id\\xbdcall_lRH4CpGpCzqrkqpblnaT9FRX\\xa4type\\xa9tool_call\\xb2invalid_tool_calls\\x90\\xaeusage_metadata\\x85\\xacinput_tokens\\xcd\\x02\\xe5\\xadoutput_tokens#\\xactotal_tokens\\xcd\\x03\\x08\\xb3input_token_details\\x80\\xb4output_token_details\\x80\\xb3model_validate_json\\xc8\\x01\\xec\\x05\\x94\\xbclangchain_core.messages.tool\\xabToolMessage\\x89\\xa7content\\xd9\\xf4Error: (sqlite3.OperationalError) no such table: MaturityDBTable1\\n[SQL: SELECT Category, Question FROM MaturityDBTable1 WHERE Department = \\'technical architecture\\' ORDER BY Category;]\\n(Background on this error at: https://sqlalche.me/e/20/e3q8)\\xb1additional_kwargs\\x80\\xb1response_metadata\\x80\\xa4type\\xa4tool\\xa4name\\xacsql_db_query\\xa2id\\xd9$4a6bfd53-2e9e-45bd-9ee8-efc26faa44f3\\xactool_call_id\\xbdcall_lRH4CpGpCzqrkqpblnaT9FRX\\xa8artifact\\xc0\\xa6status\\xa7success\\xb3model_validate_json\\xc8\\x03!\\x05\\x94\\xbalangchain_core.messages.ai\\xa9AIMessage\\x8a\\xa7content\\xa0\\xb1additional_kwargs\\x82\\xaatool_calls\\x91\\x83\\xa2id\\xbdcall_WSmOM5QG1PhT4EtaisGfdzBW\\xa8function\\x82\\xa9arguments\\xa2{}\\xa4name\\xb2sql_db_list_tables\\xa4type\\xa8function\\xa7refusal\\xc0\\xb1response_metadata\\x87\\xabtoken_usage\\x85\\xb1completion_tokens\\x0c\\xadprompt_tokens\\xcd\\x03R\\xactotal_tokens\\xcd\\x03^\\xb9completion_tokens_details\\xc0\\xb5prompt_tokens_details\\xc0\\xaamodel_name\\xabgpt-4o-mini\\xb2system_fingerprint\\xadfp_d54531d9eb\\xb5prompt_filter_results\\x91\\x82\\xacprompt_index\\x00\\xb6content_filter_results\\x80\\xadfinish_reason\\xaatool_calls\\xa8logprobs\\xc0\\xb6content_filter_results\\x80\\xa4type\\xa2ai\\xa4name\\xc0\\xa2id\\xd9*run-fc1e14eb-432c-4b83-8bab-b2ab2017e203-0\\xa7example\\xc2\\xaatool_calls\\x91\\x84\\xa4name\\xb2sql_db_list_tables\\xa4args\\x80\\xa2id\\xbdcall_WSmOM5QG1PhT4EtaisGfdzBW\\xa4type\\xa9tool_call\\xb2invalid_tool_calls\\x90\\xaeusage_metadata\\x85\\xacinput_tokens\\xcd\\x03R\\xadoutput_tokens\\x0c\\xactotal_tokens\\xcd\\x03^\\xb3input_token_details\\x80\\xb4output_token_details\\x80\\xb3model_validate_json\\xc8\\x01\\x0c\\x05\\x94\\xbclangchain_core.messages.tool\\xabToolMessage\\x89\\xa7content\\xafCompanyDBTable1\\xb1additional_kwargs\\x80\\xb1response_metadata\\x80\\xa4type\\xa4tool\\xa4name\\xb2sql_db_list_tables\\xa2id\\xd9$8a94df67-2324-4666-a257-71a8e1574330\\xactool_call_id\\xbdcall_WSmOM5QG1PhT4EtaisGfdzBW\\xa8artifact\\xc0\\xa6status\\xa7success\\xb3model_validate_json\\xc8\\x04\\x12\\x05\\x94\\xbalangchain_core.messages.ai\\xa9AIMessage\\x8a\\xa7content\\xa0\\xb1additional_kwargs\\x82\\xaatool_calls\\x91\\x83\\xa2id\\xbdcall_ogEgsGMnCq84AJzC5dbm8Qov\\xa8function\\x82\\xa9arguments\\xd9y{\"query\":\"SELECT Category, Question FROM CompanyDBTable1 WHERE Department = \\'technical architecture\\' ORDER BY Category;\"}\\xa4name\\xb4sql_db_query_checker\\xa4type\\xa8function\\xa7refusal\\xc0\\xb1response_metadata\\x87\\xabtoken_usage\\x85\\xb1completion_tokens#\\xadprompt_tokens\\xcd\\x03l\\xactotal_tokens\\xcd\\x03\\x8f\\xb9completion_tokens_details\\xc0\\xb5prompt_tokens_details\\xc0\\xaamodel_name\\xabgpt-4o-mini\\xb2system_fingerprint\\xadfp_d54531d9eb\\xb5prompt_filter_results\\x91\\x82\\xacprompt_index\\x00\\xb6content_filter_results\\x80\\xadfinish_reason\\xaatool_calls\\xa8logprobs\\xc0\\xb6content_filter_results\\x80\\xa4type\\xa2ai\\xa4name\\xc0\\xa2id\\xd9*run-cbc51ef9-107b-48ad-8a92-9eb9b81e8a2e-0\\xa7example\\xc2\\xaatool_calls\\x91\\x84\\xa4name\\xb4sql_db_query_checker\\xa4args\\x81\\xa5query\\xd9mSELECT Category, Question FROM CompanyDBTable1 WHERE Department = \\'technical architecture\\' ORDER BY Category;\\xa2id\\xbdcall_ogEgsGMnCq84AJzC5dbm8Qov\\xa4type\\xa9tool_call\\xb2invalid_tool_calls\\x90\\xaeusage_metadata\\x85\\xacinput_tokens\\xcd\\x03l\\xadoutput_tokens#\\xactotal_tokens\\xcd\\x03\\x8f\\xb3input_token_details\\x80\\xb4output_token_details\\x80\\xb3model_validate_json\\xc8\\x01x\\x05\\x94\\xbclangchain_core.messages.tool\\xabToolMessage\\x89\\xa7content\\xd9x```sql\\nSELECT Category, Question FROM CompanyDBTable1 WHERE Department = \\'technical architecture\\' ORDER BY Category;\\n```\\xb1additional_kwargs\\x80\\xb1response_metadata\\x80\\xa4type\\xa4tool\\xa4name\\xb4sql_db_query_checker\\xa2id\\xd9$ddcf7193-6b62-4bfe-ac7e-a683e1d5c588\\xactool_call_id\\xbdcall_ogEgsGMnCq84AJzC5dbm8Qov\\xa8artifact\\xc0\\xa6status\\xa7success\\xb3model_validate_json\\xc8\\x04\\x02\\x05\\x94\\xbalangchain_core.messages.ai\\xa9AIMessage\\x8a\\xa7content\\xa0\\xb1additional_kwargs\\x82\\xaatool_calls\\x91\\x83\\xa2id\\xbdcall_jRIveXc2CXkKjsbzH77HCziM\\xa8function\\x82\\xa9arguments\\xd9y{\"query\":\"SELECT Category, Question FROM CompanyDBTable1 WHERE Department = \\'technical architecture\\' ORDER BY Category;\"}\\xa4name\\xacsql_db_query\\xa4type\\xa8function\\xa7refusal\\xc0\\xb1response_metadata\\x87\\xabtoken_usage\\x85\\xb1completion_tokens\"\\xadprompt_tokens\\xcd\\x03\\xb1\\xactotal_tokens\\xcd\\x03\\xd3\\xb9completion_tokens_details\\xc0\\xb5prompt_tokens_details\\xc0\\xaamodel_name\\xabgpt-4o-mini\\xb2system_fingerprint\\xadfp_d54531d9eb\\xb5prompt_filter_results\\x91\\x82\\xacprompt_index\\x00\\xb6content_filter_results\\x80\\xadfinish_reason\\xaatool_calls\\xa8logprobs\\xc0\\xb6content_filter_results\\x80\\xa4type\\xa2ai\\xa4name\\xc0\\xa2id\\xd9*run-33b12c7f-c813-48f9-bbc9-1a5f3e619421-0\\xa7example\\xc2\\xaatool_calls\\x91\\x84\\xa4name\\xacsql_db_query\\xa4args\\x81\\xa5query\\xd9mSELECT Category, Question FROM CompanyDBTable1 WHERE Department = \\'technical architecture\\' ORDER BY Category;\\xa2id\\xbdcall_jRIveXc2CXkKjsbzH77HCziM\\xa4type\\xa9tool_call\\xb2invalid_tool_calls\\x90\\xaeusage_metadata\\x85\\xacinput_tokens\\xcd\\x03\\xb1\\xadoutput_tokens\"\\xactotal_tokens\\xcd\\x03\\xd3\\xb3input_token_details\\x80\\xb4output_token_details\\x80\\xb3model_validate_json\\xc7\\xf7\\x05\\x94\\xbclangchain_core.messages.tool\\xabToolMessage\\x89\\xa7content\\xa0\\xb1additional_kwargs\\x80\\xb1response_metadata\\x80\\xa4type\\xa4tool\\xa4name\\xacsql_db_query\\xa2id\\xd9$304d0bf9-843e-4577-8c93-5e77bc6a821c\\xactool_call_id\\xbdcall_jRIveXc2CXkKjsbzH77HCziM\\xa8artifact\\xc0\\xa6status\\xa7success\\xb3model_validate_json\\xa5tools\\xa5tools\\xb0channel_versions\\x86\\xa9__start__\\xd9300000000000000000000000000000002.0.5902666558653081\\xa8messages\\xd9200000000000000000000000000000012.0.258040433246438\\xabstart:agent\\xd9300000000000000000000000000000003.0.7975517800028311\\xa5agent\\xd9400000000000000000000000000000012.0.21284957480894462\\xd9\"branch:agent:should_continue:tools\\xd9400000000000000000000000000000012.0.37562662775593636\\xa5tools\\xd9300000000000000000000000000000012.0.8453134693164224\\xadversions_seen\\x84\\xa9__input__\\x80\\xa9__start__\\x81\\xa9__start__\\xd9300000000000000000000000000000001.0.6022676831889675\\xa5agent\\x82\\xabstart:agent\\xd9300000000000000000000000000000002.0.5316941953470653\\xa5tools\\xd9400000000000000000000000000000010.0.39913395709014143\\xa5tools\\x81\\xd9\"branch:agent:should_continue:tools\\xd9300000000000000000000000000000011.0.3501396336476702'), ('msgpack', b'\\x84\\xa6source\\xa4loop\\xa6writes\\x81\\xa5tools\\x81\\xa8messages\\x91\\xc7\\xf7\\x05\\x94\\xbclangchain_core.messages.tool\\xabToolMessage\\x89\\xa7content\\xa0\\xb1additional_kwargs\\x80\\xb1response_metadata\\x80\\xa4type\\xa4tool\\xa4name\\xacsql_db_query\\xa2id\\xd9$304d0bf9-843e-4577-8c93-5e77bc6a821c\\xactool_call_id\\xbdcall_jRIveXc2CXkKjsbzH77HCziM\\xa8artifact\\xc0\\xa6status\\xa7success\\xb3model_validate_json\\xa4step\\n\\xa7parents\\x80'), '1ef94e5d-3261-615e-8009-ab29d5e1e437'), '1ef94e5d-4153-6150-800b-892fd7da582a': (('msgpack', b'\\x86\\xa1v\\x01\\xa2ts\\xd9 2024-10-28T04:33:49.835502+00:00\\xa2id\\xd9$1ef94e5d-4153-6150-800b-892fd7da582a\\xaechannel_values\\x82\\xa8messages\\x9c\\xc8\\x01\\x16\\x05\\x94\\xbdlangchain_core.messages.human\\xacHumanMessage\\x87\\xa7content\\xd9bmy name is Bhatti, and I am from the technical architecture department, my email is batt@gmail.com\\xb1additional_kwargs\\x80\\xb1response_metadata\\x80\\xa4type\\xa5human\\xa4name\\xc0\\xa2id\\xd9$1a770244-4b69-49cd-abe7-c1b57c7ee003\\xa7example\\xc2\\xb3model_validate_json\\xc8\\x04\\x14\\x05\\x94\\xbalangchain_core.messages.ai\\xa9AIMessage\\x8a\\xa7content\\xa0\\xb1additional_kwargs\\x82\\xaatool_calls\\x91\\x83\\xa2id\\xbdcall_k36KvLNC8Izp0mZTCbvJ7y9T\\xa8function\\x82\\xa9arguments\\xd9z{\"query\":\"SELECT Category, Question FROM MaturityDBTable1 WHERE Department = \\'technical architecture\\' ORDER BY Category;\"}\\xa4name\\xb4sql_db_query_checker\\xa4type\\xa8function\\xa7refusal\\xc0\\xb1response_metadata\\x87\\xabtoken_usage\\x85\\xb1completion_tokens$\\xadprompt_tokens\\xcd\\x02\\x9e\\xactotal_tokens\\xcd\\x02\\xc2\\xb9completion_tokens_details\\xc0\\xb5prompt_tokens_details\\xc0\\xaamodel_name\\xabgpt-4o-mini\\xb2system_fingerprint\\xadfp_d54531d9eb\\xb5prompt_filter_results\\x91\\x82\\xacprompt_index\\x00\\xb6content_filter_results\\x80\\xadfinish_reason\\xaatool_calls\\xa8logprobs\\xc0\\xb6content_filter_results\\x80\\xa4type\\xa2ai\\xa4name\\xc0\\xa2id\\xd9*run-0f98624f-3c54-413a-aada-b3f5eca64809-0\\xa7example\\xc2\\xaatool_calls\\x91\\x84\\xa4name\\xb4sql_db_query_checker\\xa4args\\x81\\xa5query\\xd9nSELECT Category, Question FROM MaturityDBTable1 WHERE Department = \\'technical architecture\\' ORDER BY Category;\\xa2id\\xbdcall_k36KvLNC8Izp0mZTCbvJ7y9T\\xa4type\\xa9tool_call\\xb2invalid_tool_calls\\x90\\xaeusage_metadata\\x85\\xacinput_tokens\\xcd\\x02\\x9e\\xadoutput_tokens$\\xactotal_tokens\\xcd\\x02\\xc2\\xb3input_token_details\\x80\\xb4output_token_details\\x80\\xb3model_validate_json\\xc8\\x01y\\x05\\x94\\xbclangchain_core.messages.tool\\xabToolMessage\\x89\\xa7content\\xd9y```sql\\nSELECT Category, Question FROM MaturityDBTable1 WHERE Department = \\'technical architecture\\' ORDER BY Category;\\n```\\xb1additional_kwargs\\x80\\xb1response_metadata\\x80\\xa4type\\xa4tool\\xa4name\\xb4sql_db_query_checker\\xa2id\\xd9$5837c15f-5544-4e1d-b48e-23d7b8c0a840\\xactool_call_id\\xbdcall_k36KvLNC8Izp0mZTCbvJ7y9T\\xa8artifact\\xc0\\xa6status\\xa7success\\xb3model_validate_json\\xc8\\x04\\x04\\x05\\x94\\xbalangchain_core.messages.ai\\xa9AIMessage\\x8a\\xa7content\\xa0\\xb1additional_kwargs\\x82\\xaatool_calls\\x91\\x83\\xa2id\\xbdcall_lRH4CpGpCzqrkqpblnaT9FRX\\xa8function\\x82\\xa9arguments\\xd9z{\"query\":\"SELECT Category, Question FROM MaturityDBTable1 WHERE Department = \\'technical architecture\\' ORDER BY Category;\"}\\xa4name\\xacsql_db_query\\xa4type\\xa8function\\xa7refusal\\xc0\\xb1response_metadata\\x87\\xabtoken_usage\\x85\\xb1completion_tokens#\\xadprompt_tokens\\xcd\\x02\\xe5\\xactotal_tokens\\xcd\\x03\\x08\\xb9completion_tokens_details\\xc0\\xb5prompt_tokens_details\\xc0\\xaamodel_name\\xabgpt-4o-mini\\xb2system_fingerprint\\xadfp_d54531d9eb\\xb5prompt_filter_results\\x91\\x82\\xacprompt_index\\x00\\xb6content_filter_results\\x80\\xadfinish_reason\\xaatool_calls\\xa8logprobs\\xc0\\xb6content_filter_results\\x80\\xa4type\\xa2ai\\xa4name\\xc0\\xa2id\\xd9*run-f0133a0b-5473-4b62-a28a-e131d6e8fca4-0\\xa7example\\xc2\\xaatool_calls\\x91\\x84\\xa4name\\xacsql_db_query\\xa4args\\x81\\xa5query\\xd9nSELECT Category, Question FROM MaturityDBTable1 WHERE Department = \\'technical architecture\\' ORDER BY Category;\\xa2id\\xbdcall_lRH4CpGpCzqrkqpblnaT9FRX\\xa4type\\xa9tool_call\\xb2invalid_tool_calls\\x90\\xaeusage_metadata\\x85\\xacinput_tokens\\xcd\\x02\\xe5\\xadoutput_tokens#\\xactotal_tokens\\xcd\\x03\\x08\\xb3input_token_details\\x80\\xb4output_token_details\\x80\\xb3model_validate_json\\xc8\\x01\\xec\\x05\\x94\\xbclangchain_core.messages.tool\\xabToolMessage\\x89\\xa7content\\xd9\\xf4Error: (sqlite3.OperationalError) no such table: MaturityDBTable1\\n[SQL: SELECT Category, Question FROM MaturityDBTable1 WHERE Department = \\'technical architecture\\' ORDER BY Category;]\\n(Background on this error at: https://sqlalche.me/e/20/e3q8)\\xb1additional_kwargs\\x80\\xb1response_metadata\\x80\\xa4type\\xa4tool\\xa4name\\xacsql_db_query\\xa2id\\xd9$4a6bfd53-2e9e-45bd-9ee8-efc26faa44f3\\xactool_call_id\\xbdcall_lRH4CpGpCzqrkqpblnaT9FRX\\xa8artifact\\xc0\\xa6status\\xa7success\\xb3model_validate_json\\xc8\\x03!\\x05\\x94\\xbalangchain_core.messages.ai\\xa9AIMessage\\x8a\\xa7content\\xa0\\xb1additional_kwargs\\x82\\xaatool_calls\\x91\\x83\\xa2id\\xbdcall_WSmOM5QG1PhT4EtaisGfdzBW\\xa8function\\x82\\xa9arguments\\xa2{}\\xa4name\\xb2sql_db_list_tables\\xa4type\\xa8function\\xa7refusal\\xc0\\xb1response_metadata\\x87\\xabtoken_usage\\x85\\xb1completion_tokens\\x0c\\xadprompt_tokens\\xcd\\x03R\\xactotal_tokens\\xcd\\x03^\\xb9completion_tokens_details\\xc0\\xb5prompt_tokens_details\\xc0\\xaamodel_name\\xabgpt-4o-mini\\xb2system_fingerprint\\xadfp_d54531d9eb\\xb5prompt_filter_results\\x91\\x82\\xacprompt_index\\x00\\xb6content_filter_results\\x80\\xadfinish_reason\\xaatool_calls\\xa8logprobs\\xc0\\xb6content_filter_results\\x80\\xa4type\\xa2ai\\xa4name\\xc0\\xa2id\\xd9*run-fc1e14eb-432c-4b83-8bab-b2ab2017e203-0\\xa7example\\xc2\\xaatool_calls\\x91\\x84\\xa4name\\xb2sql_db_list_tables\\xa4args\\x80\\xa2id\\xbdcall_WSmOM5QG1PhT4EtaisGfdzBW\\xa4type\\xa9tool_call\\xb2invalid_tool_calls\\x90\\xaeusage_metadata\\x85\\xacinput_tokens\\xcd\\x03R\\xadoutput_tokens\\x0c\\xactotal_tokens\\xcd\\x03^\\xb3input_token_details\\x80\\xb4output_token_details\\x80\\xb3model_validate_json\\xc8\\x01\\x0c\\x05\\x94\\xbclangchain_core.messages.tool\\xabToolMessage\\x89\\xa7content\\xafCompanyDBTable1\\xb1additional_kwargs\\x80\\xb1response_metadata\\x80\\xa4type\\xa4tool\\xa4name\\xb2sql_db_list_tables\\xa2id\\xd9$8a94df67-2324-4666-a257-71a8e1574330\\xactool_call_id\\xbdcall_WSmOM5QG1PhT4EtaisGfdzBW\\xa8artifact\\xc0\\xa6status\\xa7success\\xb3model_validate_json\\xc8\\x04\\x12\\x05\\x94\\xbalangchain_core.messages.ai\\xa9AIMessage\\x8a\\xa7content\\xa0\\xb1additional_kwargs\\x82\\xaatool_calls\\x91\\x83\\xa2id\\xbdcall_ogEgsGMnCq84AJzC5dbm8Qov\\xa8function\\x82\\xa9arguments\\xd9y{\"query\":\"SELECT Category, Question FROM CompanyDBTable1 WHERE Department = \\'technical architecture\\' ORDER BY Category;\"}\\xa4name\\xb4sql_db_query_checker\\xa4type\\xa8function\\xa7refusal\\xc0\\xb1response_metadata\\x87\\xabtoken_usage\\x85\\xb1completion_tokens#\\xadprompt_tokens\\xcd\\x03l\\xactotal_tokens\\xcd\\x03\\x8f\\xb9completion_tokens_details\\xc0\\xb5prompt_tokens_details\\xc0\\xaamodel_name\\xabgpt-4o-mini\\xb2system_fingerprint\\xadfp_d54531d9eb\\xb5prompt_filter_results\\x91\\x82\\xacprompt_index\\x00\\xb6content_filter_results\\x80\\xadfinish_reason\\xaatool_calls\\xa8logprobs\\xc0\\xb6content_filter_results\\x80\\xa4type\\xa2ai\\xa4name\\xc0\\xa2id\\xd9*run-cbc51ef9-107b-48ad-8a92-9eb9b81e8a2e-0\\xa7example\\xc2\\xaatool_calls\\x91\\x84\\xa4name\\xb4sql_db_query_checker\\xa4args\\x81\\xa5query\\xd9mSELECT Category, Question FROM CompanyDBTable1 WHERE Department = \\'technical architecture\\' ORDER BY Category;\\xa2id\\xbdcall_ogEgsGMnCq84AJzC5dbm8Qov\\xa4type\\xa9tool_call\\xb2invalid_tool_calls\\x90\\xaeusage_metadata\\x85\\xacinput_tokens\\xcd\\x03l\\xadoutput_tokens#\\xactotal_tokens\\xcd\\x03\\x8f\\xb3input_token_details\\x80\\xb4output_token_details\\x80\\xb3model_validate_json\\xc8\\x01x\\x05\\x94\\xbclangchain_core.messages.tool\\xabToolMessage\\x89\\xa7content\\xd9x```sql\\nSELECT Category, Question FROM CompanyDBTable1 WHERE Department = \\'technical architecture\\' ORDER BY Category;\\n```\\xb1additional_kwargs\\x80\\xb1response_metadata\\x80\\xa4type\\xa4tool\\xa4name\\xb4sql_db_query_checker\\xa2id\\xd9$ddcf7193-6b62-4bfe-ac7e-a683e1d5c588\\xactool_call_id\\xbdcall_ogEgsGMnCq84AJzC5dbm8Qov\\xa8artifact\\xc0\\xa6status\\xa7success\\xb3model_validate_json\\xc8\\x04\\x02\\x05\\x94\\xbalangchain_core.messages.ai\\xa9AIMessage\\x8a\\xa7content\\xa0\\xb1additional_kwargs\\x82\\xaatool_calls\\x91\\x83\\xa2id\\xbdcall_jRIveXc2CXkKjsbzH77HCziM\\xa8function\\x82\\xa9arguments\\xd9y{\"query\":\"SELECT Category, Question FROM CompanyDBTable1 WHERE Department = \\'technical architecture\\' ORDER BY Category;\"}\\xa4name\\xacsql_db_query\\xa4type\\xa8function\\xa7refusal\\xc0\\xb1response_metadata\\x87\\xabtoken_usage\\x85\\xb1completion_tokens\"\\xadprompt_tokens\\xcd\\x03\\xb1\\xactotal_tokens\\xcd\\x03\\xd3\\xb9completion_tokens_details\\xc0\\xb5prompt_tokens_details\\xc0\\xaamodel_name\\xabgpt-4o-mini\\xb2system_fingerprint\\xadfp_d54531d9eb\\xb5prompt_filter_results\\x91\\x82\\xacprompt_index\\x00\\xb6content_filter_results\\x80\\xadfinish_reason\\xaatool_calls\\xa8logprobs\\xc0\\xb6content_filter_results\\x80\\xa4type\\xa2ai\\xa4name\\xc0\\xa2id\\xd9*run-33b12c7f-c813-48f9-bbc9-1a5f3e619421-0\\xa7example\\xc2\\xaatool_calls\\x91\\x84\\xa4name\\xacsql_db_query\\xa4args\\x81\\xa5query\\xd9mSELECT Category, Question FROM CompanyDBTable1 WHERE Department = \\'technical architecture\\' ORDER BY Category;\\xa2id\\xbdcall_jRIveXc2CXkKjsbzH77HCziM\\xa4type\\xa9tool_call\\xb2invalid_tool_calls\\x90\\xaeusage_metadata\\x85\\xacinput_tokens\\xcd\\x03\\xb1\\xadoutput_tokens\"\\xactotal_tokens\\xcd\\x03\\xd3\\xb3input_token_details\\x80\\xb4output_token_details\\x80\\xb3model_validate_json\\xc7\\xf7\\x05\\x94\\xbclangchain_core.messages.tool\\xabToolMessage\\x89\\xa7content\\xa0\\xb1additional_kwargs\\x80\\xb1response_metadata\\x80\\xa4type\\xa4tool\\xa4name\\xacsql_db_query\\xa2id\\xd9$304d0bf9-843e-4577-8c93-5e77bc6a821c\\xactool_call_id\\xbdcall_jRIveXc2CXkKjsbzH77HCziM\\xa8artifact\\xc0\\xa6status\\xa7success\\xb3model_validate_json\\xc8\\x060\\x05\\x94\\xbalangchain_core.messages.ai\\xa9AIMessage\\x8a\\xa7content\\xda\\x02\\xeeHello Bhatti! Thank you for connecting. I\\'m here to help you evaluate the maturity of your department through a series of questions.\\n\\n### Purpose of the Assessment:\\n1. **Evaluate Department Maturity**: We\\'ll assess various aspects of your department\\'s processes and practices.\\n2. **What to Expect**: You\\'ll answer a series of questions grouped by categories.\\n3. **Data Privacy**: Your responses will be saved for analysis, and your information will be kept confidential.\\n\\n### Categories Covered:\\nI\\'ll be asking questions from different categories related to the technical architecture department.\\n\\nLet\\'s get started! \\n\\n**Category 1: [Insert Category Name Here]**  \\nHere\\'s your first question:  \\n[Insert Question Here]  \\n\\nPlease provide your response!\\xb1additional_kwargs\\x81\\xa7refusal\\xc0\\xb1response_metadata\\x87\\xabtoken_usage\\x85\\xb1completion_tokens\\xcc\\x94\\xadprompt_tokens\\xcd\\x03\\xdc\\xactotal_tokens\\xcd\\x04p\\xb9completion_tokens_details\\xc0\\xb5prompt_tokens_details\\xc0\\xaamodel_name\\xabgpt-4o-mini\\xb2system_fingerprint\\xadfp_d54531d9eb\\xb5prompt_filter_results\\x91\\x82\\xacprompt_index\\x00\\xb6content_filter_results\\x80\\xadfinish_reason\\xa4stop\\xa8logprobs\\xc0\\xb6content_filter_results\\x86\\xa4hate\\x82\\xa8filtered\\xc2\\xa8severity\\xa4safe\\xb7protected_material_code\\x82\\xa8filtered\\xc2\\xa8detected\\xc2\\xb7protected_material_text\\x82\\xa8filtered\\xc2\\xa8detected\\xc2\\xa9self_harm\\x82\\xa8filtered\\xc2\\xa8severity\\xa4safe\\xa6sexual\\x82\\xa8filtered\\xc2\\xa8severity\\xa4safe\\xa8violence\\x82\\xa8filtered\\xc2\\xa8severity\\xa4safe\\xa4type\\xa2ai\\xa4name\\xc0\\xa2id\\xd9*run-484d27d3-22c9-4d2a-a79f-4aefb594e6b8-0\\xa7example\\xc2\\xaatool_calls\\x90\\xb2invalid_tool_calls\\x90\\xaeusage_metadata\\x85\\xacinput_tokens\\xcd\\x03\\xdc\\xadoutput_tokens\\xcc\\x94\\xactotal_tokens\\xcd\\x04p\\xb3input_token_details\\x80\\xb4output_token_details\\x80\\xb3model_validate_json\\xa5agent\\xa5agent\\xb0channel_versions\\x86\\xa9__start__\\xd9300000000000000000000000000000002.0.5902666558653081\\xa8messages\\xd9400000000000000000000000000000013.0.12532883513389537\\xabstart:agent\\xd9300000000000000000000000000000003.0.7975517800028311\\xa5agent\\xd9400000000000000000000000000000013.0.20588308061107663\\xd9\"branch:agent:should_continue:tools\\xd9400000000000000000000000000000012.0.37562662775593636\\xa5tools\\xd9500000000000000000000000000000013.0.006657359031009724\\xadversions_seen\\x84\\xa9__input__\\x80\\xa9__start__\\x81\\xa9__start__\\xd9300000000000000000000000000000001.0.6022676831889675\\xa5agent\\x82\\xabstart:agent\\xd9300000000000000000000000000000002.0.5316941953470653\\xa5tools\\xd9300000000000000000000000000000012.0.8453134693164224\\xa5tools\\x81\\xd9\"branch:agent:should_continue:tools\\xd9300000000000000000000000000000011.0.3501396336476702'), ('msgpack', b\"\\x84\\xa6source\\xa4loop\\xa6writes\\x81\\xa5agent\\x81\\xa8messages\\x91\\xc8\\x060\\x05\\x94\\xbalangchain_core.messages.ai\\xa9AIMessage\\x8a\\xa7content\\xda\\x02\\xeeHello Bhatti! Thank you for connecting. I'm here to help you evaluate the maturity of your department through a series of questions.\\n\\n### Purpose of the Assessment:\\n1. **Evaluate Department Maturity**: We'll assess various aspects of your department's processes and practices.\\n2. **What to Expect**: You'll answer a series of questions grouped by categories.\\n3. **Data Privacy**: Your responses will be saved for analysis, and your information will be kept confidential.\\n\\n### Categories Covered:\\nI'll be asking questions from different categories related to the technical architecture department.\\n\\nLet's get started! \\n\\n**Category 1: [Insert Category Name Here]**  \\nHere's your first question:  \\n[Insert Question Here]  \\n\\nPlease provide your response!\\xb1additional_kwargs\\x81\\xa7refusal\\xc0\\xb1response_metadata\\x87\\xabtoken_usage\\x85\\xb1completion_tokens\\xcc\\x94\\xadprompt_tokens\\xcd\\x03\\xdc\\xactotal_tokens\\xcd\\x04p\\xb9completion_tokens_details\\xc0\\xb5prompt_tokens_details\\xc0\\xaamodel_name\\xabgpt-4o-mini\\xb2system_fingerprint\\xadfp_d54531d9eb\\xb5prompt_filter_results\\x91\\x82\\xacprompt_index\\x00\\xb6content_filter_results\\x80\\xadfinish_reason\\xa4stop\\xa8logprobs\\xc0\\xb6content_filter_results\\x86\\xa4hate\\x82\\xa8filtered\\xc2\\xa8severity\\xa4safe\\xb7protected_material_code\\x82\\xa8filtered\\xc2\\xa8detected\\xc2\\xb7protected_material_text\\x82\\xa8filtered\\xc2\\xa8detected\\xc2\\xa9self_harm\\x82\\xa8filtered\\xc2\\xa8severity\\xa4safe\\xa6sexual\\x82\\xa8filtered\\xc2\\xa8severity\\xa4safe\\xa8violence\\x82\\xa8filtered\\xc2\\xa8severity\\xa4safe\\xa4type\\xa2ai\\xa4name\\xc0\\xa2id\\xd9*run-484d27d3-22c9-4d2a-a79f-4aefb594e6b8-0\\xa7example\\xc2\\xaatool_calls\\x90\\xb2invalid_tool_calls\\x90\\xaeusage_metadata\\x85\\xacinput_tokens\\xcd\\x03\\xdc\\xadoutput_tokens\\xcc\\x94\\xactotal_tokens\\xcd\\x04p\\xb3input_token_details\\x80\\xb4output_token_details\\x80\\xb3model_validate_json\\xa4step\\x0b\\xa7parents\\x80\"), '1ef94e5d-32a1-6dcf-800a-6e124b6621db')}})}), 'writes': defaultdict(<class 'dict'>, {('abc123', '', '1ef94e5c-f2e0-6482-bfff-222f85b08f8e'): {('19382f7c-bd9c-0ed7-acc5-ee54d96f6277', 0): ('19382f7c-bd9c-0ed7-acc5-ee54d96f6277', 'messages', ('msgpack', b'\\x91\\xc8\\x01\\x16\\x05\\x94\\xbdlangchain_core.messages.human\\xacHumanMessage\\x87\\xa7content\\xd9bmy name is Bhatti, and I am from the technical architecture department, my email is batt@gmail.com\\xb1additional_kwargs\\x80\\xb1response_metadata\\x80\\xa4type\\xa5human\\xa4name\\xc0\\xa2id\\xd9$1a770244-4b69-49cd-abe7-c1b57c7ee003\\xa7example\\xc2\\xb3model_validate_json')), ('19382f7c-bd9c-0ed7-acc5-ee54d96f6277', 1): ('19382f7c-bd9c-0ed7-acc5-ee54d96f6277', 'start:agent', ('msgpack', b'\\xa9__start__'))}, ('abc123', '', '1ef94e5c-f2ea-6398-8000-b19f6d590b78'): {('013f7b69-02a9-5492-39e4-e11887e512b2', 0): ('013f7b69-02a9-5492-39e4-e11887e512b2', 'agent', ('msgpack', b'\\xa5agent')), ('013f7b69-02a9-5492-39e4-e11887e512b2', 1): ('013f7b69-02a9-5492-39e4-e11887e512b2', 'messages', ('msgpack', b'\\x91\\xc8\\x04\\x14\\x05\\x94\\xbalangchain_core.messages.ai\\xa9AIMessage\\x8a\\xa7content\\xa0\\xb1additional_kwargs\\x82\\xaatool_calls\\x91\\x83\\xa2id\\xbdcall_k36KvLNC8Izp0mZTCbvJ7y9T\\xa8function\\x82\\xa9arguments\\xd9z{\"query\":\"SELECT Category, Question FROM MaturityDBTable1 WHERE Department = \\'technical architecture\\' ORDER BY Category;\"}\\xa4name\\xb4sql_db_query_checker\\xa4type\\xa8function\\xa7refusal\\xc0\\xb1response_metadata\\x87\\xabtoken_usage\\x85\\xb1completion_tokens$\\xadprompt_tokens\\xcd\\x02\\x9e\\xactotal_tokens\\xcd\\x02\\xc2\\xb9completion_tokens_details\\xc0\\xb5prompt_tokens_details\\xc0\\xaamodel_name\\xabgpt-4o-mini\\xb2system_fingerprint\\xadfp_d54531d9eb\\xb5prompt_filter_results\\x91\\x82\\xacprompt_index\\x00\\xb6content_filter_results\\x80\\xadfinish_reason\\xaatool_calls\\xa8logprobs\\xc0\\xb6content_filter_results\\x80\\xa4type\\xa2ai\\xa4name\\xc0\\xa2id\\xd9*run-0f98624f-3c54-413a-aada-b3f5eca64809-0\\xa7example\\xc2\\xaatool_calls\\x91\\x84\\xa4name\\xb4sql_db_query_checker\\xa4args\\x81\\xa5query\\xd9nSELECT Category, Question FROM MaturityDBTable1 WHERE Department = \\'technical architecture\\' ORDER BY Category;\\xa2id\\xbdcall_k36KvLNC8Izp0mZTCbvJ7y9T\\xa4type\\xa9tool_call\\xb2invalid_tool_calls\\x90\\xaeusage_metadata\\x85\\xacinput_tokens\\xcd\\x02\\x9e\\xadoutput_tokens$\\xactotal_tokens\\xcd\\x02\\xc2\\xb3input_token_details\\x80\\xb4output_token_details\\x80\\xb3model_validate_json')), ('013f7b69-02a9-5492-39e4-e11887e512b2', 2): ('013f7b69-02a9-5492-39e4-e11887e512b2', 'branch:agent:should_continue:tools', ('msgpack', b'\\xa5agent'))}, ('abc123', '', '1ef94e5d-03ae-68d0-8001-532799f7ab95'): {('a7456ef3-e5d8-ad23-b70c-bfaae13e084c', 0): ('a7456ef3-e5d8-ad23-b70c-bfaae13e084c', 'tools', ('msgpack', b'\\xa5tools')), ('a7456ef3-e5d8-ad23-b70c-bfaae13e084c', 1): ('a7456ef3-e5d8-ad23-b70c-bfaae13e084c', 'messages', ('msgpack', b\"\\x91\\xc8\\x01y\\x05\\x94\\xbclangchain_core.messages.tool\\xabToolMessage\\x89\\xa7content\\xd9y```sql\\nSELECT Category, Question FROM MaturityDBTable1 WHERE Department = 'technical architecture' ORDER BY Category;\\n```\\xb1additional_kwargs\\x80\\xb1response_metadata\\x80\\xa4type\\xa4tool\\xa4name\\xb4sql_db_query_checker\\xa2id\\xd9$5837c15f-5544-4e1d-b48e-23d7b8c0a840\\xactool_call_id\\xbdcall_k36KvLNC8Izp0mZTCbvJ7y9T\\xa8artifact\\xc0\\xa6status\\xa7success\\xb3model_validate_json\"))}, ('abc123', '', '1ef94e5d-0b10-62a6-8002-920356d45a36'): {('90664d5c-d720-af74-4f6d-87491d192d48', 0): ('90664d5c-d720-af74-4f6d-87491d192d48', 'agent', ('msgpack', b'\\xa5agent')), ('90664d5c-d720-af74-4f6d-87491d192d48', 1): ('90664d5c-d720-af74-4f6d-87491d192d48', 'messages', ('msgpack', b'\\x91\\xc8\\x04\\x04\\x05\\x94\\xbalangchain_core.messages.ai\\xa9AIMessage\\x8a\\xa7content\\xa0\\xb1additional_kwargs\\x82\\xaatool_calls\\x91\\x83\\xa2id\\xbdcall_lRH4CpGpCzqrkqpblnaT9FRX\\xa8function\\x82\\xa9arguments\\xd9z{\"query\":\"SELECT Category, Question FROM MaturityDBTable1 WHERE Department = \\'technical architecture\\' ORDER BY Category;\"}\\xa4name\\xacsql_db_query\\xa4type\\xa8function\\xa7refusal\\xc0\\xb1response_metadata\\x87\\xabtoken_usage\\x85\\xb1completion_tokens#\\xadprompt_tokens\\xcd\\x02\\xe5\\xactotal_tokens\\xcd\\x03\\x08\\xb9completion_tokens_details\\xc0\\xb5prompt_tokens_details\\xc0\\xaamodel_name\\xabgpt-4o-mini\\xb2system_fingerprint\\xadfp_d54531d9eb\\xb5prompt_filter_results\\x91\\x82\\xacprompt_index\\x00\\xb6content_filter_results\\x80\\xadfinish_reason\\xaatool_calls\\xa8logprobs\\xc0\\xb6content_filter_results\\x80\\xa4type\\xa2ai\\xa4name\\xc0\\xa2id\\xd9*run-f0133a0b-5473-4b62-a28a-e131d6e8fca4-0\\xa7example\\xc2\\xaatool_calls\\x91\\x84\\xa4name\\xacsql_db_query\\xa4args\\x81\\xa5query\\xd9nSELECT Category, Question FROM MaturityDBTable1 WHERE Department = \\'technical architecture\\' ORDER BY Category;\\xa2id\\xbdcall_lRH4CpGpCzqrkqpblnaT9FRX\\xa4type\\xa9tool_call\\xb2invalid_tool_calls\\x90\\xaeusage_metadata\\x85\\xacinput_tokens\\xcd\\x02\\xe5\\xadoutput_tokens#\\xactotal_tokens\\xcd\\x03\\x08\\xb3input_token_details\\x80\\xb4output_token_details\\x80\\xb3model_validate_json')), ('90664d5c-d720-af74-4f6d-87491d192d48', 2): ('90664d5c-d720-af74-4f6d-87491d192d48', 'branch:agent:should_continue:tools', ('msgpack', b'\\xa5agent'))}, ('abc123', '', '1ef94e5d-12dc-62f1-8003-2893c12df21b'): {('d67666f9-14b8-d455-eb29-07426162670d', 0): ('d67666f9-14b8-d455-eb29-07426162670d', 'tools', ('msgpack', b'\\xa5tools')), ('d67666f9-14b8-d455-eb29-07426162670d', 1): ('d67666f9-14b8-d455-eb29-07426162670d', 'messages', ('msgpack', b\"\\x91\\xc8\\x01\\xec\\x05\\x94\\xbclangchain_core.messages.tool\\xabToolMessage\\x89\\xa7content\\xd9\\xf4Error: (sqlite3.OperationalError) no such table: MaturityDBTable1\\n[SQL: SELECT Category, Question FROM MaturityDBTable1 WHERE Department = 'technical architecture' ORDER BY Category;]\\n(Background on this error at: https://sqlalche.me/e/20/e3q8)\\xb1additional_kwargs\\x80\\xb1response_metadata\\x80\\xa4type\\xa4tool\\xa4name\\xacsql_db_query\\xa2id\\xd9$4a6bfd53-2e9e-45bd-9ee8-efc26faa44f3\\xactool_call_id\\xbdcall_lRH4CpGpCzqrkqpblnaT9FRX\\xa8artifact\\xc0\\xa6status\\xa7success\\xb3model_validate_json\"))}, ('abc123', '', '1ef94e5d-130f-61ab-8004-8ac892c8bde9'): {('8d19d776-d786-2a87-977f-097f6f5448c9', 0): ('8d19d776-d786-2a87-977f-097f6f5448c9', 'agent', ('msgpack', b'\\xa5agent')), ('8d19d776-d786-2a87-977f-097f6f5448c9', 1): ('8d19d776-d786-2a87-977f-097f6f5448c9', 'messages', ('msgpack', b'\\x91\\xc8\\x03!\\x05\\x94\\xbalangchain_core.messages.ai\\xa9AIMessage\\x8a\\xa7content\\xa0\\xb1additional_kwargs\\x82\\xaatool_calls\\x91\\x83\\xa2id\\xbdcall_WSmOM5QG1PhT4EtaisGfdzBW\\xa8function\\x82\\xa9arguments\\xa2{}\\xa4name\\xb2sql_db_list_tables\\xa4type\\xa8function\\xa7refusal\\xc0\\xb1response_metadata\\x87\\xabtoken_usage\\x85\\xb1completion_tokens\\x0c\\xadprompt_tokens\\xcd\\x03R\\xactotal_tokens\\xcd\\x03^\\xb9completion_tokens_details\\xc0\\xb5prompt_tokens_details\\xc0\\xaamodel_name\\xabgpt-4o-mini\\xb2system_fingerprint\\xadfp_d54531d9eb\\xb5prompt_filter_results\\x91\\x82\\xacprompt_index\\x00\\xb6content_filter_results\\x80\\xadfinish_reason\\xaatool_calls\\xa8logprobs\\xc0\\xb6content_filter_results\\x80\\xa4type\\xa2ai\\xa4name\\xc0\\xa2id\\xd9*run-fc1e14eb-432c-4b83-8bab-b2ab2017e203-0\\xa7example\\xc2\\xaatool_calls\\x91\\x84\\xa4name\\xb2sql_db_list_tables\\xa4args\\x80\\xa2id\\xbdcall_WSmOM5QG1PhT4EtaisGfdzBW\\xa4type\\xa9tool_call\\xb2invalid_tool_calls\\x90\\xaeusage_metadata\\x85\\xacinput_tokens\\xcd\\x03R\\xadoutput_tokens\\x0c\\xactotal_tokens\\xcd\\x03^\\xb3input_token_details\\x80\\xb4output_token_details\\x80\\xb3model_validate_json')), ('8d19d776-d786-2a87-977f-097f6f5448c9', 2): ('8d19d776-d786-2a87-977f-097f6f5448c9', 'branch:agent:should_continue:tools', ('msgpack', b'\\xa5agent'))}, ('abc123', '', '1ef94e5d-18ed-6da5-8005-3587ac0d11d5'): {('35468215-c72e-d000-47f5-a1ef823b1a15', 0): ('35468215-c72e-d000-47f5-a1ef823b1a15', 'tools', ('msgpack', b'\\xa5tools')), ('35468215-c72e-d000-47f5-a1ef823b1a15', 1): ('35468215-c72e-d000-47f5-a1ef823b1a15', 'messages', ('msgpack', b'\\x91\\xc8\\x01\\x0c\\x05\\x94\\xbclangchain_core.messages.tool\\xabToolMessage\\x89\\xa7content\\xafCompanyDBTable1\\xb1additional_kwargs\\x80\\xb1response_metadata\\x80\\xa4type\\xa4tool\\xa4name\\xb2sql_db_list_tables\\xa2id\\xd9$8a94df67-2324-4666-a257-71a8e1574330\\xactool_call_id\\xbdcall_WSmOM5QG1PhT4EtaisGfdzBW\\xa8artifact\\xc0\\xa6status\\xa7success\\xb3model_validate_json'))}, ('abc123', '', '1ef94e5d-1910-6074-8006-5bcd1343658e'): {('70f2f7f6-7137-43bf-a050-c4c36edf6b3d', 0): ('70f2f7f6-7137-43bf-a050-c4c36edf6b3d', 'agent', ('msgpack', b'\\xa5agent')), ('70f2f7f6-7137-43bf-a050-c4c36edf6b3d', 1): ('70f2f7f6-7137-43bf-a050-c4c36edf6b3d', 'messages', ('msgpack', b'\\x91\\xc8\\x04\\x12\\x05\\x94\\xbalangchain_core.messages.ai\\xa9AIMessage\\x8a\\xa7content\\xa0\\xb1additional_kwargs\\x82\\xaatool_calls\\x91\\x83\\xa2id\\xbdcall_ogEgsGMnCq84AJzC5dbm8Qov\\xa8function\\x82\\xa9arguments\\xd9y{\"query\":\"SELECT Category, Question FROM CompanyDBTable1 WHERE Department = \\'technical architecture\\' ORDER BY Category;\"}\\xa4name\\xb4sql_db_query_checker\\xa4type\\xa8function\\xa7refusal\\xc0\\xb1response_metadata\\x87\\xabtoken_usage\\x85\\xb1completion_tokens#\\xadprompt_tokens\\xcd\\x03l\\xactotal_tokens\\xcd\\x03\\x8f\\xb9completion_tokens_details\\xc0\\xb5prompt_tokens_details\\xc0\\xaamodel_name\\xabgpt-4o-mini\\xb2system_fingerprint\\xadfp_d54531d9eb\\xb5prompt_filter_results\\x91\\x82\\xacprompt_index\\x00\\xb6content_filter_results\\x80\\xadfinish_reason\\xaatool_calls\\xa8logprobs\\xc0\\xb6content_filter_results\\x80\\xa4type\\xa2ai\\xa4name\\xc0\\xa2id\\xd9*run-cbc51ef9-107b-48ad-8a92-9eb9b81e8a2e-0\\xa7example\\xc2\\xaatool_calls\\x91\\x84\\xa4name\\xb4sql_db_query_checker\\xa4args\\x81\\xa5query\\xd9mSELECT Category, Question FROM CompanyDBTable1 WHERE Department = \\'technical architecture\\' ORDER BY Category;\\xa2id\\xbdcall_ogEgsGMnCq84AJzC5dbm8Qov\\xa4type\\xa9tool_call\\xb2invalid_tool_calls\\x90\\xaeusage_metadata\\x85\\xacinput_tokens\\xcd\\x03l\\xadoutput_tokens#\\xactotal_tokens\\xcd\\x03\\x8f\\xb3input_token_details\\x80\\xb4output_token_details\\x80\\xb3model_validate_json')), ('70f2f7f6-7137-43bf-a050-c4c36edf6b3d', 2): ('70f2f7f6-7137-43bf-a050-c4c36edf6b3d', 'branch:agent:should_continue:tools', ('msgpack', b'\\xa5agent'))}, ('abc123', '', '1ef94e5d-213e-61d6-8007-66b1048b28b2'): {('50927025-02df-c401-af5b-4d384154f697', 0): ('50927025-02df-c401-af5b-4d384154f697', 'tools', ('msgpack', b'\\xa5tools')), ('50927025-02df-c401-af5b-4d384154f697', 1): ('50927025-02df-c401-af5b-4d384154f697', 'messages', ('msgpack', b\"\\x91\\xc8\\x01x\\x05\\x94\\xbclangchain_core.messages.tool\\xabToolMessage\\x89\\xa7content\\xd9x```sql\\nSELECT Category, Question FROM CompanyDBTable1 WHERE Department = 'technical architecture' ORDER BY Category;\\n```\\xb1additional_kwargs\\x80\\xb1response_metadata\\x80\\xa4type\\xa4tool\\xa4name\\xb4sql_db_query_checker\\xa2id\\xd9$ddcf7193-6b62-4bfe-ac7e-a683e1d5c588\\xactool_call_id\\xbdcall_ogEgsGMnCq84AJzC5dbm8Qov\\xa8artifact\\xc0\\xa6status\\xa7success\\xb3model_validate_json\"))}, ('abc123', '', '1ef94e5d-2ba5-6c46-8008-d9d3ac7b9df9'): {('d18e21a8-8653-0dc2-055e-bcd065287794', 0): ('d18e21a8-8653-0dc2-055e-bcd065287794', 'agent', ('msgpack', b'\\xa5agent')), ('d18e21a8-8653-0dc2-055e-bcd065287794', 1): ('d18e21a8-8653-0dc2-055e-bcd065287794', 'messages', ('msgpack', b'\\x91\\xc8\\x04\\x02\\x05\\x94\\xbalangchain_core.messages.ai\\xa9AIMessage\\x8a\\xa7content\\xa0\\xb1additional_kwargs\\x82\\xaatool_calls\\x91\\x83\\xa2id\\xbdcall_jRIveXc2CXkKjsbzH77HCziM\\xa8function\\x82\\xa9arguments\\xd9y{\"query\":\"SELECT Category, Question FROM CompanyDBTable1 WHERE Department = \\'technical architecture\\' ORDER BY Category;\"}\\xa4name\\xacsql_db_query\\xa4type\\xa8function\\xa7refusal\\xc0\\xb1response_metadata\\x87\\xabtoken_usage\\x85\\xb1completion_tokens\"\\xadprompt_tokens\\xcd\\x03\\xb1\\xactotal_tokens\\xcd\\x03\\xd3\\xb9completion_tokens_details\\xc0\\xb5prompt_tokens_details\\xc0\\xaamodel_name\\xabgpt-4o-mini\\xb2system_fingerprint\\xadfp_d54531d9eb\\xb5prompt_filter_results\\x91\\x82\\xacprompt_index\\x00\\xb6content_filter_results\\x80\\xadfinish_reason\\xaatool_calls\\xa8logprobs\\xc0\\xb6content_filter_results\\x80\\xa4type\\xa2ai\\xa4name\\xc0\\xa2id\\xd9*run-33b12c7f-c813-48f9-bbc9-1a5f3e619421-0\\xa7example\\xc2\\xaatool_calls\\x91\\x84\\xa4name\\xacsql_db_query\\xa4args\\x81\\xa5query\\xd9mSELECT Category, Question FROM CompanyDBTable1 WHERE Department = \\'technical architecture\\' ORDER BY Category;\\xa2id\\xbdcall_jRIveXc2CXkKjsbzH77HCziM\\xa4type\\xa9tool_call\\xb2invalid_tool_calls\\x90\\xaeusage_metadata\\x85\\xacinput_tokens\\xcd\\x03\\xb1\\xadoutput_tokens\"\\xactotal_tokens\\xcd\\x03\\xd3\\xb3input_token_details\\x80\\xb4output_token_details\\x80\\xb3model_validate_json')), ('d18e21a8-8653-0dc2-055e-bcd065287794', 2): ('d18e21a8-8653-0dc2-055e-bcd065287794', 'branch:agent:should_continue:tools', ('msgpack', b'\\xa5agent'))}, ('abc123', '', '1ef94e5d-3261-615e-8009-ab29d5e1e437'): {('80586dfc-a8c3-b936-4ac1-a641556d4d87', 0): ('80586dfc-a8c3-b936-4ac1-a641556d4d87', 'tools', ('msgpack', b'\\xa5tools')), ('80586dfc-a8c3-b936-4ac1-a641556d4d87', 1): ('80586dfc-a8c3-b936-4ac1-a641556d4d87', 'messages', ('msgpack', b'\\x91\\xc7\\xf7\\x05\\x94\\xbclangchain_core.messages.tool\\xabToolMessage\\x89\\xa7content\\xa0\\xb1additional_kwargs\\x80\\xb1response_metadata\\x80\\xa4type\\xa4tool\\xa4name\\xacsql_db_query\\xa2id\\xd9$304d0bf9-843e-4577-8c93-5e77bc6a821c\\xactool_call_id\\xbdcall_jRIveXc2CXkKjsbzH77HCziM\\xa8artifact\\xc0\\xa6status\\xa7success\\xb3model_validate_json'))}, ('abc123', '', '1ef94e5d-32a1-6dcf-800a-6e124b6621db'): {('e2e967eb-e678-c4bb-5238-da5972d7aeff', 0): ('e2e967eb-e678-c4bb-5238-da5972d7aeff', 'agent', ('msgpack', b'\\xa5agent')), ('e2e967eb-e678-c4bb-5238-da5972d7aeff', 1): ('e2e967eb-e678-c4bb-5238-da5972d7aeff', 'messages', ('msgpack', b\"\\x91\\xc8\\x060\\x05\\x94\\xbalangchain_core.messages.ai\\xa9AIMessage\\x8a\\xa7content\\xda\\x02\\xeeHello Bhatti! Thank you for connecting. I'm here to help you evaluate the maturity of your department through a series of questions.\\n\\n### Purpose of the Assessment:\\n1. **Evaluate Department Maturity**: We'll assess various aspects of your department's processes and practices.\\n2. **What to Expect**: You'll answer a series of questions grouped by categories.\\n3. **Data Privacy**: Your responses will be saved for analysis, and your information will be kept confidential.\\n\\n### Categories Covered:\\nI'll be asking questions from different categories related to the technical architecture department.\\n\\nLet's get started! \\n\\n**Category 1: [Insert Category Name Here]**  \\nHere's your first question:  \\n[Insert Question Here]  \\n\\nPlease provide your response!\\xb1additional_kwargs\\x81\\xa7refusal\\xc0\\xb1response_metadata\\x87\\xabtoken_usage\\x85\\xb1completion_tokens\\xcc\\x94\\xadprompt_tokens\\xcd\\x03\\xdc\\xactotal_tokens\\xcd\\x04p\\xb9completion_tokens_details\\xc0\\xb5prompt_tokens_details\\xc0\\xaamodel_name\\xabgpt-4o-mini\\xb2system_fingerprint\\xadfp_d54531d9eb\\xb5prompt_filter_results\\x91\\x82\\xacprompt_index\\x00\\xb6content_filter_results\\x80\\xadfinish_reason\\xa4stop\\xa8logprobs\\xc0\\xb6content_filter_results\\x86\\xa4hate\\x82\\xa8filtered\\xc2\\xa8severity\\xa4safe\\xb7protected_material_code\\x82\\xa8filtered\\xc2\\xa8detected\\xc2\\xb7protected_material_text\\x82\\xa8filtered\\xc2\\xa8detected\\xc2\\xa9self_harm\\x82\\xa8filtered\\xc2\\xa8severity\\xa4safe\\xa6sexual\\x82\\xa8filtered\\xc2\\xa8severity\\xa4safe\\xa8violence\\x82\\xa8filtered\\xc2\\xa8severity\\xa4safe\\xa4type\\xa2ai\\xa4name\\xc0\\xa2id\\xd9*run-484d27d3-22c9-4d2a-a79f-4aefb594e6b8-0\\xa7example\\xc2\\xaatool_calls\\x90\\xb2invalid_tool_calls\\x90\\xaeusage_metadata\\x85\\xacinput_tokens\\xcd\\x03\\xdc\\xadoutput_tokens\\xcc\\x94\\xactotal_tokens\\xcd\\x04p\\xb3input_token_details\\x80\\xb4output_token_details\\x80\\xb3model_validate_json\"))}})}\n",
      "{'agent': {'messages': [AIMessage(content='', additional_kwargs={'tool_calls': [{'id': 'call_6GmANiLelQoLGdBo4MxKUWON', 'function': {'arguments': '{\"query\":\"SELECT Category, Question FROM CompanyDBTable1 WHERE Department = \\'technical architecture\\' ORDER BY Category;\"}', 'name': 'sql_db_query_checker'}, 'type': 'function'}], 'refusal': None}, response_metadata={'token_usage': {'completion_tokens': 35, 'prompt_tokens': 1164, 'total_tokens': 1199, 'completion_tokens_details': None, 'prompt_tokens_details': None}, 'model_name': 'gpt-4o-mini', 'system_fingerprint': 'fp_d54531d9eb', 'prompt_filter_results': [{'prompt_index': 0, 'content_filter_results': {}}], 'finish_reason': 'tool_calls', 'logprobs': None, 'content_filter_results': {}}, id='run-83416838-d872-4011-9d4e-bb4d66ca43c2-0', tool_calls=[{'name': 'sql_db_query_checker', 'args': {'query': \"SELECT Category, Question FROM CompanyDBTable1 WHERE Department = 'technical architecture' ORDER BY Category;\"}, 'id': 'call_6GmANiLelQoLGdBo4MxKUWON', 'type': 'tool_call'}], usage_metadata={'input_tokens': 1164, 'output_tokens': 35, 'total_tokens': 1199, 'input_token_details': {}, 'output_token_details': {}})]}}\n",
      "----\n",
      "{'tools': {'messages': [ToolMessage(content=\"```sql\\nSELECT Category, Question FROM CompanyDBTable1 WHERE Department = 'technical architecture' ORDER BY Category;\\n```\", name='sql_db_query_checker', id='cc8cd0f8-f9a1-4ab4-b68c-7d9e60c27b34', tool_call_id='call_6GmANiLelQoLGdBo4MxKUWON')]}}\n",
      "----\n",
      "{'agent': {'messages': [AIMessage(content='', additional_kwargs={'tool_calls': [{'id': 'call_uZkEkIMUscS9PQvOtaoZntwS', 'function': {'arguments': '{\"query\":\"SELECT Category, Question FROM CompanyDBTable1 WHERE Department = \\'technical architecture\\' ORDER BY Category;\"}', 'name': 'sql_db_query'}, 'type': 'function'}], 'refusal': None}, response_metadata={'token_usage': {'completion_tokens': 34, 'prompt_tokens': 1233, 'total_tokens': 1267, 'completion_tokens_details': None, 'prompt_tokens_details': None}, 'model_name': 'gpt-4o-mini', 'system_fingerprint': 'fp_d54531d9eb', 'prompt_filter_results': [{'prompt_index': 0, 'content_filter_results': {}}], 'finish_reason': 'tool_calls', 'logprobs': None, 'content_filter_results': {}}, id='run-f607cf16-d9ab-4fe0-8400-fd9dc7448ab2-0', tool_calls=[{'name': 'sql_db_query', 'args': {'query': \"SELECT Category, Question FROM CompanyDBTable1 WHERE Department = 'technical architecture' ORDER BY Category;\"}, 'id': 'call_uZkEkIMUscS9PQvOtaoZntwS', 'type': 'tool_call'}], usage_metadata={'input_tokens': 1233, 'output_tokens': 34, 'total_tokens': 1267, 'input_token_details': {}, 'output_token_details': {}})]}}\n",
      "----\n",
      "{'tools': {'messages': [ToolMessage(content='', name='sql_db_query', id='6e85211f-7633-43de-a1ca-ddc4b5ccc0ef', tool_call_id='call_uZkEkIMUscS9PQvOtaoZntwS')]}}\n",
      "----\n",
      "{'agent': {'messages': [AIMessage(content='It seems there was an issue retrieving the questions for the technical architecture department. Let me check the available categories and questions again. Please hold on for a moment.', additional_kwargs={'tool_calls': [{'id': 'call_a2RtLxidZ8I948ZznLYmfqD0', 'function': {'arguments': '{\"table_names\":\"CompanyDBTable1\"}', 'name': 'sql_db_schema'}, 'type': 'function'}], 'refusal': None}, response_metadata={'token_usage': {'completion_tokens': 52, 'prompt_tokens': 1276, 'total_tokens': 1328, 'completion_tokens_details': None, 'prompt_tokens_details': None}, 'model_name': 'gpt-4o-mini', 'system_fingerprint': 'fp_d54531d9eb', 'prompt_filter_results': [{'prompt_index': 0, 'content_filter_results': {}}], 'finish_reason': 'tool_calls', 'logprobs': None, 'content_filter_results': {'hate': {'filtered': False, 'severity': 'safe'}, 'self_harm': {'filtered': False, 'severity': 'safe'}, 'sexual': {'filtered': False, 'severity': 'safe'}, 'violence': {'filtered': False, 'severity': 'safe'}}}, id='run-fa8f9817-e49c-4435-b7de-2e5682d30a12-0', tool_calls=[{'name': 'sql_db_schema', 'args': {'table_names': 'CompanyDBTable1'}, 'id': 'call_a2RtLxidZ8I948ZznLYmfqD0', 'type': 'tool_call'}], usage_metadata={'input_tokens': 1276, 'output_tokens': 52, 'total_tokens': 1328, 'input_token_details': {}, 'output_token_details': {}})]}}\n",
      "----\n",
      "{'tools': {'messages': [ToolMessage(content='\\nCREATE TABLE \"CompanyDBTable1\" (\\n\\t\"Department\" TEXT, \\n\\t\"Category\" TEXT, \\n\\t\"Question\" TEXT\\n)\\n\\n/*\\n3 rows from CompanyDBTable1 table:\\nDepartment\\tCategory\\tQuestion\\nTechnical Architecture\\tData \\tDo you have any data Architecture Repository? Are data flows through the NW known and documented?\\nTechnical Architecture\\tData \\tAre all IT employees aware of data sensitivity? How is Data Management &  Data Governance is conduct\\nTechnical Architecture\\tApplication\\tDo you have any application Architecture Repository? Are all applications implemented are known and \\n*/', name='sql_db_schema', id='189889b6-3d56-443f-9d0d-da94a90884f0', tool_call_id='call_a2RtLxidZ8I948ZznLYmfqD0')]}}\n",
      "----\n",
      "{'agent': {'messages': [AIMessage(content=\"I've successfully retrieved the questions for the technical architecture department. \\n\\n### Categories Covered:\\n1. **Data**\\n2. **Application**\\n\\nLet's start with the first category: **Data**.\\n\\n**Question 1:**  \\nDo you have any data Architecture Repository? Are data flows through the network known and documented?\\n\\nPlease provide your response!\", additional_kwargs={'refusal': None}, response_metadata={'token_usage': {'completion_tokens': 67, 'prompt_tokens': 1456, 'total_tokens': 1523, 'completion_tokens_details': None, 'prompt_tokens_details': None}, 'model_name': 'gpt-4o-mini', 'system_fingerprint': 'fp_d54531d9eb', 'prompt_filter_results': [{'prompt_index': 0, 'content_filter_results': {}}], 'finish_reason': 'stop', 'logprobs': None, 'content_filter_results': {'hate': {'filtered': False, 'severity': 'safe'}, 'protected_material_code': {'filtered': False, 'detected': False}, 'protected_material_text': {'filtered': False, 'detected': False}, 'self_harm': {'filtered': False, 'severity': 'safe'}, 'sexual': {'filtered': False, 'severity': 'safe'}, 'violence': {'filtered': False, 'severity': 'safe'}}}, id='run-7ad4cc0e-6596-47d7-bf42-20d3b6accafe-0', usage_metadata={'input_tokens': 1456, 'output_tokens': 67, 'total_tokens': 1523, 'input_token_details': {}, 'output_token_details': {}})]}}\n",
      "----\n"
     ]
    }
   ],
   "source": [
    "config = {\"configurable\": {\"thread_id\": \"abc123\"}}\n",
    "\n",
    "\n",
    "query = \"my name is Bhatti, and I am from the technical architecture department, my email is batt@gmail.com\"\n",
    "print(agent_executor.checkpointer.__dict__)\n",
    "for s in agent_executor.stream(\n",
    "    {\"messages\": [HumanMessage(content=query)]}, config=config\n",
    "):\n",
    "    print(s)\n",
    "    print(\"----\")\n",
    "\n",
    "# result = agent_executor.stream(\n",
    "#     {\"messages\": [HumanMessage(content=\"Hi, my name is Abu bakar having email address abu@gmail.com, and I belong to Technical Architecture department\")]}\n",
    "# )"
   ]
  },
  {
   "cell_type": "code",
   "execution_count": 21,
   "metadata": {},
   "outputs": [
    {
     "name": "stdout",
     "output_type": "stream",
     "text": [
      "{'agent': {'messages': [AIMessage(content=\"I've successfully retrieved the questions for the technical architecture department. \\n\\n### Categories Covered:\\n1. **Data**\\n2. **Application**\\n\\nLet's start with the first category: **Data**.\\n\\n**Question 1:**  \\nDo you have any data Architecture Repository? Are data flows through the network known and documented?\\n\\nPlease provide your response!\", additional_kwargs={'refusal': None}, response_metadata={'token_usage': {'completion_tokens': 67, 'prompt_tokens': 1456, 'total_tokens': 1523, 'completion_tokens_details': None, 'prompt_tokens_details': None}, 'model_name': 'gpt-4o-mini', 'system_fingerprint': 'fp_d54531d9eb', 'prompt_filter_results': [{'prompt_index': 0, 'content_filter_results': {}}], 'finish_reason': 'stop', 'logprobs': None, 'content_filter_results': {'hate': {'filtered': False, 'severity': 'safe'}, 'protected_material_code': {'filtered': False, 'detected': False}, 'protected_material_text': {'filtered': False, 'detected': False}, 'self_harm': {'filtered': False, 'severity': 'safe'}, 'sexual': {'filtered': False, 'severity': 'safe'}, 'violence': {'filtered': False, 'severity': 'safe'}}}, id='run-7ad4cc0e-6596-47d7-bf42-20d3b6accafe-0', usage_metadata={'input_tokens': 1456, 'output_tokens': 67, 'total_tokens': 1523, 'input_token_details': {}, 'output_token_details': {}})]}}\n"
     ]
    }
   ],
   "source": [
    "print(s)"
   ]
  },
  {
   "cell_type": "code",
   "execution_count": 18,
   "metadata": {},
   "outputs": [
    {
     "data": {
      "text/plain": [
       "\"Hello Bhatti! Thank you for connecting. I'm here to help you evaluate the maturity of your department through a series of questions.\\n\\n### Purpose of the Assessment:\\n1. **Evaluate Department Maturity**: We'll assess various aspects of your department's processes and practices.\\n2. **What to Expect**: You'll answer a series of questions grouped by categories.\\n3. **Data Privacy**: Your responses will be saved for analysis, and your information will be kept confidential.\\n\\n### Categories Covered:\\nI'll be asking questions from different categories related to the technical architecture department.\\n\\nLet's get started! \\n\\n**Category 1: [Insert Category Name Here]**  \\nHere's your first question:  \\n[Insert Question Here]  \\n\\nPlease provide your response!\""
      ]
     },
     "execution_count": 18,
     "metadata": {},
     "output_type": "execute_result"
    }
   ],
   "source": [
    "question_content = s['agent']['messages'][0].content\n",
    "\n",
    "question_content"
   ]
  },
  {
   "cell_type": "code",
   "execution_count": 19,
   "metadata": {},
   "outputs": [
    {
     "ename": "TypeError",
     "evalue": "'AIMessage' object is not subscriptable",
     "output_type": "error",
     "traceback": [
      "\u001b[1;31m---------------------------------------------------------------------------\u001b[0m",
      "\u001b[1;31mTypeError\u001b[0m                                 Traceback (most recent call last)",
      "Cell \u001b[1;32mIn[19], line 1\u001b[0m\n\u001b[1;32m----> 1\u001b[0m \u001b[43ms\u001b[49m\u001b[43m[\u001b[49m\u001b[38;5;124;43m'\u001b[39;49m\u001b[38;5;124;43magent\u001b[39;49m\u001b[38;5;124;43m'\u001b[39;49m\u001b[43m]\u001b[49m\u001b[43m[\u001b[49m\u001b[38;5;124;43m'\u001b[39;49m\u001b[38;5;124;43mmessages\u001b[39;49m\u001b[38;5;124;43m'\u001b[39;49m\u001b[43m]\u001b[49m\u001b[43m[\u001b[49m\u001b[38;5;241;43m0\u001b[39;49m\u001b[43m]\u001b[49m\u001b[43m[\u001b[49m\u001b[38;5;124;43m'\u001b[39;49m\u001b[38;5;124;43mcontent\u001b[39;49m\u001b[38;5;124;43m'\u001b[39;49m\u001b[43m]\u001b[49m\n",
      "\u001b[1;31mTypeError\u001b[0m: 'AIMessage' object is not subscriptable"
     ]
    }
   ],
   "source": [
    "s['agent']['messages'][0]['content']"
   ]
  },
  {
   "cell_type": "code",
   "execution_count": 12,
   "metadata": {},
   "outputs": [
    {
     "name": "stdout",
     "output_type": "stream",
     "text": [
      "{'agent': {'messages': [AIMessage(content=\"Thank you for your response! \\n\\nHere's the next question in the **Application** category:\\n\\n**2. Are specialized applications experts assigned accordingly? Is there an implementation and life cycle process for new applications, and 2nd and 3rd level support?** \\n\\nWhat are your thoughts on this?\", additional_kwargs={'refusal': None}, response_metadata={'token_usage': {'completion_tokens': 61, 'prompt_tokens': 1174, 'total_tokens': 1235, 'completion_tokens_details': None, 'prompt_tokens_details': None}, 'model_name': 'gpt-4o-mini', 'system_fingerprint': 'fp_878413d04d', 'prompt_filter_results': [{'prompt_index': 0, 'content_filter_results': {}}], 'finish_reason': 'stop', 'logprobs': None, 'content_filter_results': {'hate': {'filtered': False, 'severity': 'safe'}, 'self_harm': {'filtered': False, 'severity': 'safe'}, 'sexual': {'filtered': False, 'severity': 'safe'}, 'violence': {'filtered': False, 'severity': 'safe'}}}, id='run-d1173018-3807-4c1b-a964-604b0ffb2602-0', usage_metadata={'input_tokens': 1174, 'output_tokens': 61, 'total_tokens': 1235, 'input_token_details': {}, 'output_token_details': {}})]}}\n",
      "----\n"
     ]
    }
   ],
   "source": [
    "config = {\"configurable\": {\"thread_id\": \"abc123\"}}\n",
    "\n",
    "\n",
    "query = \"Yes, we have applicaiton repository, and all applications implemented are known.\"\n",
    "\n",
    "for s in agent_executor.stream(\n",
    "    {\"messages\": [HumanMessage(content=query)]}, config=config\n",
    "):\n",
    "    print(s)\n",
    "    print(\"----\")\n"
   ]
  },
  {
   "cell_type": "code",
   "execution_count": 13,
   "metadata": {},
   "outputs": [
    {
     "name": "stdout",
     "output_type": "stream",
     "text": [
      "aiohappyeyeballs==2.4.3\n",
      "aiohttp==3.10.10\n",
      "aiosignal==1.3.1\n",
      "altair==5.4.1\n",
      "annotated-types==0.7.0\n",
      "anyio==4.6.2.post1\n",
      "asttokens==2.4.1\n",
      "attrs==24.2.0\n",
      "blinker==1.8.2\n",
      "cachetools==5.5.0\n",
      "certifi==2024.8.30\n",
      "charset-normalizer==3.4.0\n",
      "click==8.1.7\n",
      "colorama==0.4.6\n",
      "comm==0.2.2\n",
      "dataclasses-json==0.6.7\n",
      "debugpy==1.8.7\n",
      "decorator==5.1.1\n",
      "distro==1.9.0\n",
      "executing==2.1.0\n",
      "fastapi==0.115.3\n",
      "frozenlist==1.4.1\n",
      "gitdb==4.0.11\n",
      "GitPython==3.1.43\n",
      "greenlet==3.1.1\n",
      "h11==0.14.0\n",
      "httpcore==1.0.6\n",
      "httpx==0.27.2\n",
      "httpx-sse==0.4.0\n",
      "idna==3.10\n",
      "ipykernel==6.29.5\n",
      "ipython==8.28.0\n",
      "jedi==0.19.1\n",
      "Jinja2==3.1.4\n",
      "jiter==0.6.1\n",
      "jsonpatch==1.33\n",
      "jsonpointer==3.0.0\n",
      "jsonschema==4.23.0\n",
      "jsonschema-specifications==2024.10.1\n",
      "jupyter_client==8.6.3\n",
      "jupyter_core==5.7.2\n",
      "langchain==0.3.4\n",
      "langchain-community==0.3.3\n",
      "langchain-core==0.3.12\n",
      "langchain-openai==0.2.3\n",
      "langchain-text-splitters==0.3.0\n",
      "langgraph==0.2.39\n",
      "langgraph-checkpoint==2.0.1\n",
      "langgraph-sdk==0.1.33\n",
      "langsmith==0.1.136\n",
      "markdown-it-py==3.0.0\n",
      "MarkupSafe==3.0.2\n",
      "marshmallow==3.23.0\n",
      "matplotlib-inline==0.1.7\n",
      "mdurl==0.1.2\n",
      "msgpack==1.1.0\n",
      "multidict==6.1.0\n",
      "mypy-extensions==1.0.0\n",
      "narwhals==1.10.0\n",
      "nest-asyncio==1.6.0\n",
      "numpy==1.26.4\n",
      "openai==1.52.0\n",
      "orjson==3.10.9\n",
      "packaging==24.1\n",
      "pandas==2.2.3\n",
      "parso==0.8.4\n",
      "pillow==10.4.0\n",
      "platformdirs==4.3.6\n",
      "prompt_toolkit==3.0.48\n",
      "propcache==0.2.0\n",
      "protobuf==5.28.3\n",
      "psutil==6.1.0\n",
      "pure_eval==0.2.3\n",
      "pyarrow==17.0.0\n",
      "pydantic==2.9.2\n",
      "pydantic-settings==2.6.0\n",
      "pydantic_core==2.23.4\n",
      "pydeck==0.9.1\n",
      "Pygments==2.18.0\n",
      "python-dateutil==2.9.0.post0\n",
      "python-dotenv==1.0.1\n",
      "pytz==2024.2\n",
      "pywin32==308\n",
      "PyYAML==6.0.2\n",
      "pyzmq==26.2.0\n",
      "referencing==0.35.1\n",
      "regex==2024.9.11\n",
      "requests==2.32.3\n",
      "requests-toolbelt==1.0.0\n",
      "rich==13.9.3\n",
      "rpds-py==0.20.0\n",
      "six==1.16.0\n",
      "smmap==5.0.1\n",
      "sniffio==1.3.1\n",
      "SQLAlchemy==2.0.36\n",
      "stack-data==0.6.3\n",
      "starlette==0.41.0\n",
      "streamlit==1.39.0\n",
      "tenacity==9.0.0\n",
      "tiktoken==0.8.0\n",
      "toml==0.10.2\n",
      "tornado==6.4.1\n",
      "tqdm==4.66.5\n",
      "traitlets==5.14.3\n",
      "typing-inspect==0.9.0\n",
      "typing_extensions==4.12.2\n",
      "tzdata==2024.2\n",
      "urllib3==2.2.3\n",
      "watchdog==5.0.3\n",
      "wcwidth==0.2.13\n",
      "yarl==1.16.0\n",
      "Note: you may need to restart the kernel to use updated packages.\n"
     ]
    }
   ],
   "source": [
    "pip freeze"
   ]
  },
  {
   "cell_type": "code",
   "execution_count": 47,
   "metadata": {},
   "outputs": [
    {
     "name": "stdout",
     "output_type": "stream",
     "text": [
      "{'agent': {'messages': [AIMessage(content=\"Thank you for your response! It's good to know that specialized application experts are assigned and that you have a structured life cycle and support levels in place.\\n\\nNow, let's transition to the **Data** category. Here’s the first question:\\n\\n**Data:**  \\nDo you have any data Architecture Repository? Are data flows through the network known and documented?\", additional_kwargs={'refusal': None}, response_metadata={'token_usage': {'completion_tokens': 70, 'prompt_tokens': 1007, 'total_tokens': 1077, 'completion_tokens_details': None, 'prompt_tokens_details': None}, 'model_name': 'gpt-4o-mini', 'system_fingerprint': 'fp_878413d04d', 'prompt_filter_results': [{'prompt_index': 0, 'content_filter_results': {}}], 'finish_reason': 'stop', 'logprobs': None, 'content_filter_results': {'hate': {'filtered': False, 'severity': 'safe'}, 'protected_material_code': {'filtered': False, 'detected': False}, 'protected_material_text': {'filtered': False, 'detected': False}, 'self_harm': {'filtered': False, 'severity': 'safe'}, 'sexual': {'filtered': False, 'severity': 'safe'}, 'violence': {'filtered': False, 'severity': 'safe'}}}, id='run-7bc42fab-3e49-4882-b60a-367677903af2-0', usage_metadata={'input_tokens': 1007, 'output_tokens': 70, 'total_tokens': 1077, 'input_token_details': {}, 'output_token_details': {}})]}}\n",
      "----\n"
     ]
    }
   ],
   "source": [
    "query = \"Yes, spedialized applicaitons expterts are assinged accordinlgly.Life cycle is 3 months, we do have even 4th level support.\"\n",
    "\n",
    "for s in agent_executor.stream(\n",
    "    {\"messages\": [HumanMessage(content=query)]}, config=config\n",
    "):\n",
    "    print(s)\n",
    "    print(\"----\")"
   ]
  },
  {
   "cell_type": "code",
   "execution_count": 48,
   "metadata": {},
   "outputs": [
    {
     "name": "stdout",
     "output_type": "stream",
     "text": [
      "{'agent': {'messages': [AIMessage(content=\"That's excellent! Having a data architecture repository and documented data flows is crucial for effective data management.\\n\\nLet's move on to the next question in the **Data** category:\\n\\n**Data:**  \\nAre all IT employees aware of data sensitivity? How is Data Management & Data Governance conducted?\", additional_kwargs={'refusal': None}, response_metadata={'token_usage': {'completion_tokens': 56, 'prompt_tokens': 1105, 'total_tokens': 1161, 'completion_tokens_details': None, 'prompt_tokens_details': None}, 'model_name': 'gpt-4o-mini', 'system_fingerprint': 'fp_878413d04d', 'prompt_filter_results': [{'prompt_index': 0, 'content_filter_results': {}}], 'finish_reason': 'stop', 'logprobs': None, 'content_filter_results': {'hate': {'filtered': False, 'severity': 'safe'}, 'self_harm': {'filtered': False, 'severity': 'safe'}, 'sexual': {'filtered': False, 'severity': 'safe'}, 'violence': {'filtered': False, 'severity': 'safe'}}}, id='run-980fdf0f-eb63-4835-b9fc-781090518470-0', usage_metadata={'input_tokens': 1105, 'output_tokens': 56, 'total_tokens': 1161, 'input_token_details': {}, 'output_token_details': {}})]}}\n",
      "----\n"
     ]
    }
   ],
   "source": [
    "query = \"Yes. we do have architecture repository, and data flows through the network are known and are also documentned\"\n",
    "\n",
    "for s in agent_executor.stream(\n",
    "    {\"messages\": [HumanMessage(content=query)]}, config=config\n",
    "):\n",
    "    print(s)\n",
    "    print(\"----\")"
   ]
  },
  {
   "cell_type": "code",
   "execution_count": 49,
   "metadata": {},
   "outputs": [
    {
     "name": "stdout",
     "output_type": "stream",
     "text": [
      "{'agent': {'messages': [AIMessage(content=\"Thank you for your response! It's reassuring to know that all IT employees are aware of data sensitivity and that data management is handled by a secure third-party partner.\\n\\nNow, let's move on to the **Infrastructure** category. Here’s the first question:\\n\\n**Infrastructure:**  \\nDoes Infrastructure Architecture follow pre-defined blueprints and is it documented?\", additional_kwargs={'refusal': None}, response_metadata={'token_usage': {'completion_tokens': 68, 'prompt_tokens': 1190, 'total_tokens': 1258, 'completion_tokens_details': None, 'prompt_tokens_details': None}, 'model_name': 'gpt-4o-mini', 'system_fingerprint': 'fp_878413d04d', 'prompt_filter_results': [{'prompt_index': 0, 'content_filter_results': {}}], 'finish_reason': 'stop', 'logprobs': None, 'content_filter_results': {'hate': {'filtered': False, 'severity': 'safe'}, 'protected_material_code': {'filtered': False, 'detected': False}, 'protected_material_text': {'filtered': False, 'detected': False}, 'self_harm': {'filtered': False, 'severity': 'safe'}, 'sexual': {'filtered': False, 'severity': 'safe'}, 'violence': {'filtered': False, 'severity': 'safe'}}}, id='run-754bf891-929d-489b-8e53-9944947b4597-0', usage_metadata={'input_tokens': 1190, 'output_tokens': 68, 'total_tokens': 1258, 'input_token_details': {}, 'output_token_details': {}})]}}\n",
      "----\n"
     ]
    }
   ],
   "source": [
    "query = \"Yes, all employees are aware of the data sensitiviy and it is managed by a third party secure partner.\"\n",
    "\n",
    "for s in agent_executor.stream(\n",
    "    {\"messages\": [HumanMessage(content=query)]}, config=config\n",
    "):\n",
    "    print(s)\n",
    "    print(\"----\")"
   ]
  },
  {
   "cell_type": "code",
   "execution_count": 50,
   "metadata": {},
   "outputs": [
    {
     "name": "stdout",
     "output_type": "stream",
     "text": [
      "{'agent': {'messages': [AIMessage(content='Great to hear that your Infrastructure Architecture follows pre-defined blueprints and is well documented!\\n\\nNow, here’s the next question in the **Infrastructure** category:\\n\\n**Infrastructure:**  \\nHow is Infrastructure Management conducted? Does it follow international standards? Are there any standardization measures?', additional_kwargs={'refusal': None}, response_metadata={'token_usage': {'completion_tokens': 55, 'prompt_tokens': 1278, 'total_tokens': 1333, 'completion_tokens_details': None, 'prompt_tokens_details': None}, 'model_name': 'gpt-4o-mini', 'system_fingerprint': 'fp_878413d04d', 'prompt_filter_results': [{'prompt_index': 0, 'content_filter_results': {}}], 'finish_reason': 'stop', 'logprobs': None, 'content_filter_results': {'hate': {'filtered': False, 'severity': 'safe'}, 'self_harm': {'filtered': False, 'severity': 'safe'}, 'sexual': {'filtered': False, 'severity': 'safe'}, 'violence': {'filtered': False, 'severity': 'safe'}}}, id='run-6009c7c1-8669-4bc5-bc14-084ce18b3141-0', usage_metadata={'input_tokens': 1278, 'output_tokens': 55, 'total_tokens': 1333, 'input_token_details': {}, 'output_token_details': {}})]}}\n",
      "----\n"
     ]
    }
   ],
   "source": [
    "query = \"Yes, Infrastructure Architecture follow pre-defined blueprints and is documented?\"\n",
    "\n",
    "for s in agent_executor.stream(\n",
    "    {\"messages\": [HumanMessage(content=query)]}, config=config\n",
    "):\n",
    "    print(s)\n",
    "    print(\"----\")"
   ]
  },
  {
   "cell_type": "code",
   "execution_count": 51,
   "metadata": {},
   "outputs": [
    {
     "name": "stdout",
     "output_type": "stream",
     "text": [
      "{'agent': {'messages': [AIMessage(content=\"Thank you for your response! It's impressive that your Infrastructure Management adheres to international standards and has measures in place to track performance.\\n\\nThat concludes our maturity assessment for the Technical Architecture department. If you have any further questions or need assistance, feel free to ask!\", additional_kwargs={'refusal': None}, response_metadata={'token_usage': {'completion_tokens': 53, 'prompt_tokens': 1367, 'total_tokens': 1420, 'completion_tokens_details': None, 'prompt_tokens_details': None}, 'model_name': 'gpt-4o-mini', 'system_fingerprint': 'fp_878413d04d', 'prompt_filter_results': [{'prompt_index': 0, 'content_filter_results': {}}], 'finish_reason': 'stop', 'logprobs': None, 'content_filter_results': {'hate': {'filtered': False, 'severity': 'safe'}, 'self_harm': {'filtered': False, 'severity': 'safe'}, 'sexual': {'filtered': False, 'severity': 'safe'}, 'violence': {'filtered': False, 'severity': 'safe'}}}, id='run-e50b2a75-2be1-47e6-bdf3-e7ae789dbfa8-0', usage_metadata={'input_tokens': 1367, 'output_tokens': 53, 'total_tokens': 1420, 'input_token_details': {}, 'output_token_details': {}})]}}\n",
      "----\n"
     ]
    }
   ],
   "source": [
    "query = \"Yes, it follows international standards by applying all the standard rules. and there are many measures to track the overall performance of the architecture.\"\n",
    "\n",
    "for s in agent_executor.stream(\n",
    "    {\"messages\": [HumanMessage(content=query)]}, config=config\n",
    "):\n",
    "    print(s)\n",
    "    print(\"----\")"
   ]
  },
  {
   "cell_type": "code",
   "execution_count": 2,
   "metadata": {},
   "outputs": [
    {
     "ename": "NameError",
     "evalue": "name 'agent_executor' is not defined",
     "output_type": "error",
     "traceback": [
      "\u001b[1;31m---------------------------------------------------------------------------\u001b[0m",
      "\u001b[1;31mNameError\u001b[0m                                 Traceback (most recent call last)",
      "Cell \u001b[1;32mIn[2], line 1\u001b[0m\n\u001b[1;32m----> 1\u001b[0m \u001b[38;5;28;01mfor\u001b[39;00m s \u001b[38;5;129;01min\u001b[39;00m \u001b[43magent_executor\u001b[49m\u001b[38;5;241m.\u001b[39mstream(\n\u001b[0;32m      2\u001b[0m     {\u001b[38;5;124m\"\u001b[39m\u001b[38;5;124mmessages\u001b[39m\u001b[38;5;124m\"\u001b[39m: [HumanMessage(content\u001b[38;5;241m=\u001b[39m\u001b[38;5;124m\"\u001b[39m\u001b[38;5;124mHi, my name is Abu bakar having email address abu@gmail.com, and I belong to Technical Architecture department\u001b[39m\u001b[38;5;124m\"\u001b[39m)]}\n\u001b[0;32m      3\u001b[0m ):\n\u001b[0;32m      4\u001b[0m     \u001b[38;5;28mprint\u001b[39m(s)\n\u001b[0;32m      5\u001b[0m     \u001b[38;5;28mprint\u001b[39m(\u001b[38;5;124m\"\u001b[39m\u001b[38;5;124m----\u001b[39m\u001b[38;5;124m\"\u001b[39m)\n",
      "\u001b[1;31mNameError\u001b[0m: name 'agent_executor' is not defined"
     ]
    }
   ],
   "source": [
    "for s in agent_executor.stream(\n",
    "    {\"messages\": [HumanMessage(content=\"Hi, my name is Abu bakar having email address abu@gmail.com, and I belong to Technical Architecture department\")]}\n",
    "):\n",
    "    print(s)\n",
    "    print(\"----\")"
   ]
  },
  {
   "cell_type": "code",
   "execution_count": 15,
   "metadata": {},
   "outputs": [
    {
     "name": "stdout",
     "output_type": "stream",
     "text": [
      "{'agent': {'messages': [AIMessage(content=\"It seems like you're discussing your application architecture. To proceed with the maturity assessment, could you please provide me with your name, email, and department?\", additional_kwargs={'refusal': None}, response_metadata={'token_usage': {'completion_tokens': 31, 'prompt_tokens': 593, 'total_tokens': 624, 'completion_tokens_details': None, 'prompt_tokens_details': None}, 'model_name': 'gpt-4o-mini', 'system_fingerprint': 'fp_878413d04d', 'prompt_filter_results': [{'prompt_index': 0, 'content_filter_results': {}}], 'finish_reason': 'stop', 'logprobs': None, 'content_filter_results': {'hate': {'filtered': False, 'severity': 'safe'}, 'self_harm': {'filtered': False, 'severity': 'safe'}, 'sexual': {'filtered': False, 'severity': 'safe'}, 'violence': {'filtered': False, 'severity': 'safe'}}}, id='run-5c322427-f251-4f03-8591-f49ab9aa380c-0', usage_metadata={'input_tokens': 593, 'output_tokens': 31, 'total_tokens': 624, 'input_token_details': {}, 'output_token_details': {}})]}}\n",
      "----\n"
     ]
    }
   ],
   "source": [
    "for s in agent_executor.stream(\n",
    "    {\"messages\": [HumanMessage(content=\"Yes, we have application architecture repo, and all applications are implemented are known.\")]}\n",
    "):\n",
    "    print(s)\n",
    "    print(\"----\")"
   ]
  },
  {
   "cell_type": "code",
   "execution_count": null,
   "metadata": {},
   "outputs": [],
   "source": [
    "agent.stream(\n",
    "    {\"messages\": [HumanMessage(content=\"How many albums does alis in chain have?\")]}\n",
    "):"
   ]
  },
  {
   "cell_type": "code",
   "execution_count": 47,
   "metadata": {},
   "outputs": [],
   "source": [
    "# Your existing imports\n",
    "import requests\n",
    "from langchain_openai import AzureChatOpenAI\n",
    "# ... (rest of your imports)\n",
    "\n",
    "# Your existing code until the agent executor setup\n",
    "# ...\n",
    "\n",
    "# Modified agent execution code\n",
    "def process_chat(query: str):\n",
    "    # Initial message from user\n",
    "    query = query\n",
    "    \n",
    "    # First, create user in database\n",
    "    user_response = requests.post(\n",
    "        \"http://localhost:8000/users/\",\n",
    "        json={\"message\": query}\n",
    "    ).json()\n",
    "    user_id = user_response[\"user_id\"]\n",
    "    \n",
    "    # Now start the conversation\n",
    "    for s in agent_executor.stream(\n",
    "        {\"messages\": [HumanMessage(content=query)]}, \n",
    "        config=config\n",
    "    ):\n",
    "        if 'agent' in s and 'messages' in s['agent']:\n",
    "            message = s['agent']['messages'][0]\n",
    "            \n",
    "            # If this is a question from the bot (not intermediate processing)\n",
    "            if message.content and not message.additional_kwargs.get('tool_calls'):\n",
    "                print(\"Bot:\", message.content)\n",
    "                \n",
    "                # Get user's answer (in real scenario, this would come from user input)\n",
    "                user_answer = input(\"Your answer: \")\n",
    "                \n",
    "                # Save the response\n",
    "                response = requests.post(\n",
    "                    \"http://localhost:8000/responses/\",\n",
    "                    json={\n",
    "                        \"user_id\": user_id,\n",
    "                        \"bot_message\": message.content,\n",
    "                        \"user_answer\": user_answer\n",
    "                    }\n",
    "                )\n",
    "\n"
   ]
  },
  {
   "cell_type": "code",
   "execution_count": null,
   "metadata": {},
   "outputs": [],
   "source": [
    "# Your existing imports\n",
    "import requests\n",
    "from langchain_openai import AzureChatOpenAI\n",
    "# ... (rest of your imports)\n",
    "\n",
    "# Your existing code until the agent executor setup\n",
    "# ...\n",
    "\n",
    "# Modified agent execution code\n",
    "def process_chat(query: str):\n",
    "    # Initial message from user\n",
    "    query = query\n",
    "    \n",
    "    # First, create user in database\n",
    "    user_response = requests.post(\n",
    "        \"http://localhost:8000/users/\",\n",
    "        json={\"message\": query}\n",
    "    ).json()\n",
    "    user_id = user_response[\"user_id\"]\n",
    "    \n",
    "    # Now start the conversation\n",
    "    for s in agent_executor.stream(\n",
    "        {\"messages\": [HumanMessage(content=query)]}, \n",
    "        config=config\n",
    "    ):\n",
    "        if 'agent' in s and 'messages' in s['agent']:\n",
    "            message = s['agent']['messages'][0]\n",
    "            \n",
    "            # If this is a question from the bot (not intermediate processing)\n",
    "            if message.content and not message.additional_kwargs.get('tool_calls'):\n",
    "                print(\"Bot:\", message.content)\n",
    "                \n",
    "                # Get user's answer (in real scenario, this would come from user input)\n",
    "                user_answer = input(\"Your answer: \")\n",
    "                \n",
    "                # Save the response\n",
    "                response = requests.post(\n",
    "                    \"http://localhost:8000/responses/\",\n",
    "                    json={\n",
    "                        \"user_id\": user_id,\n",
    "                        \"bot_message\": message.content,\n",
    "                        \"user_answer\": user_answer\n",
    "                    }\n",
    "                )\n",
    "\n",
    "\n"
   ]
  },
  {
   "cell_type": "code",
   "execution_count": 48,
   "metadata": {},
   "outputs": [
    {
     "name": "stdout",
     "output_type": "stream",
     "text": [
      "Bot: Thank you, Hamza! Let's begin the maturity assessment for the Technical Architecture department. \n",
      "\n",
      "We'll start with the **Application** category. Here’s the first question:\n",
      "\n",
      "**Application:**  \n",
      "Do you have any application Architecture Repository? Are all applications implemented known and documented? Are self-developed applications in place? If yes, how are these managed?\n"
     ]
    }
   ],
   "source": [
    "# Run the chat process\n",
    "process_chat(\"Hi, my name is Hamza having email address hamza@gmail.com, and I belong to Technical Architecture department\")"
   ]
  },
  {
   "cell_type": "code",
   "execution_count": null,
   "metadata": {},
   "outputs": [],
   "source": []
  }
 ],
 "metadata": {
  "kernelspec": {
   "display_name": ".venv",
   "language": "python",
   "name": "python3"
  },
  "language_info": {
   "codemirror_mode": {
    "name": "ipython",
    "version": 3
   },
   "file_extension": ".py",
   "mimetype": "text/x-python",
   "name": "python",
   "nbconvert_exporter": "python",
   "pygments_lexer": "ipython3",
   "version": "3.12.1"
  }
 },
 "nbformat": 4,
 "nbformat_minor": 2
}
